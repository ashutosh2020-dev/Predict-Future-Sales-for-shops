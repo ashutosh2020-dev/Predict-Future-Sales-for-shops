{
 "cells": [
  {
   "cell_type": "markdown",
   "metadata": {
    "id": "ta2s4uxGJm_2"
   },
   "source": [
    "### File descriptions\n",
    "  - sales_train.csv - the training set. Daily historical data from January 2013 to October 2015.\n",
    "\n",
    "   - test.csv - the test set. You need to forecast the sales for these shops and products for November 2015.\n",
    "    \n",
    "   - sample_submission.csv - a sample submission file in the correct format.\n",
    "    \n",
    "   - items.csv - supplemental information about the items/products.\n",
    "\n",
    "   - item_categories.csv  - supplemental information about the items categories.\n",
    "\n",
    "   - shops.csv- supplemental information about the shops.\n",
    "\n",
    "### Data fields\n",
    "    \n",
    "   - ID - an Id that represents a (Shop, Item) tuple within the test set\n",
    "    \n",
    "   - shop_id - unique identifier of a shop\n",
    "    \n",
    "   - item_id - unique identifier of a product\n",
    "    \n",
    "   - item_category_id - unique identifier of item category\n",
    "    \n",
    "   - item_cnt_day - number of products sold. You are predicting a monthly amount of this measure\n",
    "    \n",
    "   - item_price - current price of an item\n",
    "    \n",
    "   - date - date in format dd/mm/yyyy\n",
    "    \n",
    "   > date_block_num - a consecutive month number, used for convenience. January 2013 is 0, February 2013 is 1,..., October 2015 is 33\n",
    "    \n",
    " > item_name - name of item\n",
    "    \n",
    " > shop_name - name of shop\n",
    "    \n",
    " > item_category_name - name of item category"
   ]
  },
  {
   "cell_type": "markdown",
   "metadata": {
    "id": "y3NqQ2GcJm_8"
   },
   "source": [
    "# modeling\n",
    "\n",
    "\n",
    "\n",
    "."
   ]
  },
  {
   "cell_type": "markdown",
   "metadata": {
    "id": "s_QCV4N3Jm_9"
   },
   "source": [
    "### dependency"
   ]
  },
  {
   "cell_type": "code",
   "execution_count": 1,
   "metadata": {
    "colab": {
     "base_uri": "https://localhost:8080/",
     "height": 0
    },
    "id": "K1VOJzx8oA5m",
    "outputId": "cf0503e0-d91c-442a-9a5f-c434d7969beb"
   },
   "outputs": [],
   "source": [
    "# !wget --header=\"Host: doc-0k-08-docs.googleusercontent.com\" --header=\"User-Agent: Mozilla/5.0 (Windows NT 10.0; Win64; x64) AppleWebKit/537.36 (KHTML, like Gecko) Chrome/105.0.0.0 Safari/537.36\" --header=\"Accept: text/html,application/xhtml+xml,application/xml;q=0.9,image/avif,image/webp,image/apng,*/*;q=0.8,application/signed-exchange;v=b3;q=0.9\" --header=\"Accept-Language: en,en-US;q=0.9,la;q=0.8\" --header=\"Cookie: AUTH_lk5fjgpbp18bqieek1pcsgkahe0h7fu9_nonce=gpsgkpq28grs0\" --header=\"Connection: keep-alive\" \"https://doc-0k-08-docs.googleusercontent.com/docs/securesc/jj451hn0ufa0ajs0a6h05q64j1ja68qm/s2to8qvg5clstgeoj142dl458ur0cqrl/1664485125000/11035158053459451988/11035158053459451988/1pkJqgHDdpHR-IEorEdxr--eG46R8nlRd?e=download&ax=ALW9-sCus1bwkHtqzHFHsroSPfuGgiXkMRqbbjeTUL9FsT-1Z2qqy3eapETxO92w_3emZgZ5DdEKJI1wVAudLeKZsdDcz7jqFnNSI_QoGtWijUtMSiyLSZcLvFjolyeSmm9H8KlbeVtY-vbgp1_8nCRoWdz0Eg_xa5x14l4KNMmtS2r1rPNvpGiAQTAk-yZ6lUdZVcuW6X5HJU4oXyTzITcLc0oEMs5jIhizCJyEb5RiIsBHHMKRxWUyEmIucw4-EIZHoWKum2F9SalLslh5njnHeiU8vVq4pRIMd3EoRpkjBkFSi6zstgSK_mHDarIPrOAtlAG-TM0o_qRDaMcdhmb9wK8UiUrU0N5r_YFOJxOUxGSPhBekDWC7x2LKV7D3YF6hUa_aQisI2nx3C7eWnWpRdU-Dog_2tP7rL1A27s99j4r24NyvS7YsIv8IwvzQqAftnPKen91pomh5dL72VVMw5qZyYPfVYVlcp9A_0oiOXBy_bZlL7zZPTW1bLODWOVOZh1-B5nXbGFFyrh7WMv4czuOz3E0G9-gGQAazApLkj1zVtYG-llLPV2VfNM8ThBggalrakxJboKQK2myt5NmzRuNpSsdhPF0Wxj6RD7UegukUImr6Ev86HLHTS5YlKcAR63OGyfpcA5OTN34YP5rj-kl_ZF5KKHBQBHRHSH9UWLTDonN4WqU8M2BIdIUjJpji95mPio-0y00Nx77nIbLDly4jCQjxUPGcw2rv4SGsd9yYMvMLqxLeS6pY4xPV07YtA8tMlYHVEV4pOE3v7G1AeNCfOMgHzmXmhd1MpTuMBbtXbNYS5x8a1TrHvB3R&uuid=61466b95-bedd-42dc-8dd1-5f2fb8bb875a&authuser=1&nonce=gpsgkpq28grs0&user=11035158053459451988&hash=ek67hk0ee2atuisubh7nrg83do8svhf6\" -c -O 'data.pkl'"
   ]
  },
  {
   "cell_type": "code",
   "execution_count": null,
   "metadata": {
    "id": "eks0rfy8xdY-"
   },
   "outputs": [],
   "source": []
  },
  {
   "cell_type": "code",
   "execution_count": 2,
   "metadata": {
    "id": "wHU4In5GJm_-"
   },
   "outputs": [],
   "source": [
    "import pandas as pd\n",
    "import numpy as np\n",
    "import matplotlib.pyplot as plt\n",
    "import seaborn as sns\n",
    "import pdb \n",
    "\n",
    "import time\n",
    "from itertools import product\n",
    "import warnings\n",
    "import pickle\n",
    "import gc\n",
    "\n",
    "from sklearn.metrics import mean_squared_error\n",
    "\n",
    "from tqdm import tqdm"
   ]
  },
  {
   "cell_type": "markdown",
   "metadata": {
    "id": "66BdmYk_JnAA"
   },
   "source": [
    "# 1. Data Reading"
   ]
  },
  {
   "cell_type": "code",
   "execution_count": 3,
   "metadata": {
    "colab": {
     "base_uri": "https://localhost:8080/",
     "height": 0
    },
    "id": "M9echPLUxNbq",
    "outputId": "8bb532b6-3c13-4124-ad0e-b08a6f570142"
   },
   "outputs": [],
   "source": [
    "# !pip3 install pickle5\n"
   ]
  },
  {
   "cell_type": "code",
   "execution_count": 4,
   "metadata": {
    "id": "Df27G59rowp4"
   },
   "outputs": [],
   "source": [
    "# import pickle5 as pickle\n",
    "# with open('/content/data.pkl', \"rb\") as fh: \n",
    "#   data = pickle.load(fh)"
   ]
  },
  {
   "cell_type": "code",
   "execution_count": 5,
   "metadata": {
    "id": "HBoCzHFdJnAB"
   },
   "outputs": [],
   "source": [
    "data = pd.read_pickle('data.pkl')\n"
   ]
  },
  {
   "cell_type": "code",
   "execution_count": 6,
   "metadata": {
    "colab": {
     "base_uri": "https://localhost:8080/",
     "height": 0
    },
    "id": "DEkXizsLJnAC",
    "outputId": "381c7da0-f05f-40e7-ed58-77a99a901897"
   },
   "outputs": [
    {
     "data": {
      "text/plain": [
       "Index(['date_block_num', 'shop_id', 'item_id', 'item_cnt_month', 'ID',\n",
       "       'item_cnt_month_lag_1', 'item_cnt_month_lag_2', 'item_cnt_month_lag_3',\n",
       "       'item_cnt_month_lag_6', 'item_cnt_month_lag_12',\n",
       "       'date_avg_item_cnt_lag_1', 'date_item_avg_item_cnt_lag_1',\n",
       "       'date_item_avg_item_cnt_lag_2', 'date_item_avg_item_cnt_lag_3',\n",
       "       'date_item_avg_item_cnt_lag_6', 'date_item_avg_item_cnt_lag_12',\n",
       "       'date_shop_avg_item_cnt_lag_1', 'date_shop_avg_item_cnt_lag_2',\n",
       "       'date_shop_avg_item_cnt_lag_3', 'date_shop_avg_item_cnt_lag_6',\n",
       "       'date_shop_avg_item_cnt_lag_12', 'item_category_id',\n",
       "       'date_cat_avg_item_cnt_lag_1', 'month', 'days'],\n",
       "      dtype='object')"
      ]
     },
     "execution_count": 6,
     "metadata": {},
     "output_type": "execute_result"
    }
   ],
   "source": [
    "data.columns"
   ]
  },
  {
   "cell_type": "code",
   "execution_count": 7,
   "metadata": {
    "id": "oVY_16bbJnAD"
   },
   "outputs": [],
   "source": [
    "data = data[['date_block_num', 'shop_id', 'item_id', 'item_cnt_month',\n",
    "       'item_cnt_month_lag_1', 'item_cnt_month_lag_2', 'item_cnt_month_lag_3',\n",
    "       'item_cnt_month_lag_6', 'item_cnt_month_lag_12',\n",
    "       'date_avg_item_cnt_lag_1', 'date_item_avg_item_cnt_lag_1',\n",
    "       'date_item_avg_item_cnt_lag_2', 'date_item_avg_item_cnt_lag_3',\n",
    "       'date_item_avg_item_cnt_lag_6', 'date_item_avg_item_cnt_lag_12',\n",
    "       'date_shop_avg_item_cnt_lag_1', 'date_shop_avg_item_cnt_lag_2',\n",
    "       'date_shop_avg_item_cnt_lag_3', 'date_shop_avg_item_cnt_lag_6',\n",
    "       'date_shop_avg_item_cnt_lag_12', 'item_category_id',\n",
    "       'date_cat_avg_item_cnt_lag_1', 'month', 'days']]"
   ]
  },
  {
   "cell_type": "code",
   "execution_count": 8,
   "metadata": {
    "colab": {
     "base_uri": "https://localhost:8080/",
     "height": 0
    },
    "id": "29OMjAKQJnAE",
    "outputId": "8411aa95-f38f-4b01-c4d5-e7a1967ccb91"
   },
   "outputs": [
    {
     "name": "stdout",
     "output_type": "stream",
     "text": [
      "<class 'pandas.core.frame.DataFrame'>\n",
      "Int64Index: 29478600 entries, 15962400 to 45440999\n",
      "Data columns (total 24 columns):\n",
      " #   Column                         Dtype  \n",
      "---  ------                         -----  \n",
      " 0   date_block_num                 int32  \n",
      " 1   shop_id                        int32  \n",
      " 2   item_id                        int32  \n",
      " 3   item_cnt_month                 float16\n",
      " 4   item_cnt_month_lag_1           float16\n",
      " 5   item_cnt_month_lag_2           float16\n",
      " 6   item_cnt_month_lag_3           float16\n",
      " 7   item_cnt_month_lag_6           float16\n",
      " 8   item_cnt_month_lag_12          float16\n",
      " 9   date_avg_item_cnt_lag_1        float16\n",
      " 10  date_item_avg_item_cnt_lag_1   float16\n",
      " 11  date_item_avg_item_cnt_lag_2   float16\n",
      " 12  date_item_avg_item_cnt_lag_3   float16\n",
      " 13  date_item_avg_item_cnt_lag_6   float16\n",
      " 14  date_item_avg_item_cnt_lag_12  float16\n",
      " 15  date_shop_avg_item_cnt_lag_1   float16\n",
      " 16  date_shop_avg_item_cnt_lag_2   float16\n",
      " 17  date_shop_avg_item_cnt_lag_3   float16\n",
      " 18  date_shop_avg_item_cnt_lag_6   float16\n",
      " 19  date_shop_avg_item_cnt_lag_12  float16\n",
      " 20  item_category_id               int64  \n",
      " 21  date_cat_avg_item_cnt_lag_1    float16\n",
      " 22  month                          int32  \n",
      " 23  days                           int8   \n",
      "dtypes: float16(18), int32(4), int64(1), int8(1)\n",
      "memory usage: 1.9 GB\n"
     ]
    }
   ],
   "source": [
    "data.info()"
   ]
  },
  {
   "cell_type": "code",
   "execution_count": 9,
   "metadata": {
    "colab": {
     "base_uri": "https://localhost:8080/",
     "height": 205
    },
    "id": "f25oZp01JnAF",
    "outputId": "c47a57ab-9a56-4646-c568-fa98a7663922"
   },
   "outputs": [
    {
     "data": {
      "text/html": [
       "<div>\n",
       "<style scoped>\n",
       "    .dataframe tbody tr th:only-of-type {\n",
       "        vertical-align: middle;\n",
       "    }\n",
       "\n",
       "    .dataframe tbody tr th {\n",
       "        vertical-align: top;\n",
       "    }\n",
       "\n",
       "    .dataframe thead th {\n",
       "        text-align: right;\n",
       "    }\n",
       "</style>\n",
       "<table border=\"1\" class=\"dataframe\">\n",
       "  <thead>\n",
       "    <tr style=\"text-align: right;\">\n",
       "      <th></th>\n",
       "      <th>date_block_num</th>\n",
       "      <th>shop_id</th>\n",
       "      <th>item_id</th>\n",
       "      <th>item_cnt_month</th>\n",
       "      <th>item_cnt_month_lag_1</th>\n",
       "      <th>item_cnt_month_lag_2</th>\n",
       "      <th>item_cnt_month_lag_3</th>\n",
       "      <th>item_cnt_month_lag_6</th>\n",
       "      <th>item_cnt_month_lag_12</th>\n",
       "      <th>date_avg_item_cnt_lag_1</th>\n",
       "      <th>...</th>\n",
       "      <th>date_item_avg_item_cnt_lag_12</th>\n",
       "      <th>date_shop_avg_item_cnt_lag_1</th>\n",
       "      <th>date_shop_avg_item_cnt_lag_2</th>\n",
       "      <th>date_shop_avg_item_cnt_lag_3</th>\n",
       "      <th>date_shop_avg_item_cnt_lag_6</th>\n",
       "      <th>date_shop_avg_item_cnt_lag_12</th>\n",
       "      <th>item_category_id</th>\n",
       "      <th>date_cat_avg_item_cnt_lag_1</th>\n",
       "      <th>month</th>\n",
       "      <th>days</th>\n",
       "    </tr>\n",
       "  </thead>\n",
       "  <tbody>\n",
       "    <tr>\n",
       "      <th>38575680</th>\n",
       "      <td>28</td>\n",
       "      <td>59</td>\n",
       "      <td>22050</td>\n",
       "      <td>0.0</td>\n",
       "      <td>0.0</td>\n",
       "      <td>1.0</td>\n",
       "      <td>0.0</td>\n",
       "      <td>1.0</td>\n",
       "      <td>0.0</td>\n",
       "      <td>0.057648</td>\n",
       "      <td>...</td>\n",
       "      <td>0.133301</td>\n",
       "      <td>0.047577</td>\n",
       "      <td>0.054321</td>\n",
       "      <td>0.054535</td>\n",
       "      <td>0.072815</td>\n",
       "      <td>0.053589</td>\n",
       "      <td>40</td>\n",
       "      <td>0.035400</td>\n",
       "      <td>4</td>\n",
       "      <td>31</td>\n",
       "    </tr>\n",
       "    <tr>\n",
       "      <th>30914703</th>\n",
       "      <td>23</td>\n",
       "      <td>14</td>\n",
       "      <td>9723</td>\n",
       "      <td>0.0</td>\n",
       "      <td>0.0</td>\n",
       "      <td>0.0</td>\n",
       "      <td>0.0</td>\n",
       "      <td>0.0</td>\n",
       "      <td>0.0</td>\n",
       "      <td>0.088745</td>\n",
       "      <td>...</td>\n",
       "      <td>0.000000</td>\n",
       "      <td>0.073181</td>\n",
       "      <td>0.053406</td>\n",
       "      <td>0.057739</td>\n",
       "      <td>0.053009</td>\n",
       "      <td>0.088318</td>\n",
       "      <td>40</td>\n",
       "      <td>0.049103</td>\n",
       "      <td>11</td>\n",
       "      <td>31</td>\n",
       "    </tr>\n",
       "  </tbody>\n",
       "</table>\n",
       "<p>2 rows × 24 columns</p>\n",
       "</div>"
      ],
      "text/plain": [
       "          date_block_num  shop_id  item_id  item_cnt_month  \\\n",
       "38575680              28       59    22050             0.0   \n",
       "30914703              23       14     9723             0.0   \n",
       "\n",
       "          item_cnt_month_lag_1  item_cnt_month_lag_2  item_cnt_month_lag_3  \\\n",
       "38575680                   0.0                   1.0                   0.0   \n",
       "30914703                   0.0                   0.0                   0.0   \n",
       "\n",
       "          item_cnt_month_lag_6  item_cnt_month_lag_12  \\\n",
       "38575680                   1.0                    0.0   \n",
       "30914703                   0.0                    0.0   \n",
       "\n",
       "          date_avg_item_cnt_lag_1  ...  date_item_avg_item_cnt_lag_12  \\\n",
       "38575680                 0.057648  ...                       0.133301   \n",
       "30914703                 0.088745  ...                       0.000000   \n",
       "\n",
       "          date_shop_avg_item_cnt_lag_1  date_shop_avg_item_cnt_lag_2  \\\n",
       "38575680                      0.047577                      0.054321   \n",
       "30914703                      0.073181                      0.053406   \n",
       "\n",
       "          date_shop_avg_item_cnt_lag_3  date_shop_avg_item_cnt_lag_6  \\\n",
       "38575680                      0.054535                      0.072815   \n",
       "30914703                      0.057739                      0.053009   \n",
       "\n",
       "          date_shop_avg_item_cnt_lag_12  item_category_id  \\\n",
       "38575680                       0.053589                40   \n",
       "30914703                       0.088318                40   \n",
       "\n",
       "          date_cat_avg_item_cnt_lag_1  month  days  \n",
       "38575680                     0.035400      4    31  \n",
       "30914703                     0.049103     11    31  \n",
       "\n",
       "[2 rows x 24 columns]"
      ]
     },
     "execution_count": 9,
     "metadata": {},
     "output_type": "execute_result"
    }
   ],
   "source": [
    "data.sample(2)"
   ]
  },
  {
   "cell_type": "markdown",
   "metadata": {
    "id": "R-LRYJxMJnAF"
   },
   "source": [
    "### data preprocessing"
   ]
  },
  {
   "cell_type": "markdown",
   "metadata": {
    "id": "CRE6oGY8JnAG"
   },
   "source": [
    "**one hot encoding**"
   ]
  },
  {
   "cell_type": "code",
   "execution_count": 10,
   "metadata": {
    "id": "Rh-lHDGEJnAG"
   },
   "outputs": [],
   "source": [
    "# creating ohe through dummies value approach\n",
    "# ref:- https://towardsdatascience.com/categorical-encoding-using-label-encoding-and-one-hot-encoder-911ef77fb5bd\n",
    "\n",
    "\n",
    "bridge_df = data[['shop_id']]\n",
    "\n",
    "# generate binary values using get_dummies\n",
    "dum_df = pd.get_dummies(data[['shop_id']], columns=[\"shop_id\"], prefix=[\"shop_id\"] )\n",
    "\n",
    "\n",
    "# merge with main df bridge_df on key values\n",
    "# bridge_df = bridge_df.join(dum_df)\n",
    "# bridge_df.head()\n",
    "\n",
    "# Bridge_Type values encoded using dummies approach\n",
    "# Conclusion\n",
    "# It is important to understand various option for encoding categorical variables because each approach has its own pros and cons. In data science, it is an important step, so I really encourage you to keep these ideas in mind when dealing with categorical variables. For any suggestion or for more details on the code used in this article, feel free to comment.\n",
    "\n"
   ]
  },
  {
   "cell_type": "code",
   "execution_count": 11,
   "metadata": {
    "colab": {
     "base_uri": "https://localhost:8080/",
     "height": 0
    },
    "id": "vG81Gu5uJnAH",
    "outputId": "27dfc0a8-65fc-4a3c-ca10-5b3547b67ba5"
   },
   "outputs": [
    {
     "name": "stdout",
     "output_type": "stream",
     "text": [
      "Wall time: 0 ns\n"
     ]
    }
   ],
   "source": [
    "%%time\n",
    "\n",
    "# data = data.join(dum_df)"
   ]
  },
  {
   "cell_type": "code",
   "execution_count": 12,
   "metadata": {
    "colab": {
     "base_uri": "https://localhost:8080/",
     "height": 300
    },
    "id": "Mc_vY0asJnAH",
    "outputId": "6aae9ea4-8847-4121-8922-a7fd56f8722d"
   },
   "outputs": [
    {
     "data": {
      "text/html": [
       "<div>\n",
       "<style scoped>\n",
       "    .dataframe tbody tr th:only-of-type {\n",
       "        vertical-align: middle;\n",
       "    }\n",
       "\n",
       "    .dataframe tbody tr th {\n",
       "        vertical-align: top;\n",
       "    }\n",
       "\n",
       "    .dataframe thead th {\n",
       "        text-align: right;\n",
       "    }\n",
       "</style>\n",
       "<table border=\"1\" class=\"dataframe\">\n",
       "  <thead>\n",
       "    <tr style=\"text-align: right;\">\n",
       "      <th></th>\n",
       "      <th>date_block_num</th>\n",
       "      <th>shop_id</th>\n",
       "      <th>item_id</th>\n",
       "      <th>item_cnt_month</th>\n",
       "      <th>item_cnt_month_lag_1</th>\n",
       "      <th>item_cnt_month_lag_2</th>\n",
       "      <th>item_cnt_month_lag_3</th>\n",
       "      <th>item_cnt_month_lag_6</th>\n",
       "      <th>item_cnt_month_lag_12</th>\n",
       "      <th>date_avg_item_cnt_lag_1</th>\n",
       "      <th>...</th>\n",
       "      <th>date_item_avg_item_cnt_lag_12</th>\n",
       "      <th>date_shop_avg_item_cnt_lag_1</th>\n",
       "      <th>date_shop_avg_item_cnt_lag_2</th>\n",
       "      <th>date_shop_avg_item_cnt_lag_3</th>\n",
       "      <th>date_shop_avg_item_cnt_lag_6</th>\n",
       "      <th>date_shop_avg_item_cnt_lag_12</th>\n",
       "      <th>item_category_id</th>\n",
       "      <th>date_cat_avg_item_cnt_lag_1</th>\n",
       "      <th>month</th>\n",
       "      <th>days</th>\n",
       "    </tr>\n",
       "  </thead>\n",
       "  <tbody>\n",
       "    <tr>\n",
       "      <th>15962400</th>\n",
       "      <td>12</td>\n",
       "      <td>0</td>\n",
       "      <td>0</td>\n",
       "      <td>0.0</td>\n",
       "      <td>0.0</td>\n",
       "      <td>0.0</td>\n",
       "      <td>0.0</td>\n",
       "      <td>0.0</td>\n",
       "      <td>0.0</td>\n",
       "      <td>0.13623</td>\n",
       "      <td>...</td>\n",
       "      <td>0.0</td>\n",
       "      <td>0.0</td>\n",
       "      <td>0.0</td>\n",
       "      <td>0.0</td>\n",
       "      <td>0.0</td>\n",
       "      <td>0.251709</td>\n",
       "      <td>40</td>\n",
       "      <td>0.094788</td>\n",
       "      <td>0</td>\n",
       "      <td>31</td>\n",
       "    </tr>\n",
       "    <tr>\n",
       "      <th>15962401</th>\n",
       "      <td>12</td>\n",
       "      <td>0</td>\n",
       "      <td>1</td>\n",
       "      <td>0.0</td>\n",
       "      <td>0.0</td>\n",
       "      <td>0.0</td>\n",
       "      <td>0.0</td>\n",
       "      <td>0.0</td>\n",
       "      <td>0.0</td>\n",
       "      <td>0.13623</td>\n",
       "      <td>...</td>\n",
       "      <td>0.0</td>\n",
       "      <td>0.0</td>\n",
       "      <td>0.0</td>\n",
       "      <td>0.0</td>\n",
       "      <td>0.0</td>\n",
       "      <td>0.251709</td>\n",
       "      <td>76</td>\n",
       "      <td>0.009460</td>\n",
       "      <td>0</td>\n",
       "      <td>31</td>\n",
       "    </tr>\n",
       "    <tr>\n",
       "      <th>15962402</th>\n",
       "      <td>12</td>\n",
       "      <td>0</td>\n",
       "      <td>2</td>\n",
       "      <td>0.0</td>\n",
       "      <td>0.0</td>\n",
       "      <td>0.0</td>\n",
       "      <td>0.0</td>\n",
       "      <td>0.0</td>\n",
       "      <td>0.0</td>\n",
       "      <td>0.13623</td>\n",
       "      <td>...</td>\n",
       "      <td>0.0</td>\n",
       "      <td>0.0</td>\n",
       "      <td>0.0</td>\n",
       "      <td>0.0</td>\n",
       "      <td>0.0</td>\n",
       "      <td>0.251709</td>\n",
       "      <td>40</td>\n",
       "      <td>0.094788</td>\n",
       "      <td>0</td>\n",
       "      <td>31</td>\n",
       "    </tr>\n",
       "    <tr>\n",
       "      <th>15962403</th>\n",
       "      <td>12</td>\n",
       "      <td>0</td>\n",
       "      <td>3</td>\n",
       "      <td>0.0</td>\n",
       "      <td>0.0</td>\n",
       "      <td>0.0</td>\n",
       "      <td>0.0</td>\n",
       "      <td>0.0</td>\n",
       "      <td>0.0</td>\n",
       "      <td>0.13623</td>\n",
       "      <td>...</td>\n",
       "      <td>0.0</td>\n",
       "      <td>0.0</td>\n",
       "      <td>0.0</td>\n",
       "      <td>0.0</td>\n",
       "      <td>0.0</td>\n",
       "      <td>0.251709</td>\n",
       "      <td>40</td>\n",
       "      <td>0.094788</td>\n",
       "      <td>0</td>\n",
       "      <td>31</td>\n",
       "    </tr>\n",
       "    <tr>\n",
       "      <th>15962404</th>\n",
       "      <td>12</td>\n",
       "      <td>0</td>\n",
       "      <td>4</td>\n",
       "      <td>0.0</td>\n",
       "      <td>0.0</td>\n",
       "      <td>0.0</td>\n",
       "      <td>0.0</td>\n",
       "      <td>0.0</td>\n",
       "      <td>0.0</td>\n",
       "      <td>0.13623</td>\n",
       "      <td>...</td>\n",
       "      <td>0.0</td>\n",
       "      <td>0.0</td>\n",
       "      <td>0.0</td>\n",
       "      <td>0.0</td>\n",
       "      <td>0.0</td>\n",
       "      <td>0.251709</td>\n",
       "      <td>40</td>\n",
       "      <td>0.094788</td>\n",
       "      <td>0</td>\n",
       "      <td>31</td>\n",
       "    </tr>\n",
       "  </tbody>\n",
       "</table>\n",
       "<p>5 rows × 24 columns</p>\n",
       "</div>"
      ],
      "text/plain": [
       "          date_block_num  shop_id  item_id  item_cnt_month  \\\n",
       "15962400              12        0        0             0.0   \n",
       "15962401              12        0        1             0.0   \n",
       "15962402              12        0        2             0.0   \n",
       "15962403              12        0        3             0.0   \n",
       "15962404              12        0        4             0.0   \n",
       "\n",
       "          item_cnt_month_lag_1  item_cnt_month_lag_2  item_cnt_month_lag_3  \\\n",
       "15962400                   0.0                   0.0                   0.0   \n",
       "15962401                   0.0                   0.0                   0.0   \n",
       "15962402                   0.0                   0.0                   0.0   \n",
       "15962403                   0.0                   0.0                   0.0   \n",
       "15962404                   0.0                   0.0                   0.0   \n",
       "\n",
       "          item_cnt_month_lag_6  item_cnt_month_lag_12  \\\n",
       "15962400                   0.0                    0.0   \n",
       "15962401                   0.0                    0.0   \n",
       "15962402                   0.0                    0.0   \n",
       "15962403                   0.0                    0.0   \n",
       "15962404                   0.0                    0.0   \n",
       "\n",
       "          date_avg_item_cnt_lag_1  ...  date_item_avg_item_cnt_lag_12  \\\n",
       "15962400                  0.13623  ...                            0.0   \n",
       "15962401                  0.13623  ...                            0.0   \n",
       "15962402                  0.13623  ...                            0.0   \n",
       "15962403                  0.13623  ...                            0.0   \n",
       "15962404                  0.13623  ...                            0.0   \n",
       "\n",
       "          date_shop_avg_item_cnt_lag_1  date_shop_avg_item_cnt_lag_2  \\\n",
       "15962400                           0.0                           0.0   \n",
       "15962401                           0.0                           0.0   \n",
       "15962402                           0.0                           0.0   \n",
       "15962403                           0.0                           0.0   \n",
       "15962404                           0.0                           0.0   \n",
       "\n",
       "          date_shop_avg_item_cnt_lag_3  date_shop_avg_item_cnt_lag_6  \\\n",
       "15962400                           0.0                           0.0   \n",
       "15962401                           0.0                           0.0   \n",
       "15962402                           0.0                           0.0   \n",
       "15962403                           0.0                           0.0   \n",
       "15962404                           0.0                           0.0   \n",
       "\n",
       "          date_shop_avg_item_cnt_lag_12  item_category_id  \\\n",
       "15962400                       0.251709                40   \n",
       "15962401                       0.251709                76   \n",
       "15962402                       0.251709                40   \n",
       "15962403                       0.251709                40   \n",
       "15962404                       0.251709                40   \n",
       "\n",
       "          date_cat_avg_item_cnt_lag_1  month  days  \n",
       "15962400                     0.094788      0    31  \n",
       "15962401                     0.009460      0    31  \n",
       "15962402                     0.094788      0    31  \n",
       "15962403                     0.094788      0    31  \n",
       "15962404                     0.094788      0    31  \n",
       "\n",
       "[5 rows x 24 columns]"
      ]
     },
     "execution_count": 12,
     "metadata": {},
     "output_type": "execute_result"
    }
   ],
   "source": [
    "data.head()"
   ]
  },
  {
   "cell_type": "markdown",
   "metadata": {
    "id": "jQpZlsyHJnAH"
   },
   "source": [
    "**Validation strategy -** \n",
    "\n",
    "we have 34 month data and based on that we have to pridict next month data.\n",
    "so in order to make new features we have to remove initial 12 month data,\n",
    "now we left with 22 month data which is still very large to process in small systems.\n",
    "so we again remove 8 month data and \n",
    "\n",
    "final data is recent 14 month data and based on that  we have to predict next month data for each shop keeper.\n",
    "\n",
    "\n",
    "- 20-33 months for the train.\n",
    "- 33 month for the validation set and \n",
    "- 34 month for the test set.\n",
    "\n",
    "\n",
    "\n"
   ]
  },
  {
   "cell_type": "code",
   "execution_count": 13,
   "metadata": {
    "id": "EQ1yoskOJnAI"
   },
   "outputs": [],
   "source": [
    "# reducing size\n",
    "data = data[data.date_block_num > 20] "
   ]
  },
  {
   "cell_type": "code",
   "execution_count": 14,
   "metadata": {
    "colab": {
     "base_uri": "https://localhost:8080/",
     "height": 0
    },
    "id": "FCbYIZADJnAI",
    "outputId": "69a50444-e465-4bc7-c41d-a69cc7bd4377"
   },
   "outputs": [
    {
     "data": {
      "text/plain": [
       "(17506800, 24)"
      ]
     },
     "execution_count": 14,
     "metadata": {},
     "output_type": "execute_result"
    }
   ],
   "source": [
    "data.shape"
   ]
  },
  {
   "cell_type": "code",
   "execution_count": null,
   "metadata": {
    "id": "-MDCBnrJJnAJ"
   },
   "outputs": [],
   "source": []
  },
  {
   "cell_type": "code",
   "execution_count": 15,
   "metadata": {
    "id": "qnk_9xzTJnAJ"
   },
   "outputs": [],
   "source": [
    "X_train = data[(data.date_block_num > 19)& (data.date_block_num < 33)].drop(['item_cnt_month'], axis=1)\n",
    "Y_train = data[data.date_block_num < 33]['item_cnt_month']\n",
    "X_valid = data[data.date_block_num == 33].drop(['item_cnt_month'], axis=1)\n",
    "Y_valid = data[data.date_block_num == 33]['item_cnt_month']\n",
    "X_test = data[data.date_block_num == 34].drop(['item_cnt_month'], axis=1)"
   ]
  },
  {
   "cell_type": "code",
   "execution_count": 16,
   "metadata": {
    "colab": {
     "base_uri": "https://localhost:8080/",
     "height": 0
    },
    "id": "SALlJCoFJnAK",
    "outputId": "2c3072ea-7723-4bd9-fd37-8cdca6a7f8a8"
   },
   "outputs": [
    {
     "data": {
      "text/plain": [
       "((15962400, 23), (1330200, 23), (214200, 23))"
      ]
     },
     "execution_count": 16,
     "metadata": {},
     "output_type": "execute_result"
    }
   ],
   "source": [
    "X_train.shape, X_valid.shape,X_test.shape"
   ]
  },
  {
   "cell_type": "code",
   "execution_count": 17,
   "metadata": {
    "colab": {
     "base_uri": "https://localhost:8080/",
     "height": 300
    },
    "id": "-z_hkdF_JnAK",
    "outputId": "36c6bd6f-7423-4134-f10c-44de5faf1789",
    "scrolled": true
   },
   "outputs": [
    {
     "data": {
      "text/html": [
       "<div>\n",
       "<style scoped>\n",
       "    .dataframe tbody tr th:only-of-type {\n",
       "        vertical-align: middle;\n",
       "    }\n",
       "\n",
       "    .dataframe tbody tr th {\n",
       "        vertical-align: top;\n",
       "    }\n",
       "\n",
       "    .dataframe thead th {\n",
       "        text-align: right;\n",
       "    }\n",
       "</style>\n",
       "<table border=\"1\" class=\"dataframe\">\n",
       "  <thead>\n",
       "    <tr style=\"text-align: right;\">\n",
       "      <th></th>\n",
       "      <th>date_block_num</th>\n",
       "      <th>shop_id</th>\n",
       "      <th>item_id</th>\n",
       "      <th>item_cnt_month_lag_1</th>\n",
       "      <th>item_cnt_month_lag_2</th>\n",
       "      <th>item_cnt_month_lag_3</th>\n",
       "      <th>item_cnt_month_lag_6</th>\n",
       "      <th>item_cnt_month_lag_12</th>\n",
       "      <th>date_avg_item_cnt_lag_1</th>\n",
       "      <th>date_item_avg_item_cnt_lag_1</th>\n",
       "      <th>...</th>\n",
       "      <th>date_item_avg_item_cnt_lag_12</th>\n",
       "      <th>date_shop_avg_item_cnt_lag_1</th>\n",
       "      <th>date_shop_avg_item_cnt_lag_2</th>\n",
       "      <th>date_shop_avg_item_cnt_lag_3</th>\n",
       "      <th>date_shop_avg_item_cnt_lag_6</th>\n",
       "      <th>date_shop_avg_item_cnt_lag_12</th>\n",
       "      <th>item_category_id</th>\n",
       "      <th>date_cat_avg_item_cnt_lag_1</th>\n",
       "      <th>month</th>\n",
       "      <th>days</th>\n",
       "    </tr>\n",
       "  </thead>\n",
       "  <tbody>\n",
       "    <tr>\n",
       "      <th>27934200</th>\n",
       "      <td>21</td>\n",
       "      <td>0</td>\n",
       "      <td>0</td>\n",
       "      <td>0.0</td>\n",
       "      <td>0.0</td>\n",
       "      <td>0.0</td>\n",
       "      <td>0.0</td>\n",
       "      <td>0.0</td>\n",
       "      <td>0.074768</td>\n",
       "      <td>0.016663</td>\n",
       "      <td>...</td>\n",
       "      <td>0.0</td>\n",
       "      <td>0.0</td>\n",
       "      <td>0.0</td>\n",
       "      <td>0.0</td>\n",
       "      <td>0.0</td>\n",
       "      <td>0.0</td>\n",
       "      <td>40</td>\n",
       "      <td>0.042297</td>\n",
       "      <td>9</td>\n",
       "      <td>31</td>\n",
       "    </tr>\n",
       "    <tr>\n",
       "      <th>27934201</th>\n",
       "      <td>21</td>\n",
       "      <td>0</td>\n",
       "      <td>1</td>\n",
       "      <td>0.0</td>\n",
       "      <td>0.0</td>\n",
       "      <td>0.0</td>\n",
       "      <td>0.0</td>\n",
       "      <td>0.0</td>\n",
       "      <td>0.074768</td>\n",
       "      <td>0.016663</td>\n",
       "      <td>...</td>\n",
       "      <td>0.0</td>\n",
       "      <td>0.0</td>\n",
       "      <td>0.0</td>\n",
       "      <td>0.0</td>\n",
       "      <td>0.0</td>\n",
       "      <td>0.0</td>\n",
       "      <td>76</td>\n",
       "      <td>0.013367</td>\n",
       "      <td>9</td>\n",
       "      <td>31</td>\n",
       "    </tr>\n",
       "    <tr>\n",
       "      <th>27934202</th>\n",
       "      <td>21</td>\n",
       "      <td>0</td>\n",
       "      <td>2</td>\n",
       "      <td>0.0</td>\n",
       "      <td>0.0</td>\n",
       "      <td>0.0</td>\n",
       "      <td>0.0</td>\n",
       "      <td>0.0</td>\n",
       "      <td>0.074768</td>\n",
       "      <td>0.000000</td>\n",
       "      <td>...</td>\n",
       "      <td>0.0</td>\n",
       "      <td>0.0</td>\n",
       "      <td>0.0</td>\n",
       "      <td>0.0</td>\n",
       "      <td>0.0</td>\n",
       "      <td>0.0</td>\n",
       "      <td>40</td>\n",
       "      <td>0.042297</td>\n",
       "      <td>9</td>\n",
       "      <td>31</td>\n",
       "    </tr>\n",
       "    <tr>\n",
       "      <th>27934203</th>\n",
       "      <td>21</td>\n",
       "      <td>0</td>\n",
       "      <td>3</td>\n",
       "      <td>0.0</td>\n",
       "      <td>0.0</td>\n",
       "      <td>0.0</td>\n",
       "      <td>0.0</td>\n",
       "      <td>0.0</td>\n",
       "      <td>0.074768</td>\n",
       "      <td>0.000000</td>\n",
       "      <td>...</td>\n",
       "      <td>0.0</td>\n",
       "      <td>0.0</td>\n",
       "      <td>0.0</td>\n",
       "      <td>0.0</td>\n",
       "      <td>0.0</td>\n",
       "      <td>0.0</td>\n",
       "      <td>40</td>\n",
       "      <td>0.042297</td>\n",
       "      <td>9</td>\n",
       "      <td>31</td>\n",
       "    </tr>\n",
       "    <tr>\n",
       "      <th>27934204</th>\n",
       "      <td>21</td>\n",
       "      <td>0</td>\n",
       "      <td>4</td>\n",
       "      <td>0.0</td>\n",
       "      <td>0.0</td>\n",
       "      <td>0.0</td>\n",
       "      <td>0.0</td>\n",
       "      <td>0.0</td>\n",
       "      <td>0.074768</td>\n",
       "      <td>0.016663</td>\n",
       "      <td>...</td>\n",
       "      <td>0.0</td>\n",
       "      <td>0.0</td>\n",
       "      <td>0.0</td>\n",
       "      <td>0.0</td>\n",
       "      <td>0.0</td>\n",
       "      <td>0.0</td>\n",
       "      <td>40</td>\n",
       "      <td>0.042297</td>\n",
       "      <td>9</td>\n",
       "      <td>31</td>\n",
       "    </tr>\n",
       "  </tbody>\n",
       "</table>\n",
       "<p>5 rows × 23 columns</p>\n",
       "</div>"
      ],
      "text/plain": [
       "          date_block_num  shop_id  item_id  item_cnt_month_lag_1  \\\n",
       "27934200              21        0        0                   0.0   \n",
       "27934201              21        0        1                   0.0   \n",
       "27934202              21        0        2                   0.0   \n",
       "27934203              21        0        3                   0.0   \n",
       "27934204              21        0        4                   0.0   \n",
       "\n",
       "          item_cnt_month_lag_2  item_cnt_month_lag_3  item_cnt_month_lag_6  \\\n",
       "27934200                   0.0                   0.0                   0.0   \n",
       "27934201                   0.0                   0.0                   0.0   \n",
       "27934202                   0.0                   0.0                   0.0   \n",
       "27934203                   0.0                   0.0                   0.0   \n",
       "27934204                   0.0                   0.0                   0.0   \n",
       "\n",
       "          item_cnt_month_lag_12  date_avg_item_cnt_lag_1  \\\n",
       "27934200                    0.0                 0.074768   \n",
       "27934201                    0.0                 0.074768   \n",
       "27934202                    0.0                 0.074768   \n",
       "27934203                    0.0                 0.074768   \n",
       "27934204                    0.0                 0.074768   \n",
       "\n",
       "          date_item_avg_item_cnt_lag_1  ...  date_item_avg_item_cnt_lag_12  \\\n",
       "27934200                      0.016663  ...                            0.0   \n",
       "27934201                      0.016663  ...                            0.0   \n",
       "27934202                      0.000000  ...                            0.0   \n",
       "27934203                      0.000000  ...                            0.0   \n",
       "27934204                      0.016663  ...                            0.0   \n",
       "\n",
       "          date_shop_avg_item_cnt_lag_1  date_shop_avg_item_cnt_lag_2  \\\n",
       "27934200                           0.0                           0.0   \n",
       "27934201                           0.0                           0.0   \n",
       "27934202                           0.0                           0.0   \n",
       "27934203                           0.0                           0.0   \n",
       "27934204                           0.0                           0.0   \n",
       "\n",
       "          date_shop_avg_item_cnt_lag_3  date_shop_avg_item_cnt_lag_6  \\\n",
       "27934200                           0.0                           0.0   \n",
       "27934201                           0.0                           0.0   \n",
       "27934202                           0.0                           0.0   \n",
       "27934203                           0.0                           0.0   \n",
       "27934204                           0.0                           0.0   \n",
       "\n",
       "          date_shop_avg_item_cnt_lag_12  item_category_id  \\\n",
       "27934200                            0.0                40   \n",
       "27934201                            0.0                76   \n",
       "27934202                            0.0                40   \n",
       "27934203                            0.0                40   \n",
       "27934204                            0.0                40   \n",
       "\n",
       "          date_cat_avg_item_cnt_lag_1  month  days  \n",
       "27934200                     0.042297      9    31  \n",
       "27934201                     0.013367      9    31  \n",
       "27934202                     0.042297      9    31  \n",
       "27934203                     0.042297      9    31  \n",
       "27934204                     0.042297      9    31  \n",
       "\n",
       "[5 rows x 23 columns]"
      ]
     },
     "execution_count": 17,
     "metadata": {},
     "output_type": "execute_result"
    }
   ],
   "source": [
    "X_train.head()"
   ]
  },
  {
   "cell_type": "code",
   "execution_count": 18,
   "metadata": {
    "colab": {
     "base_uri": "https://localhost:8080/",
     "height": 0
    },
    "id": "jvJDCr0VJnAK",
    "outputId": "68adc5e4-6266-42fc-fec1-afde5697b9b3"
   },
   "outputs": [
    {
     "data": {
      "text/plain": [
       "20"
      ]
     },
     "execution_count": 18,
     "metadata": {},
     "output_type": "execute_result"
    }
   ],
   "source": [
    "# del data\n",
    "gc.collect()"
   ]
  },
  {
   "cell_type": "markdown",
   "metadata": {
    "id": "J5Q4DjUMJnAL"
   },
   "source": [
    "# 2. Model training and evalution\n",
    " "
   ]
  },
  {
   "cell_type": "markdown",
   "metadata": {
    "id": "WNqv8FXiJnAL"
   },
   "source": [
    "### 2.1 models and hypertuning"
   ]
  },
  {
   "cell_type": "code",
   "execution_count": 19,
   "metadata": {
    "id": "J-RAyyRGJnAL"
   },
   "outputs": [
    {
     "name": "stdout",
     "output_type": "stream",
     "text": [
      "Requirement already satisfied: catboost in c:\\programdata\\anaconda3\\lib\\site-packages (1.0.6)\n",
      "Requirement already satisfied: numpy>=1.16.0 in c:\\programdata\\anaconda3\\lib\\site-packages (from catboost) (1.22.3)\n",
      "Requirement already satisfied: scipy in c:\\programdata\\anaconda3\\lib\\site-packages (from catboost) (1.5.2)\n",
      "Requirement already satisfied: matplotlib in c:\\programdata\\anaconda3\\lib\\site-packages (from catboost) (3.3.2)\n",
      "Requirement already satisfied: plotly in c:\\programdata\\anaconda3\\lib\\site-packages (from catboost) (5.6.0)\n",
      "Requirement already satisfied: graphviz in c:\\programdata\\anaconda3\\lib\\site-packages (from catboost) (0.20)\n",
      "Requirement already satisfied: pandas>=0.24.0 in c:\\programdata\\anaconda3\\lib\\site-packages (from catboost) (1.1.3)\n",
      "Requirement already satisfied: six in c:\\programdata\\anaconda3\\lib\\site-packages (from catboost) (1.15.0)\n",
      "Requirement already satisfied: cycler>=0.10 in c:\\programdata\\anaconda3\\lib\\site-packages (from matplotlib->catboost) (0.10.0)\n",
      "Requirement already satisfied: pyparsing!=2.0.4,!=2.1.2,!=2.1.6,>=2.0.3 in c:\\programdata\\anaconda3\\lib\\site-packages (from matplotlib->catboost) (2.4.7)\n",
      "Requirement already satisfied: certifi>=2020.06.20 in c:\\programdata\\anaconda3\\lib\\site-packages (from matplotlib->catboost) (2020.6.20)\n",
      "Requirement already satisfied: kiwisolver>=1.0.1 in c:\\programdata\\anaconda3\\lib\\site-packages (from matplotlib->catboost) (1.3.0)\n",
      "Requirement already satisfied: pillow>=6.2.0 in c:\\programdata\\anaconda3\\lib\\site-packages (from matplotlib->catboost) (8.0.1)\n",
      "Requirement already satisfied: python-dateutil>=2.1 in c:\\programdata\\anaconda3\\lib\\site-packages (from matplotlib->catboost) (2.8.1)\n",
      "Requirement already satisfied: tenacity>=6.2.0 in c:\\programdata\\anaconda3\\lib\\site-packages (from plotly->catboost) (8.0.1)\n",
      "Requirement already satisfied: pytz>=2017.2 in c:\\programdata\\anaconda3\\lib\\site-packages (from pandas>=0.24.0->catboost) (2020.1)\n"
     ]
    }
   ],
   "source": [
    "from sklearn.linear_model import LinearRegression\n",
    "from sklearn.metrics import mean_squared_error\n",
    "from sklearn.ensemble import GradientBoostingRegressor\n",
    "from sklearn import linear_model\n",
    "from sklearn.tree import DecisionTreeRegressor\n",
    "from tqdm import tqdm\n",
    "from sklearn.svm import SVR\n",
    "from xgboost import XGBRegressor\n",
    "from sklearn.ensemble import RandomForestRegressor\n",
    "import lightgbm as lgb\n",
    "from catboost import CatBoostRegressor\n",
    "import warnings\n",
    "\n",
    "!pip install catboost \n",
    "# !pip install lightgbm "
   ]
  },
  {
   "cell_type": "code",
   "execution_count": 20,
   "metadata": {
    "colab": {
     "base_uri": "https://localhost:8080/",
     "height": 0
    },
    "id": "56apobBzJnAM",
    "outputId": "3f0c7455-eca8-4a43-8ba9-b94a8d651d65"
   },
   "outputs": [
    {
     "name": "stdout",
     "output_type": "stream",
     "text": [
      "pip 20.2.4 from C:\\ProgramData\\Anaconda3\\lib\\site-packages\\pip (python 3.8)\n",
      "\n",
      "Note: you may need to restart the kernel to use updated packages.\n"
     ]
    }
   ],
   "source": [
    "pip --version"
   ]
  },
  {
   "cell_type": "markdown",
   "metadata": {
    "id": "CLpsYk_OJnAM"
   },
   "source": [
    "#### **CatBoostRegressor**\n",
    "\n",
    "CatBoost is an algorithm for gradient boosting on decision trees. It is developed by Yandex researchers and engineers, and is used for search, recommendation systems, personal assistant, self-driving cars, weather prediction and many other tasks.\n",
    "\n",
    "**why we choose**\n",
    "\n",
    "so we have high cardinality categorical data so we are using catBoostRegressor model which will take care of this problem "
   ]
  },
  {
   "cell_type": "markdown",
   "metadata": {
    "id": "QebMi7XuJnAN"
   },
   "source": [
    "**hyperparameter tuning**"
   ]
  },
  {
   "cell_type": "code",
   "execution_count": 59,
   "metadata": {
    "colab": {
     "base_uri": "https://localhost:8080/",
     "height": 0
    },
    "id": "Ahn8-otXJnAN",
    "outputId": "7ceb653b-f228-4099-ad14-b8bb5d42bcb9"
   },
   "outputs": [
    {
     "name": "stdout",
     "output_type": "stream",
     "text": [
      "0:\tlearn: 1.5257298\ttotal: 1s\tremaining: 5.01s\n",
      "1:\tlearn: 1.5256744\ttotal: 1.79s\tremaining: 3.59s\n",
      "2:\tlearn: 1.5256191\ttotal: 2.59s\tremaining: 2.59s\n",
      "3:\tlearn: 1.5255636\ttotal: 3.39s\tremaining: 1.69s\n",
      "4:\tlearn: 1.5255081\ttotal: 4.18s\tremaining: 836ms\n",
      "5:\tlearn: 1.5254527\ttotal: 4.98s\tremaining: 0us\n",
      "depth =  3 learning rate = 0.0001 train loss-  2.3270058770638262 Test loss - 1.3135068350164396\n",
      "0:\tlearn: 1.5252305\ttotal: 938ms\tremaining: 4.69s\n",
      "1:\tlearn: 1.5246777\ttotal: 1.73s\tremaining: 3.46s\n",
      "2:\tlearn: 1.5241246\ttotal: 2.52s\tremaining: 2.52s\n",
      "3:\tlearn: 1.5235724\ttotal: 3.31s\tremaining: 1.65s\n",
      "4:\tlearn: 1.5230211\ttotal: 4.11s\tremaining: 821ms\n",
      "5:\tlearn: 1.5224706\ttotal: 4.91s\tremaining: 0us\n",
      "depth =  3 learning rate = 0.001 train loss-  2.3179167079054124 Test loss - 1.3072321086847007\n",
      "0:\tlearn: 1.5202528\ttotal: 902ms\tremaining: 4.51s\n",
      "1:\tlearn: 1.5148132\ttotal: 1.7s\tremaining: 3.41s\n",
      "2:\tlearn: 1.5094592\ttotal: 2.51s\tremaining: 2.51s\n",
      "3:\tlearn: 1.5041749\ttotal: 3.29s\tremaining: 1.64s\n",
      "4:\tlearn: 1.4989743\ttotal: 4.07s\tremaining: 813ms\n",
      "5:\tlearn: 1.4938561\ttotal: 4.86s\tremaining: 0us\n",
      "depth =  3 learning rate = 0.01 train loss-  2.2316061888988616 Test loss - 1.2481592196822282\n",
      "0:\tlearn: 1.4720288\ttotal: 904ms\tremaining: 4.52s\n",
      "1:\tlearn: 1.4264952\ttotal: 1.7s\tremaining: 3.39s\n",
      "2:\tlearn: 1.3867609\ttotal: 2.49s\tremaining: 2.49s\n",
      "3:\tlearn: 1.3535044\ttotal: 3.34s\tremaining: 1.67s\n",
      "4:\tlearn: 1.3210884\ttotal: 4.14s\tremaining: 828ms\n",
      "5:\tlearn: 1.2936432\ttotal: 4.92s\tremaining: 0us\n",
      "depth =  3 learning rate = 0.1 train loss-  1.6735128563809563 Test loss - 0.9310247592496443\n"
     ]
    },
    {
     "name": "stderr",
     "output_type": "stream",
     "text": [
      "learning rate is greater than 1. You probably need to decrease learning rate.\n",
      "learning rate is greater than 1. You probably need to decrease learning rate.\n",
      "learning rate is greater than 1. You probably need to decrease learning rate.\n"
     ]
    },
    {
     "name": "stdout",
     "output_type": "stream",
     "text": [
      "0:\tlearn: 8.2026698\ttotal: 912ms\tremaining: 4.56s\n",
      "1:\tlearn: 70.3974538\ttotal: 1.7s\tremaining: 3.4s\n",
      "2:\tlearn: 610.9439873\ttotal: 2.48s\tremaining: 2.48s\n",
      "3:\tlearn: 5305.7764945\ttotal: 3.26s\tremaining: 1.63s\n",
      "4:\tlearn: 46105.1213147\ttotal: 4.03s\tremaining: 806ms\n",
      "5:\tlearn: 400877.7063201\ttotal: 4.82s\tremaining: 0us\n",
      "depth =  3 learning rate = 10 train loss-  160702935426.60013 Test loss - 137257450577.50526\n",
      "0:\tlearn: 1.5257239\ttotal: 1.19s\tremaining: 5.95s\n",
      "1:\tlearn: 1.5256616\ttotal: 2.25s\tremaining: 4.49s\n",
      "2:\tlearn: 1.5255994\ttotal: 3.29s\tremaining: 3.29s\n",
      "3:\tlearn: 1.5255371\ttotal: 4.34s\tremaining: 2.17s\n",
      "4:\tlearn: 1.5254747\ttotal: 5.42s\tremaining: 1.08s\n",
      "5:\tlearn: 1.5254136\ttotal: 6.48s\tremaining: 0us\n",
      "depth =  8 learning rate = 0.0001 train loss-  2.3268866243412076 Test loss - 1.313594177159108\n",
      "0:\tlearn: 1.5251716\ttotal: 1.18s\tremaining: 5.92s\n",
      "1:\tlearn: 1.5245492\ttotal: 2.25s\tremaining: 4.5s\n",
      "2:\tlearn: 1.5239291\ttotal: 3.33s\tremaining: 3.33s\n",
      "3:\tlearn: 1.5233082\ttotal: 4.41s\tremaining: 2.2s\n",
      "4:\tlearn: 1.5226872\ttotal: 5.47s\tremaining: 1.09s\n",
      "5:\tlearn: 1.5220790\ttotal: 6.51s\tremaining: 0us\n",
      "depth =  8 learning rate = 0.001 train loss-  2.3167245390028253 Test loss - 1.3081043342500809\n",
      "0:\tlearn: 1.5196597\ttotal: 1.22s\tremaining: 6.09s\n",
      "1:\tlearn: 1.5135130\ttotal: 2.29s\tremaining: 4.59s\n",
      "2:\tlearn: 1.5074563\ttotal: 3.35s\tremaining: 3.35s\n",
      "3:\tlearn: 1.5014616\ttotal: 4.41s\tremaining: 2.2s\n",
      "4:\tlearn: 1.4955912\ttotal: 5.51s\tremaining: 1.1s\n",
      "5:\tlearn: 1.4894568\ttotal: 7s\tremaining: 0us\n",
      "depth =  8 learning rate = 0.01 train loss-  2.218481440356348 Test loss - 1.255116489724534\n",
      "0:\tlearn: 1.4657033\ttotal: 1.18s\tremaining: 5.91s\n",
      "1:\tlearn: 1.4102012\ttotal: 2.33s\tremaining: 4.67s\n",
      "2:\tlearn: 1.3622669\ttotal: 3.56s\tremaining: 3.56s\n",
      "3:\tlearn: 1.3185881\ttotal: 4.59s\tremaining: 2.29s\n",
      "4:\tlearn: 1.2770767\ttotal: 5.94s\tremaining: 1.19s\n",
      "5:\tlearn: 1.2437797\ttotal: 7.05s\tremaining: 0us\n",
      "depth =  8 learning rate = 0.1 train loss-  1.5469878350448083 Test loss - 0.9162322660734662\n"
     ]
    },
    {
     "name": "stderr",
     "output_type": "stream",
     "text": [
      "learning rate is greater than 1. You probably need to decrease learning rate.\n",
      "learning rate is greater than 1. You probably need to decrease learning rate.\n",
      "learning rate is greater than 1. You probably need to decrease learning rate.\n"
     ]
    },
    {
     "name": "stdout",
     "output_type": "stream",
     "text": [
      "0:\tlearn: 7.7037606\ttotal: 1.2s\tremaining: 5.97s\n",
      "1:\tlearn: 58.0871029\ttotal: 2.25s\tremaining: 4.5s\n",
      "2:\tlearn: 464.5251595\ttotal: 3.31s\tremaining: 3.31s\n",
      "3:\tlearn: 3827.1055624\ttotal: 4.39s\tremaining: 2.19s\n",
      "4:\tlearn: 32108.2140999\ttotal: 5.48s\tremaining: 1.1s\n",
      "5:\tlearn: 272456.8888235\ttotal: 6.53s\tremaining: 0us\n",
      "depth =  8 learning rate = 10 train loss-  74232756265.429 Test loss - 57646355760.85744\n",
      "0:\tlearn: 1.5257210\ttotal: 4.34s\tremaining: 21.7s\n",
      "1:\tlearn: 1.5256583\ttotal: 8.53s\tremaining: 17.1s\n",
      "2:\tlearn: 1.5255945\ttotal: 12.7s\tremaining: 12.7s\n",
      "3:\tlearn: 1.5255344\ttotal: 16.9s\tremaining: 8.45s\n",
      "4:\tlearn: 1.5254700\ttotal: 21.1s\tremaining: 4.21s\n",
      "5:\tlearn: 1.5254083\ttotal: 25.3s\tremaining: 0us\n",
      "depth =  11 learning rate = 0.0001 train loss-  2.3268705587347496 Test loss - 1.3135765686779166\n",
      "0:\tlearn: 1.5251429\ttotal: 4.3s\tremaining: 21.5s\n",
      "1:\tlearn: 1.5244660\ttotal: 8.48s\tremaining: 17s\n",
      "2:\tlearn: 1.5238291\ttotal: 12.7s\tremaining: 12.7s\n",
      "3:\tlearn: 1.5231893\ttotal: 16.9s\tremaining: 8.44s\n",
      "4:\tlearn: 1.5225698\ttotal: 21.1s\tremaining: 4.21s\n",
      "5:\tlearn: 1.5219561\ttotal: 25.2s\tremaining: 0us\n",
      "depth =  11 learning rate = 0.001 train loss-  2.3163502693805142 Test loss - 1.3078286088393682\n",
      "0:\tlearn: 1.5193716\ttotal: 4.32s\tremaining: 21.6s\n",
      "1:\tlearn: 1.5126779\ttotal: 8.51s\tremaining: 17s\n",
      "2:\tlearn: 1.5063812\ttotal: 12.7s\tremaining: 12.7s\n",
      "3:\tlearn: 1.4999730\ttotal: 16.9s\tremaining: 8.47s\n",
      "4:\tlearn: 1.4941605\ttotal: 21.2s\tremaining: 4.23s\n",
      "5:\tlearn: 1.4883180\ttotal: 25.4s\tremaining: 0us\n",
      "depth =  11 learning rate = 0.01 train loss-  2.215090576625449 Test loss - 1.253964983724113\n",
      "0:\tlearn: 1.4627506\ttotal: 4.31s\tremaining: 21.5s\n",
      "1:\tlearn: 1.4076246\ttotal: 8.52s\tremaining: 17s\n",
      "2:\tlearn: 1.3551290\ttotal: 12.7s\tremaining: 12.7s\n",
      "3:\tlearn: 1.3112794\ttotal: 16.9s\tremaining: 8.44s\n",
      "4:\tlearn: 1.2690825\ttotal: 21s\tremaining: 4.21s\n",
      "5:\tlearn: 1.2328835\ttotal: 25.2s\tremaining: 0us\n",
      "depth =  11 learning rate = 0.1 train loss-  1.5200016515152421 Test loss - 0.8772473164029878\n"
     ]
    },
    {
     "name": "stderr",
     "output_type": "stream",
     "text": [
      "learning rate is greater than 1. You probably need to decrease learning rate.\n",
      "learning rate is greater than 1. You probably need to decrease learning rate.\n",
      "learning rate is greater than 1. You probably need to decrease learning rate.\n"
     ]
    },
    {
     "name": "stdout",
     "output_type": "stream",
     "text": [
      "0:\tlearn: 7.7249168\ttotal: 4.35s\tremaining: 21.7s\n",
      "1:\tlearn: 56.5061125\ttotal: 8.51s\tremaining: 17s\n",
      "2:\tlearn: 441.6569784\ttotal: 12.7s\tremaining: 12.7s\n",
      "3:\tlearn: 3592.6236016\ttotal: 16.8s\tremaining: 8.41s\n",
      "4:\tlearn: 29180.4468496\ttotal: 21s\tremaining: 4.2s\n",
      "5:\tlearn: 239237.3774214\ttotal: 25.1s\tremaining: 0us\n",
      "depth =  11 learning rate = 10 train loss-  57234522755.606575 Test loss - 42545588094.4596\n",
      "0:\tlearn: 1.5257215\ttotal: 5.4s\tremaining: 27s\n",
      "1:\tlearn: 1.5256545\ttotal: 10.7s\tremaining: 21.4s\n",
      "2:\tlearn: 1.5255938\ttotal: 16s\tremaining: 16s\n",
      "3:\tlearn: 1.5255328\ttotal: 21.2s\tremaining: 10.6s\n",
      "4:\tlearn: 1.5254659\ttotal: 26.5s\tremaining: 5.3s\n",
      "5:\tlearn: 1.5254019\ttotal: 31.8s\tremaining: 0us\n",
      "depth =  13 learning rate = 0.0001 train loss-  2.326850819453299 Test loss - 1.3135565103762907\n",
      "0:\tlearn: 1.5251478\ttotal: 5.41s\tremaining: 27.1s\n",
      "1:\tlearn: 1.5245157\ttotal: 10.6s\tremaining: 21.3s\n",
      "2:\tlearn: 1.5238797\ttotal: 15.9s\tremaining: 15.9s\n",
      "3:\tlearn: 1.5232714\ttotal: 21.1s\tremaining: 10.6s\n",
      "4:\tlearn: 1.5226057\ttotal: 26.4s\tremaining: 5.28s\n",
      "5:\tlearn: 1.5219677\ttotal: 31.7s\tremaining: 0us\n",
      "depth =  13 learning rate = 0.001 train loss-  2.316385584096938 Test loss - 1.3075712082259752\n",
      "0:\tlearn: 1.5194197\ttotal: 5.36s\tremaining: 26.8s\n",
      "1:\tlearn: 1.5131694\ttotal: 10.7s\tremaining: 21.3s\n",
      "2:\tlearn: 1.5072222\ttotal: 15.9s\tremaining: 15.9s\n",
      "3:\tlearn: 1.5013098\ttotal: 21.2s\tremaining: 10.6s\n",
      "4:\tlearn: 1.4948723\ttotal: 26.5s\tremaining: 5.3s\n",
      "5:\tlearn: 1.4886543\ttotal: 31.9s\tremaining: 0us\n",
      "depth =  13 learning rate = 0.01 train loss-  2.216091578697705 Test loss - 1.2519443138830273\n",
      "0:\tlearn: 1.4631355\ttotal: 5.33s\tremaining: 26.6s\n",
      "1:\tlearn: 1.4069012\ttotal: 10.6s\tremaining: 21.2s\n",
      "2:\tlearn: 1.3590626\ttotal: 15.9s\tremaining: 15.9s\n",
      "3:\tlearn: 1.3108468\ttotal: 21.1s\tremaining: 10.5s\n",
      "4:\tlearn: 1.2705985\ttotal: 26.4s\tremaining: 5.28s\n",
      "5:\tlearn: 1.2364790\ttotal: 31.7s\tremaining: 0us\n",
      "depth =  13 learning rate = 0.1 train loss-  1.5288803095234313 Test loss - 0.9108020536165344\n"
     ]
    },
    {
     "name": "stderr",
     "output_type": "stream",
     "text": [
      "learning rate is greater than 1. You probably need to decrease learning rate.\n",
      "learning rate is greater than 1. You probably need to decrease learning rate.\n",
      "learning rate is greater than 1. You probably need to decrease learning rate.\n"
     ]
    },
    {
     "name": "stdout",
     "output_type": "stream",
     "text": [
      "0:\tlearn: 7.4887741\ttotal: 5.42s\tremaining: 27.1s\n",
      "1:\tlearn: 51.8620469\ttotal: 10.6s\tremaining: 21.3s\n",
      "2:\tlearn: 392.3132470\ttotal: 15.8s\tremaining: 15.8s\n",
      "3:\tlearn: 3037.7546510\ttotal: 21s\tremaining: 10.5s\n",
      "4:\tlearn: 23978.0275836\ttotal: 26.2s\tremaining: 5.24s\n",
      "5:\tlearn: 197138.0099622\ttotal: 31.4s\tremaining: 0us\n",
      "depth =  13 learning rate = 10 train loss-  38863394971.66725 Test loss - 28240030006.684685\n",
      "0:\tlearn: 1.5257228\ttotal: 13.4s\tremaining: 1m 6s\n",
      "1:\tlearn: 1.5256668\ttotal: 25.6s\tremaining: 51.2s\n",
      "2:\tlearn: 1.5256056\ttotal: 38.1s\tremaining: 38.1s\n",
      "3:\tlearn: 1.5255466\ttotal: 51.1s\tremaining: 25.6s\n",
      "4:\tlearn: 1.5254846\ttotal: 1m 3s\tremaining: 12.7s\n",
      "5:\tlearn: 1.5254230\ttotal: 1m 15s\tremaining: 0us\n",
      "depth =  16 learning rate = 0.0001 train loss-  2.326915342519683 Test loss - 1.3136152216023815\n",
      "0:\tlearn: 1.5251601\ttotal: 12.4s\tremaining: 1m 2s\n",
      "1:\tlearn: 1.5246014\ttotal: 24.7s\tremaining: 49.4s\n",
      "2:\tlearn: 1.5240252\ttotal: 37.3s\tremaining: 37.3s\n",
      "3:\tlearn: 1.5234359\ttotal: 49.7s\tremaining: 24.8s\n",
      "4:\tlearn: 1.5228181\ttotal: 1m 1s\tremaining: 12.4s\n",
      "5:\tlearn: 1.5222048\ttotal: 1m 14s\tremaining: 0us\n",
      "depth =  16 learning rate = 0.001 train loss-  2.317107520818992 Test loss - 1.3083785502054293\n",
      "0:\tlearn: 1.5195415\ttotal: 12.5s\tremaining: 1m 2s\n",
      "1:\tlearn: 1.5140095\ttotal: 24.8s\tremaining: 49.5s\n",
      "2:\tlearn: 1.5079513\ttotal: 36.9s\tremaining: 36.9s\n",
      "3:\tlearn: 1.5021995\ttotal: 49.3s\tremaining: 24.6s\n",
      "4:\tlearn: 1.4963966\ttotal: 1m 1s\tremaining: 12.3s\n",
      "5:\tlearn: 1.4904909\ttotal: 1m 13s\tremaining: 0us\n",
      "depth =  16 learning rate = 0.01 train loss-  2.2215631655949397 Test loss - 1.254908360339117\n",
      "0:\tlearn: 1.4642292\ttotal: 12.3s\tremaining: 1m 1s\n",
      "1:\tlearn: 1.4111833\ttotal: 24.7s\tremaining: 49.3s\n",
      "2:\tlearn: 1.3624468\ttotal: 37s\tremaining: 37s\n",
      "3:\tlearn: 1.3158192\ttotal: 49.3s\tremaining: 24.6s\n",
      "4:\tlearn: 1.2751147\ttotal: 1m 1s\tremaining: 12.3s\n",
      "5:\tlearn: 1.2395693\ttotal: 1m 13s\tremaining: 0us\n",
      "depth =  16 learning rate = 0.1 train loss-  1.5365319786068083 Test loss - 0.957646089626013\n"
     ]
    },
    {
     "name": "stderr",
     "output_type": "stream",
     "text": [
      "learning rate is greater than 1. You probably need to decrease learning rate.\n",
      "learning rate is greater than 1. You probably need to decrease learning rate.\n",
      "learning rate is greater than 1. You probably need to decrease learning rate.\n"
     ]
    },
    {
     "name": "stdout",
     "output_type": "stream",
     "text": [
      "0:\tlearn: 7.1356199\ttotal: 12.3s\tremaining: 1m 1s\n",
      "1:\tlearn: 50.7808597\ttotal: 24.5s\tremaining: 48.9s\n",
      "2:\tlearn: 392.4924760\ttotal: 36.8s\tremaining: 36.8s\n",
      "3:\tlearn: 3131.6455926\ttotal: 48.8s\tremaining: 24.4s\n",
      "4:\tlearn: 25376.6795003\ttotal: 1m 1s\tremaining: 12.2s\n",
      "5:\tlearn: 208351.2806389\ttotal: 1m 13s\tremaining: 0us\n",
      "depth =  16 learning rate = 10 train loss-  43410256144.785515 Test loss - 37510532406.301094\n",
      "CPU times: user 1h 48min 30s, sys: 7min 14s, total: 1h 55min 44s\n",
      "Wall time: 1h 17min 11s\n"
     ]
    }
   ],
   "source": [
    "%%time\n",
    "#hyperparameter tuning\n",
    "\n",
    " \n",
    "\n",
    "def tuning_grid_search(params, params2, x_train, y_train, x_cv, y_cv):\n",
    "    \n",
    "    train_scores = []\n",
    "    test_scores = []\n",
    "    for i in params:\n",
    "        tr_s = []\n",
    "        te_s = []\n",
    "        for j in params2:\n",
    "            \n",
    "            clf = CatBoostRegressor(iterations=6,\n",
    "                              learning_rate=j,\n",
    "                              depth=i, loss_function='RMSE', )\n",
    "\n",
    "\n",
    "            clf.fit(x_train, y_train)\n",
    "            train_sc = mean_squared_error(y_train, clf.predict(x_train))\n",
    "            test_sc = mean_squared_error(y_cv, clf.predict(x_cv))\n",
    "            \n",
    "            tr_s.append(test_sc)\n",
    "            te_s.append(train_sc)\n",
    "           \n",
    "            \n",
    "            print('depth = ',i,'learning rate =',j, 'train loss- ',train_sc,'Test loss -',test_sc)\n",
    "            \n",
    "         \n",
    "        test_scores.append(tr_s)\n",
    "        train_scores.append(te_s)\n",
    "        \n",
    "\n",
    "    return train_scores, test_scores\n",
    "\n",
    "    \n",
    "\n",
    "depths = [3,8,11,13,16]\n",
    "learning_rate = [.0001, .001, .01, .1, 10 ]\n",
    "\n",
    "train_scores, test_scores = tuning_grid_search(depths, learning_rate, X_train, Y_train, X_valid, Y_valid)  \n"
   ]
  },
  {
   "cell_type": "markdown",
   "metadata": {
    "id": "n6fVPIkGsJjs"
   },
   "source": [
    "**we have seen**\n",
    "\n",
    "learning = [0.1] and depth = [11, 16] seem more appropiate for giving good accuracy\n",
    "\n",
    "so as next step we try to find which is better"
   ]
  },
  {
   "cell_type": "code",
   "execution_count": 64,
   "metadata": {
    "colab": {
     "base_uri": "https://localhost:8080/",
     "height": 0
    },
    "id": "2pLqV9OZtkCv",
    "outputId": "df64fcef-c991-499f-d293-b37cf64c9e35"
   },
   "outputs": [
    {
     "name": "stdout",
     "output_type": "stream",
     "text": [
      "0:\tlearn: 1.5193716\ttotal: 4.29s\tremaining: 3m 30s\n",
      "1:\tlearn: 1.5126779\ttotal: 8.56s\tremaining: 3m 25s\n",
      "2:\tlearn: 1.5063812\ttotal: 12.8s\tremaining: 3m 20s\n",
      "3:\tlearn: 1.4999730\ttotal: 17s\tremaining: 3m 15s\n",
      "4:\tlearn: 1.4941605\ttotal: 21.2s\tremaining: 3m 11s\n",
      "5:\tlearn: 1.4883180\ttotal: 25.5s\tremaining: 3m 6s\n",
      "6:\tlearn: 1.4823206\ttotal: 29.7s\tremaining: 3m 2s\n",
      "7:\tlearn: 1.4763986\ttotal: 33.9s\tremaining: 2m 58s\n",
      "8:\tlearn: 1.4708026\ttotal: 38.1s\tremaining: 2m 53s\n",
      "9:\tlearn: 1.4646992\ttotal: 42.3s\tremaining: 2m 49s\n",
      "10:\tlearn: 1.4591598\ttotal: 46.5s\tremaining: 2m 45s\n",
      "11:\tlearn: 1.4533998\ttotal: 50.8s\tremaining: 2m 40s\n",
      "12:\tlearn: 1.4474824\ttotal: 55s\tremaining: 2m 36s\n",
      "13:\tlearn: 1.4419153\ttotal: 59.3s\tremaining: 2m 32s\n",
      "14:\tlearn: 1.4364083\ttotal: 1m 3s\tremaining: 2m 28s\n",
      "15:\tlearn: 1.4310370\ttotal: 1m 7s\tremaining: 2m 23s\n",
      "16:\tlearn: 1.4258038\ttotal: 1m 11s\tremaining: 2m 19s\n",
      "17:\tlearn: 1.4206970\ttotal: 1m 16s\tremaining: 2m 15s\n",
      "18:\tlearn: 1.4159228\ttotal: 1m 20s\tremaining: 2m 11s\n",
      "19:\tlearn: 1.4107646\ttotal: 1m 24s\tremaining: 2m 7s\n",
      "20:\tlearn: 1.4053082\ttotal: 1m 28s\tremaining: 2m 2s\n",
      "21:\tlearn: 1.4002900\ttotal: 1m 33s\tremaining: 1m 58s\n",
      "22:\tlearn: 1.3953414\ttotal: 1m 37s\tremaining: 1m 54s\n",
      "23:\tlearn: 1.3905856\ttotal: 1m 41s\tremaining: 1m 49s\n",
      "24:\tlearn: 1.3856062\ttotal: 1m 45s\tremaining: 1m 45s\n",
      "25:\tlearn: 1.3807318\ttotal: 1m 49s\tremaining: 1m 41s\n",
      "26:\tlearn: 1.3760369\ttotal: 1m 54s\tremaining: 1m 37s\n",
      "27:\tlearn: 1.3713535\ttotal: 1m 58s\tremaining: 1m 33s\n",
      "28:\tlearn: 1.3667072\ttotal: 2m 2s\tremaining: 1m 28s\n",
      "29:\tlearn: 1.3618583\ttotal: 2m 6s\tremaining: 1m 24s\n",
      "30:\tlearn: 1.3571234\ttotal: 2m 11s\tremaining: 1m 20s\n",
      "31:\tlearn: 1.3528452\ttotal: 2m 15s\tremaining: 1m 16s\n",
      "32:\tlearn: 1.3480494\ttotal: 2m 19s\tremaining: 1m 11s\n",
      "33:\tlearn: 1.3437406\ttotal: 2m 23s\tremaining: 1m 7s\n",
      "34:\tlearn: 1.3396416\ttotal: 2m 27s\tremaining: 1m 3s\n",
      "35:\tlearn: 1.3354174\ttotal: 2m 32s\tremaining: 59.2s\n",
      "36:\tlearn: 1.3309130\ttotal: 2m 36s\tremaining: 55s\n",
      "37:\tlearn: 1.3264315\ttotal: 2m 40s\tremaining: 50.7s\n",
      "38:\tlearn: 1.3224201\ttotal: 2m 44s\tremaining: 46.5s\n",
      "39:\tlearn: 1.3180389\ttotal: 2m 49s\tremaining: 42.3s\n",
      "40:\tlearn: 1.3141350\ttotal: 2m 53s\tremaining: 38s\n",
      "41:\tlearn: 1.3098284\ttotal: 2m 57s\tremaining: 33.8s\n",
      "42:\tlearn: 1.3057801\ttotal: 3m 1s\tremaining: 29.6s\n",
      "43:\tlearn: 1.3018071\ttotal: 3m 6s\tremaining: 25.4s\n",
      "44:\tlearn: 1.2976484\ttotal: 3m 10s\tremaining: 21.1s\n",
      "45:\tlearn: 1.2936607\ttotal: 3m 14s\tremaining: 16.9s\n",
      "46:\tlearn: 1.2900240\ttotal: 3m 18s\tremaining: 12.7s\n",
      "47:\tlearn: 1.2860121\ttotal: 3m 23s\tremaining: 8.46s\n",
      "48:\tlearn: 1.2819986\ttotal: 3m 27s\tremaining: 4.23s\n",
      "49:\tlearn: 1.2782066\ttotal: 3m 31s\tremaining: 0us\n",
      "depth =  11 learning rate = 0.01 train loss-  1.6338120711163715 Test loss - 0.9713404552330241\n",
      "0:\tlearn: 1.4627506\ttotal: 4.38s\tremaining: 3m 34s\n",
      "1:\tlearn: 1.4076246\ttotal: 8.66s\tremaining: 3m 27s\n",
      "2:\tlearn: 1.3551290\ttotal: 12.8s\tremaining: 3m 21s\n",
      "3:\tlearn: 1.3112794\ttotal: 17s\tremaining: 3m 16s\n",
      "4:\tlearn: 1.2690825\ttotal: 21.2s\tremaining: 3m 11s\n",
      "5:\tlearn: 1.2328835\ttotal: 25.5s\tremaining: 3m 6s\n",
      "6:\tlearn: 1.2025089\ttotal: 29.7s\tremaining: 3m 2s\n",
      "7:\tlearn: 1.1766593\ttotal: 33.9s\tremaining: 2m 57s\n",
      "8:\tlearn: 1.1511459\ttotal: 38.1s\tremaining: 2m 53s\n",
      "9:\tlearn: 1.1286297\ttotal: 42.3s\tremaining: 2m 49s\n",
      "10:\tlearn: 1.1044448\ttotal: 46.5s\tremaining: 2m 44s\n",
      "11:\tlearn: 1.0829809\ttotal: 50.6s\tremaining: 2m 40s\n",
      "12:\tlearn: 1.0649718\ttotal: 54.9s\tremaining: 2m 36s\n",
      "13:\tlearn: 1.0488754\ttotal: 59.1s\tremaining: 2m 32s\n",
      "14:\tlearn: 1.0330446\ttotal: 1m 3s\tremaining: 2m 27s\n",
      "15:\tlearn: 1.0186161\ttotal: 1m 7s\tremaining: 2m 23s\n",
      "16:\tlearn: 1.0061234\ttotal: 1m 11s\tremaining: 2m 19s\n",
      "17:\tlearn: 0.9949530\ttotal: 1m 15s\tremaining: 2m 14s\n",
      "18:\tlearn: 0.9863477\ttotal: 1m 20s\tremaining: 2m 10s\n",
      "19:\tlearn: 0.9790246\ttotal: 1m 24s\tremaining: 2m 6s\n",
      "20:\tlearn: 0.9704255\ttotal: 1m 28s\tremaining: 2m 2s\n",
      "21:\tlearn: 0.9631906\ttotal: 1m 32s\tremaining: 1m 58s\n",
      "22:\tlearn: 0.9569283\ttotal: 1m 36s\tremaining: 1m 53s\n",
      "23:\tlearn: 0.9498127\ttotal: 1m 41s\tremaining: 1m 49s\n",
      "24:\tlearn: 0.9410058\ttotal: 1m 45s\tremaining: 1m 45s\n",
      "25:\tlearn: 0.9355301\ttotal: 1m 49s\tremaining: 1m 40s\n",
      "26:\tlearn: 0.9308241\ttotal: 1m 53s\tremaining: 1m 36s\n",
      "27:\tlearn: 0.9268195\ttotal: 1m 57s\tremaining: 1m 32s\n",
      "28:\tlearn: 0.9231220\ttotal: 2m 2s\tremaining: 1m 28s\n",
      "29:\tlearn: 0.9198495\ttotal: 2m 6s\tremaining: 1m 24s\n",
      "30:\tlearn: 0.9167274\ttotal: 2m 10s\tremaining: 1m 20s\n",
      "31:\tlearn: 0.9128296\ttotal: 2m 14s\tremaining: 1m 15s\n",
      "32:\tlearn: 0.9095274\ttotal: 2m 19s\tremaining: 1m 11s\n",
      "33:\tlearn: 0.9060760\ttotal: 2m 23s\tremaining: 1m 7s\n",
      "34:\tlearn: 0.9017828\ttotal: 2m 27s\tremaining: 1m 3s\n",
      "35:\tlearn: 0.8989714\ttotal: 2m 31s\tremaining: 59s\n",
      "36:\tlearn: 0.8957299\ttotal: 2m 35s\tremaining: 54.8s\n",
      "37:\tlearn: 0.8908816\ttotal: 2m 40s\tremaining: 50.6s\n",
      "38:\tlearn: 0.8884650\ttotal: 2m 44s\tremaining: 46.3s\n",
      "39:\tlearn: 0.8862943\ttotal: 2m 48s\tremaining: 42.1s\n",
      "40:\tlearn: 0.8821018\ttotal: 2m 52s\tremaining: 37.9s\n",
      "41:\tlearn: 0.8787029\ttotal: 2m 56s\tremaining: 33.7s\n",
      "42:\tlearn: 0.8760843\ttotal: 3m 1s\tremaining: 29.5s\n",
      "43:\tlearn: 0.8742988\ttotal: 3m 5s\tremaining: 25.3s\n",
      "44:\tlearn: 0.8706082\ttotal: 3m 9s\tremaining: 21.1s\n",
      "45:\tlearn: 0.8685824\ttotal: 3m 14s\tremaining: 16.9s\n",
      "46:\tlearn: 0.8652559\ttotal: 3m 18s\tremaining: 12.7s\n",
      "47:\tlearn: 0.8632338\ttotal: 3m 22s\tremaining: 8.44s\n",
      "48:\tlearn: 0.8618342\ttotal: 3m 26s\tremaining: 4.22s\n",
      "49:\tlearn: 0.8607259\ttotal: 3m 31s\tremaining: 0us\n",
      "depth =  11 learning rate = 0.1 train loss-  0.7408490019386933 Test loss - 0.781272587790982\n",
      "0:\tlearn: 1.5192975\ttotal: 4.91s\tremaining: 4m\n",
      "1:\tlearn: 1.5127196\ttotal: 9.62s\tremaining: 3m 50s\n",
      "2:\tlearn: 1.5068225\ttotal: 14.5s\tremaining: 3m 46s\n",
      "3:\tlearn: 1.5004551\ttotal: 19.2s\tremaining: 3m 40s\n",
      "4:\tlearn: 1.4943996\ttotal: 24s\tremaining: 3m 36s\n",
      "5:\tlearn: 1.4885860\ttotal: 28.7s\tremaining: 3m 30s\n",
      "6:\tlearn: 1.4826151\ttotal: 33.5s\tremaining: 3m 25s\n",
      "7:\tlearn: 1.4768842\ttotal: 38.3s\tremaining: 3m 20s\n",
      "8:\tlearn: 1.4713499\ttotal: 43s\tremaining: 3m 16s\n",
      "9:\tlearn: 1.4657267\ttotal: 47.9s\tremaining: 3m 11s\n",
      "10:\tlearn: 1.4601456\ttotal: 52.7s\tremaining: 3m 6s\n",
      "11:\tlearn: 1.4542398\ttotal: 57.4s\tremaining: 3m 1s\n",
      "12:\tlearn: 1.4488718\ttotal: 1m 2s\tremaining: 2m 57s\n",
      "13:\tlearn: 1.4436767\ttotal: 1m 6s\tremaining: 2m 52s\n",
      "14:\tlearn: 1.4382095\ttotal: 1m 11s\tremaining: 2m 47s\n",
      "15:\tlearn: 1.4330138\ttotal: 1m 16s\tremaining: 2m 42s\n",
      "16:\tlearn: 1.4279048\ttotal: 1m 21s\tremaining: 2m 37s\n",
      "17:\tlearn: 1.4229288\ttotal: 1m 26s\tremaining: 2m 32s\n",
      "18:\tlearn: 1.4177898\ttotal: 1m 30s\tremaining: 2m 28s\n",
      "19:\tlearn: 1.4128157\ttotal: 1m 35s\tremaining: 2m 23s\n",
      "20:\tlearn: 1.4078230\ttotal: 1m 40s\tremaining: 2m 18s\n",
      "21:\tlearn: 1.4028542\ttotal: 1m 45s\tremaining: 2m 13s\n",
      "22:\tlearn: 1.3978078\ttotal: 1m 50s\tremaining: 2m 9s\n",
      "23:\tlearn: 1.3931136\ttotal: 1m 54s\tremaining: 2m 4s\n",
      "24:\tlearn: 1.3880454\ttotal: 1m 59s\tremaining: 1m 59s\n",
      "25:\tlearn: 1.3828001\ttotal: 2m 4s\tremaining: 1m 54s\n",
      "26:\tlearn: 1.3777582\ttotal: 2m 9s\tremaining: 1m 49s\n",
      "27:\tlearn: 1.3728553\ttotal: 2m 13s\tremaining: 1m 45s\n",
      "28:\tlearn: 1.3679463\ttotal: 2m 18s\tremaining: 1m 40s\n",
      "29:\tlearn: 1.3634935\ttotal: 2m 23s\tremaining: 1m 35s\n",
      "30:\tlearn: 1.3586718\ttotal: 2m 28s\tremaining: 1m 30s\n",
      "31:\tlearn: 1.3537732\ttotal: 2m 32s\tremaining: 1m 26s\n",
      "32:\tlearn: 1.3489619\ttotal: 2m 37s\tremaining: 1m 21s\n",
      "33:\tlearn: 1.3447087\ttotal: 2m 42s\tremaining: 1m 16s\n",
      "34:\tlearn: 1.3403420\ttotal: 2m 47s\tremaining: 1m 11s\n",
      "35:\tlearn: 1.3363215\ttotal: 2m 52s\tremaining: 1m 6s\n",
      "36:\tlearn: 1.3326048\ttotal: 2m 57s\tremaining: 1m 2s\n",
      "37:\tlearn: 1.3284100\ttotal: 3m 1s\tremaining: 57.4s\n",
      "38:\tlearn: 1.3243195\ttotal: 3m 6s\tremaining: 52.6s\n",
      "39:\tlearn: 1.3198377\ttotal: 3m 11s\tremaining: 47.8s\n",
      "40:\tlearn: 1.3155195\ttotal: 3m 16s\tremaining: 43s\n",
      "41:\tlearn: 1.3113774\ttotal: 3m 20s\tremaining: 38.3s\n",
      "42:\tlearn: 1.3069765\ttotal: 3m 25s\tremaining: 33.5s\n",
      "43:\tlearn: 1.3027723\ttotal: 3m 30s\tremaining: 28.7s\n",
      "44:\tlearn: 1.2987661\ttotal: 3m 35s\tremaining: 23.9s\n",
      "45:\tlearn: 1.2947066\ttotal: 3m 39s\tremaining: 19.1s\n",
      "46:\tlearn: 1.2908379\ttotal: 3m 44s\tremaining: 14.3s\n",
      "47:\tlearn: 1.2869593\ttotal: 3m 49s\tremaining: 9.56s\n",
      "48:\tlearn: 1.2831877\ttotal: 3m 54s\tremaining: 4.78s\n",
      "49:\tlearn: 1.2794073\ttotal: 3m 59s\tremaining: 0us\n",
      "depth =  12 learning rate = 0.01 train loss-  1.6368831440053382 Test loss - 0.9614272749057872\n",
      "0:\tlearn: 1.4619949\ttotal: 4.88s\tremaining: 3m 58s\n",
      "1:\tlearn: 1.4058818\ttotal: 9.65s\tremaining: 3m 51s\n",
      "2:\tlearn: 1.3592136\ttotal: 14.4s\tremaining: 3m 45s\n",
      "3:\tlearn: 1.3172233\ttotal: 19.2s\tremaining: 3m 40s\n",
      "4:\tlearn: 1.2770331\ttotal: 23.9s\tremaining: 3m 35s\n",
      "5:\tlearn: 1.2409608\ttotal: 28.7s\tremaining: 3m 30s\n",
      "6:\tlearn: 1.2104489\ttotal: 33.5s\tremaining: 3m 25s\n",
      "7:\tlearn: 1.1829236\ttotal: 38.3s\tremaining: 3m 20s\n",
      "8:\tlearn: 1.1553920\ttotal: 43s\tremaining: 3m 16s\n",
      "9:\tlearn: 1.1333535\ttotal: 47.8s\tremaining: 3m 11s\n",
      "10:\tlearn: 1.1119389\ttotal: 52.6s\tremaining: 3m 6s\n",
      "11:\tlearn: 1.0909388\ttotal: 57.4s\tremaining: 3m 1s\n",
      "12:\tlearn: 1.0720265\ttotal: 1m 2s\tremaining: 2m 57s\n",
      "13:\tlearn: 1.0590338\ttotal: 1m 6s\tremaining: 2m 52s\n",
      "14:\tlearn: 1.0415281\ttotal: 1m 11s\tremaining: 2m 47s\n",
      "15:\tlearn: 1.0268988\ttotal: 1m 16s\tremaining: 2m 42s\n",
      "16:\tlearn: 1.0124929\ttotal: 1m 21s\tremaining: 2m 37s\n",
      "17:\tlearn: 1.0012518\ttotal: 1m 26s\tremaining: 2m 33s\n",
      "18:\tlearn: 0.9925762\ttotal: 1m 30s\tremaining: 2m 28s\n",
      "19:\tlearn: 0.9828194\ttotal: 1m 35s\tremaining: 2m 23s\n",
      "20:\tlearn: 0.9744470\ttotal: 1m 40s\tremaining: 2m 18s\n",
      "21:\tlearn: 0.9644091\ttotal: 1m 45s\tremaining: 2m 13s\n",
      "22:\tlearn: 0.9556640\ttotal: 1m 49s\tremaining: 2m 9s\n",
      "23:\tlearn: 0.9493853\ttotal: 1m 54s\tremaining: 2m 4s\n",
      "24:\tlearn: 0.9435809\ttotal: 1m 59s\tremaining: 1m 59s\n",
      "25:\tlearn: 0.9377249\ttotal: 2m 4s\tremaining: 1m 54s\n",
      "26:\tlearn: 0.9298868\ttotal: 2m 9s\tremaining: 1m 49s\n",
      "27:\tlearn: 0.9238802\ttotal: 2m 13s\tremaining: 1m 45s\n",
      "28:\tlearn: 0.9186385\ttotal: 2m 18s\tremaining: 1m 40s\n",
      "29:\tlearn: 0.9144528\ttotal: 2m 23s\tremaining: 1m 35s\n",
      "30:\tlearn: 0.9095017\ttotal: 2m 28s\tremaining: 1m 30s\n",
      "31:\tlearn: 0.9055996\ttotal: 2m 33s\tremaining: 1m 26s\n",
      "32:\tlearn: 0.9014112\ttotal: 2m 37s\tremaining: 1m 21s\n",
      "33:\tlearn: 0.8976637\ttotal: 2m 42s\tremaining: 1m 16s\n",
      "34:\tlearn: 0.8943836\ttotal: 2m 47s\tremaining: 1m 11s\n",
      "35:\tlearn: 0.8910413\ttotal: 2m 52s\tremaining: 1m 6s\n",
      "36:\tlearn: 0.8881317\ttotal: 2m 56s\tremaining: 1m 2s\n",
      "37:\tlearn: 0.8853799\ttotal: 3m 1s\tremaining: 57.4s\n",
      "38:\tlearn: 0.8827428\ttotal: 3m 6s\tremaining: 52.6s\n",
      "39:\tlearn: 0.8802829\ttotal: 3m 11s\tremaining: 47.8s\n",
      "40:\tlearn: 0.8762174\ttotal: 3m 15s\tremaining: 43s\n",
      "41:\tlearn: 0.8713349\ttotal: 3m 20s\tremaining: 38.2s\n",
      "42:\tlearn: 0.8689040\ttotal: 3m 25s\tremaining: 33.4s\n",
      "43:\tlearn: 0.8653861\ttotal: 3m 30s\tremaining: 28.7s\n",
      "44:\tlearn: 0.8619074\ttotal: 3m 35s\tremaining: 23.9s\n",
      "45:\tlearn: 0.8601171\ttotal: 3m 39s\tremaining: 19.1s\n",
      "46:\tlearn: 0.8560726\ttotal: 3m 44s\tremaining: 14.3s\n",
      "47:\tlearn: 0.8541988\ttotal: 3m 49s\tremaining: 9.56s\n",
      "48:\tlearn: 0.8507485\ttotal: 3m 54s\tremaining: 4.78s\n",
      "49:\tlearn: 0.8486346\ttotal: 3m 58s\tremaining: 0us\n",
      "depth =  12 learning rate = 0.1 train loss-  0.7201806329016283 Test loss - 0.7738442584965375\n",
      "0:\tlearn: 1.5196376\ttotal: 8.88s\tremaining: 7m 15s\n",
      "1:\tlearn: 1.5135678\ttotal: 17.6s\tremaining: 7m 1s\n",
      "2:\tlearn: 1.5075149\ttotal: 26.3s\tremaining: 6m 51s\n",
      "3:\tlearn: 1.5014424\ttotal: 35s\tremaining: 6m 42s\n",
      "4:\tlearn: 1.4958421\ttotal: 43.7s\tremaining: 6m 33s\n",
      "5:\tlearn: 1.4900366\ttotal: 52.4s\tremaining: 6m 24s\n",
      "6:\tlearn: 1.4845922\ttotal: 1m 1s\tremaining: 6m 14s\n",
      "7:\tlearn: 1.4788843\ttotal: 1m 9s\tremaining: 6m 5s\n",
      "8:\tlearn: 1.4734650\ttotal: 1m 18s\tremaining: 5m 56s\n",
      "9:\tlearn: 1.4679074\ttotal: 1m 26s\tremaining: 5m 47s\n",
      "10:\tlearn: 1.4624705\ttotal: 1m 35s\tremaining: 5m 39s\n",
      "11:\tlearn: 1.4569748\ttotal: 1m 44s\tremaining: 5m 30s\n",
      "12:\tlearn: 1.4516555\ttotal: 1m 52s\tremaining: 5m 20s\n",
      "13:\tlearn: 1.4464830\ttotal: 2m 1s\tremaining: 5m 12s\n",
      "14:\tlearn: 1.4410771\ttotal: 2m 10s\tremaining: 5m 3s\n",
      "15:\tlearn: 1.4359077\ttotal: 2m 18s\tremaining: 4m 55s\n",
      "16:\tlearn: 1.4307885\ttotal: 2m 27s\tremaining: 4m 46s\n",
      "17:\tlearn: 1.4255985\ttotal: 2m 36s\tremaining: 4m 37s\n",
      "18:\tlearn: 1.4205343\ttotal: 2m 45s\tremaining: 4m 29s\n",
      "19:\tlearn: 1.4156895\ttotal: 2m 53s\tremaining: 4m 20s\n",
      "20:\tlearn: 1.4111075\ttotal: 3m 2s\tremaining: 4m 11s\n",
      "21:\tlearn: 1.4062051\ttotal: 3m 11s\tremaining: 4m 3s\n",
      "22:\tlearn: 1.4012098\ttotal: 3m 19s\tremaining: 3m 54s\n",
      "23:\tlearn: 1.3962549\ttotal: 3m 28s\tremaining: 3m 45s\n",
      "24:\tlearn: 1.3915115\ttotal: 3m 37s\tremaining: 3m 37s\n",
      "25:\tlearn: 1.3865538\ttotal: 3m 45s\tremaining: 3m 28s\n",
      "26:\tlearn: 1.3818788\ttotal: 3m 54s\tremaining: 3m 19s\n",
      "27:\tlearn: 1.3771750\ttotal: 4m 3s\tremaining: 3m 11s\n",
      "28:\tlearn: 1.3723942\ttotal: 4m 12s\tremaining: 3m 2s\n",
      "29:\tlearn: 1.3677516\ttotal: 4m 20s\tremaining: 2m 53s\n",
      "30:\tlearn: 1.3635504\ttotal: 4m 29s\tremaining: 2m 45s\n",
      "31:\tlearn: 1.3590850\ttotal: 4m 38s\tremaining: 2m 36s\n",
      "32:\tlearn: 1.3541000\ttotal: 4m 46s\tremaining: 2m 27s\n",
      "33:\tlearn: 1.3499817\ttotal: 4m 55s\tremaining: 2m 19s\n",
      "34:\tlearn: 1.3455643\ttotal: 5m 4s\tremaining: 2m 10s\n",
      "35:\tlearn: 1.3413390\ttotal: 5m 13s\tremaining: 2m 1s\n",
      "36:\tlearn: 1.3369573\ttotal: 5m 21s\tremaining: 1m 53s\n",
      "37:\tlearn: 1.3323608\ttotal: 5m 30s\tremaining: 1m 44s\n",
      "38:\tlearn: 1.3280391\ttotal: 5m 38s\tremaining: 1m 35s\n",
      "39:\tlearn: 1.3237458\ttotal: 5m 47s\tremaining: 1m 26s\n",
      "40:\tlearn: 1.3196618\ttotal: 5m 56s\tremaining: 1m 18s\n",
      "41:\tlearn: 1.3156617\ttotal: 6m 4s\tremaining: 1m 9s\n",
      "42:\tlearn: 1.3111489\ttotal: 6m 13s\tremaining: 1m\n",
      "43:\tlearn: 1.3071466\ttotal: 6m 22s\tremaining: 52.1s\n",
      "44:\tlearn: 1.3030767\ttotal: 6m 30s\tremaining: 43.4s\n",
      "45:\tlearn: 1.2990426\ttotal: 6m 39s\tremaining: 34.8s\n",
      "46:\tlearn: 1.2955588\ttotal: 6m 48s\tremaining: 26.1s\n",
      "47:\tlearn: 1.2915972\ttotal: 6m 57s\tremaining: 17.4s\n",
      "48:\tlearn: 1.2877346\ttotal: 7m 5s\tremaining: 8.69s\n",
      "49:\tlearn: 1.2839595\ttotal: 7m 14s\tremaining: 0us\n",
      "depth =  15 learning rate = 0.01 train loss-  1.6485518708338738 Test loss - 0.9929531337591686\n",
      "0:\tlearn: 1.4651845\ttotal: 9s\tremaining: 7m 21s\n",
      "1:\tlearn: 1.4113559\ttotal: 17.8s\tremaining: 7m 8s\n",
      "2:\tlearn: 1.3636515\ttotal: 26.5s\tremaining: 6m 54s\n",
      "3:\tlearn: 1.3218888\ttotal: 35.1s\tremaining: 6m 43s\n",
      "4:\tlearn: 1.2818553\ttotal: 43.8s\tremaining: 6m 34s\n",
      "5:\tlearn: 1.2395104\ttotal: 52.5s\tremaining: 6m 24s\n",
      "6:\tlearn: 1.2075571\ttotal: 1m 1s\tremaining: 6m 16s\n",
      "7:\tlearn: 1.1765913\ttotal: 1m 10s\tremaining: 6m 7s\n",
      "8:\tlearn: 1.1474582\ttotal: 1m 18s\tremaining: 5m 59s\n",
      "9:\tlearn: 1.1237323\ttotal: 1m 27s\tremaining: 5m 50s\n",
      "10:\tlearn: 1.0980375\ttotal: 1m 36s\tremaining: 5m 41s\n",
      "11:\tlearn: 1.0753901\ttotal: 1m 44s\tremaining: 5m 32s\n",
      "12:\tlearn: 1.0578908\ttotal: 1m 53s\tremaining: 5m 23s\n",
      "13:\tlearn: 1.0406905\ttotal: 2m 2s\tremaining: 5m 14s\n",
      "14:\tlearn: 1.0257575\ttotal: 2m 10s\tremaining: 5m 5s\n",
      "15:\tlearn: 1.0123606\ttotal: 2m 19s\tremaining: 4m 56s\n",
      "16:\tlearn: 1.0026512\ttotal: 2m 28s\tremaining: 4m 48s\n",
      "17:\tlearn: 0.9894089\ttotal: 2m 37s\tremaining: 4m 39s\n",
      "18:\tlearn: 0.9795098\ttotal: 2m 45s\tremaining: 4m 30s\n",
      "19:\tlearn: 0.9698687\ttotal: 2m 54s\tremaining: 4m 21s\n",
      "20:\tlearn: 0.9620246\ttotal: 3m 3s\tremaining: 4m 12s\n",
      "21:\tlearn: 0.9543776\ttotal: 3m 11s\tremaining: 4m 4s\n",
      "22:\tlearn: 0.9448748\ttotal: 3m 20s\tremaining: 3m 55s\n",
      "23:\tlearn: 0.9376755\ttotal: 3m 29s\tremaining: 3m 46s\n",
      "24:\tlearn: 0.9309523\ttotal: 3m 37s\tremaining: 3m 37s\n",
      "25:\tlearn: 0.9217012\ttotal: 3m 46s\tremaining: 3m 29s\n",
      "26:\tlearn: 0.9154043\ttotal: 3m 55s\tremaining: 3m 20s\n",
      "27:\tlearn: 0.9086140\ttotal: 4m 3s\tremaining: 3m 11s\n",
      "28:\tlearn: 0.9020919\ttotal: 4m 12s\tremaining: 3m 2s\n",
      "29:\tlearn: 0.8953503\ttotal: 4m 21s\tremaining: 2m 54s\n",
      "30:\tlearn: 0.8892303\ttotal: 4m 30s\tremaining: 2m 45s\n",
      "31:\tlearn: 0.8851089\ttotal: 4m 38s\tremaining: 2m 36s\n",
      "32:\tlearn: 0.8799906\ttotal: 4m 47s\tremaining: 2m 28s\n",
      "33:\tlearn: 0.8754547\ttotal: 4m 56s\tremaining: 2m 19s\n",
      "34:\tlearn: 0.8708377\ttotal: 5m 4s\tremaining: 2m 10s\n",
      "35:\tlearn: 0.8676338\ttotal: 5m 13s\tremaining: 2m 1s\n",
      "36:\tlearn: 0.8645204\ttotal: 5m 22s\tremaining: 1m 53s\n",
      "37:\tlearn: 0.8603961\ttotal: 5m 30s\tremaining: 1m 44s\n",
      "38:\tlearn: 0.8574107\ttotal: 5m 39s\tremaining: 1m 35s\n",
      "39:\tlearn: 0.8539524\ttotal: 5m 48s\tremaining: 1m 27s\n",
      "40:\tlearn: 0.8516268\ttotal: 5m 57s\tremaining: 1m 18s\n",
      "41:\tlearn: 0.8486988\ttotal: 6m 5s\tremaining: 1m 9s\n",
      "42:\tlearn: 0.8462678\ttotal: 6m 14s\tremaining: 1m\n",
      "43:\tlearn: 0.8435441\ttotal: 6m 23s\tremaining: 52.2s\n",
      "44:\tlearn: 0.8413501\ttotal: 6m 31s\tremaining: 43.5s\n",
      "45:\tlearn: 0.8387954\ttotal: 6m 40s\tremaining: 34.8s\n",
      "46:\tlearn: 0.8365470\ttotal: 6m 49s\tremaining: 26.1s\n",
      "47:\tlearn: 0.8347661\ttotal: 6m 57s\tremaining: 17.4s\n",
      "48:\tlearn: 0.8329239\ttotal: 7m 6s\tremaining: 8.71s\n",
      "49:\tlearn: 0.8288043\ttotal: 7m 15s\tremaining: 0us\n",
      "depth =  15 learning rate = 0.1 train loss-  0.6869165184971195 Test loss - 0.7465221010258248\n",
      "0:\tlearn: 1.5195415\ttotal: 12.8s\tremaining: 10m 29s\n",
      "1:\tlearn: 1.5140095\ttotal: 25.4s\tremaining: 10m 9s\n",
      "2:\tlearn: 1.5079513\ttotal: 37.7s\tremaining: 9m 51s\n",
      "3:\tlearn: 1.5021995\ttotal: 50.2s\tremaining: 9m 37s\n",
      "4:\tlearn: 1.4963966\ttotal: 1m 2s\tremaining: 9m 25s\n",
      "5:\tlearn: 1.4904909\ttotal: 1m 15s\tremaining: 9m 13s\n",
      "6:\tlearn: 1.4847161\ttotal: 1m 28s\tremaining: 9m\n",
      "7:\tlearn: 1.4791448\ttotal: 1m 40s\tremaining: 8m 48s\n",
      "8:\tlearn: 1.4734868\ttotal: 1m 53s\tremaining: 8m 35s\n",
      "9:\tlearn: 1.4679223\ttotal: 2m 5s\tremaining: 8m 22s\n",
      "10:\tlearn: 1.4623764\ttotal: 2m 18s\tremaining: 8m 9s\n",
      "11:\tlearn: 1.4575546\ttotal: 2m 30s\tremaining: 7m 57s\n",
      "12:\tlearn: 1.4521369\ttotal: 2m 43s\tremaining: 7m 44s\n",
      "13:\tlearn: 1.4468635\ttotal: 2m 55s\tremaining: 7m 32s\n",
      "14:\tlearn: 1.4414281\ttotal: 3m 8s\tremaining: 7m 20s\n",
      "15:\tlearn: 1.4360958\ttotal: 3m 21s\tremaining: 7m 7s\n",
      "16:\tlearn: 1.4309229\ttotal: 3m 33s\tremaining: 6m 55s\n",
      "17:\tlearn: 1.4252223\ttotal: 3m 46s\tremaining: 6m 42s\n",
      "18:\tlearn: 1.4201306\ttotal: 3m 59s\tremaining: 6m 30s\n",
      "19:\tlearn: 1.4152742\ttotal: 4m 11s\tremaining: 6m 17s\n",
      "20:\tlearn: 1.4103710\ttotal: 4m 24s\tremaining: 6m 5s\n",
      "21:\tlearn: 1.4055396\ttotal: 4m 37s\tremaining: 5m 52s\n",
      "22:\tlearn: 1.4003960\ttotal: 4m 49s\tremaining: 5m 40s\n",
      "23:\tlearn: 1.3954154\ttotal: 5m 2s\tremaining: 5m 27s\n",
      "24:\tlearn: 1.3909860\ttotal: 5m 15s\tremaining: 5m 15s\n",
      "25:\tlearn: 1.3863856\ttotal: 5m 28s\tremaining: 5m 3s\n",
      "26:\tlearn: 1.3815885\ttotal: 5m 41s\tremaining: 4m 50s\n",
      "27:\tlearn: 1.3768590\ttotal: 5m 53s\tremaining: 4m 37s\n",
      "28:\tlearn: 1.3726392\ttotal: 6m 6s\tremaining: 4m 25s\n",
      "29:\tlearn: 1.3680871\ttotal: 6m 18s\tremaining: 4m 12s\n",
      "30:\tlearn: 1.3639414\ttotal: 6m 31s\tremaining: 3m 59s\n",
      "31:\tlearn: 1.3595526\ttotal: 6m 43s\tremaining: 3m 47s\n",
      "32:\tlearn: 1.3552528\ttotal: 6m 56s\tremaining: 3m 34s\n",
      "33:\tlearn: 1.3506540\ttotal: 7m 8s\tremaining: 3m 21s\n",
      "34:\tlearn: 1.3461134\ttotal: 7m 21s\tremaining: 3m 9s\n",
      "35:\tlearn: 1.3416214\ttotal: 7m 34s\tremaining: 2m 56s\n",
      "36:\tlearn: 1.3374954\ttotal: 7m 46s\tremaining: 2m 43s\n",
      "37:\tlearn: 1.3330887\ttotal: 7m 59s\tremaining: 2m 31s\n",
      "38:\tlearn: 1.3288819\ttotal: 8m 11s\tremaining: 2m 18s\n",
      "39:\tlearn: 1.3245576\ttotal: 8m 24s\tremaining: 2m 6s\n",
      "40:\tlearn: 1.3203001\ttotal: 8m 36s\tremaining: 1m 53s\n",
      "41:\tlearn: 1.3160837\ttotal: 8m 49s\tremaining: 1m 40s\n",
      "42:\tlearn: 1.3123509\ttotal: 9m 2s\tremaining: 1m 28s\n",
      "43:\tlearn: 1.3082678\ttotal: 9m 14s\tremaining: 1m 15s\n",
      "44:\tlearn: 1.3040859\ttotal: 9m 27s\tremaining: 1m 3s\n",
      "45:\tlearn: 1.3002436\ttotal: 9m 40s\tremaining: 50.5s\n",
      "46:\tlearn: 1.2962598\ttotal: 9m 53s\tremaining: 37.9s\n",
      "47:\tlearn: 1.2930615\ttotal: 10m 5s\tremaining: 25.2s\n",
      "48:\tlearn: 1.2888543\ttotal: 10m 18s\tremaining: 12.6s\n",
      "49:\tlearn: 1.2850413\ttotal: 10m 31s\tremaining: 0us\n",
      "depth =  16 learning rate = 0.01 train loss-  1.6513311920716427 Test loss - 0.9904299887897855\n",
      "0:\tlearn: 1.4642292\ttotal: 12.6s\tremaining: 10m 15s\n",
      "1:\tlearn: 1.4111833\ttotal: 25s\tremaining: 10m\n",
      "2:\tlearn: 1.3624468\ttotal: 37.6s\tremaining: 9m 48s\n",
      "3:\tlearn: 1.3158192\ttotal: 49.9s\tremaining: 9m 33s\n",
      "4:\tlearn: 1.2751147\ttotal: 1m 2s\tremaining: 9m 21s\n",
      "5:\tlearn: 1.2395693\ttotal: 1m 14s\tremaining: 9m 8s\n",
      "6:\tlearn: 1.2064781\ttotal: 1m 27s\tremaining: 8m 56s\n",
      "7:\tlearn: 1.1774541\ttotal: 1m 39s\tremaining: 8m 43s\n",
      "8:\tlearn: 1.1495533\ttotal: 1m 52s\tremaining: 8m 31s\n",
      "9:\tlearn: 1.1216385\ttotal: 2m 4s\tremaining: 8m 19s\n",
      "10:\tlearn: 1.1009344\ttotal: 2m 17s\tremaining: 8m 8s\n",
      "11:\tlearn: 1.0801389\ttotal: 2m 30s\tremaining: 7m 55s\n",
      "12:\tlearn: 1.0606835\ttotal: 2m 42s\tremaining: 7m 42s\n",
      "13:\tlearn: 1.0431130\ttotal: 2m 55s\tremaining: 7m 30s\n",
      "14:\tlearn: 1.0234888\ttotal: 3m 7s\tremaining: 7m 18s\n",
      "15:\tlearn: 1.0107478\ttotal: 3m 20s\tremaining: 7m 5s\n",
      "16:\tlearn: 1.0011364\ttotal: 3m 32s\tremaining: 6m 52s\n",
      "17:\tlearn: 0.9877397\ttotal: 3m 45s\tremaining: 6m 40s\n",
      "18:\tlearn: 0.9776732\ttotal: 3m 57s\tremaining: 6m 28s\n",
      "19:\tlearn: 0.9691933\ttotal: 4m 10s\tremaining: 6m 15s\n",
      "20:\tlearn: 0.9582313\ttotal: 4m 23s\tremaining: 6m 4s\n",
      "21:\tlearn: 0.9474718\ttotal: 4m 35s\tremaining: 5m 51s\n",
      "22:\tlearn: 0.9409205\ttotal: 4m 48s\tremaining: 5m 38s\n",
      "23:\tlearn: 0.9340895\ttotal: 5m\tremaining: 5m 25s\n",
      "24:\tlearn: 0.9265359\ttotal: 5m 13s\tremaining: 5m 13s\n",
      "25:\tlearn: 0.9198352\ttotal: 5m 25s\tremaining: 5m\n",
      "26:\tlearn: 0.9134039\ttotal: 5m 38s\tremaining: 4m 48s\n",
      "27:\tlearn: 0.9067750\ttotal: 5m 50s\tremaining: 4m 35s\n",
      "28:\tlearn: 0.8979297\ttotal: 6m 3s\tremaining: 4m 23s\n",
      "29:\tlearn: 0.8919523\ttotal: 6m 15s\tremaining: 4m 10s\n",
      "30:\tlearn: 0.8870326\ttotal: 6m 28s\tremaining: 3m 57s\n",
      "31:\tlearn: 0.8826382\ttotal: 6m 40s\tremaining: 3m 45s\n",
      "32:\tlearn: 0.8773993\ttotal: 6m 52s\tremaining: 3m 32s\n",
      "33:\tlearn: 0.8736196\ttotal: 7m 4s\tremaining: 3m 19s\n",
      "34:\tlearn: 0.8699865\ttotal: 7m 17s\tremaining: 3m 7s\n",
      "35:\tlearn: 0.8663574\ttotal: 7m 29s\tremaining: 2m 54s\n",
      "36:\tlearn: 0.8631983\ttotal: 7m 41s\tremaining: 2m 42s\n",
      "37:\tlearn: 0.8586267\ttotal: 7m 54s\tremaining: 2m 29s\n",
      "38:\tlearn: 0.8556455\ttotal: 8m 7s\tremaining: 2m 17s\n",
      "39:\tlearn: 0.8528851\ttotal: 8m 19s\tremaining: 2m 4s\n",
      "40:\tlearn: 0.8501668\ttotal: 8m 31s\tremaining: 1m 52s\n",
      "41:\tlearn: 0.8465286\ttotal: 8m 44s\tremaining: 1m 39s\n",
      "42:\tlearn: 0.8436542\ttotal: 8m 56s\tremaining: 1m 27s\n",
      "43:\tlearn: 0.8394462\ttotal: 9m 9s\tremaining: 1m 14s\n",
      "44:\tlearn: 0.8373483\ttotal: 9m 21s\tremaining: 1m 2s\n",
      "45:\tlearn: 0.8352011\ttotal: 9m 33s\tremaining: 49.9s\n",
      "46:\tlearn: 0.8331662\ttotal: 9m 46s\tremaining: 37.4s\n",
      "47:\tlearn: 0.8303069\ttotal: 9m 58s\tremaining: 25s\n",
      "48:\tlearn: 0.8271295\ttotal: 10m 11s\tremaining: 12.5s\n",
      "49:\tlearn: 0.8252015\ttotal: 10m 24s\tremaining: 0us\n",
      "depth =  16 learning rate = 0.1 train loss-  0.6809574905647325 Test loss - 0.6872091048480419\n",
      "CPU times: user 3h 6min 38s, sys: 27min 45s, total: 3h 34min 24s\n",
      "Wall time: 1h 12min 16s\n"
     ]
    }
   ],
   "source": [
    "%%time\n",
    "#hyperparameter tuning\n",
    "from catboost import CatBoostRegressor\n",
    "\n",
    " \n",
    "\n",
    "def tuning_grid_search(params, params2, x_train, y_train, x_cv, y_cv):\n",
    "    \n",
    "    train_scores = []\n",
    "    test_scores = []\n",
    "    for i in params:\n",
    "        tr_s = []\n",
    "        te_s = []\n",
    "        for j in params2:\n",
    "            \n",
    "            clf = CatBoostRegressor(iterations=50,\n",
    "                              learning_rate=j,\n",
    "                              depth=i, loss_function='RMSE', )\n",
    "\n",
    "\n",
    "            clf.fit(x_train, y_train)\n",
    "            train_sc = mean_squared_error(y_train, clf.predict(x_train))\n",
    "            test_sc = mean_squared_error(y_cv, clf.predict(x_cv))\n",
    "            \n",
    "            tr_s.append(test_sc)\n",
    "            te_s.append(train_sc)\n",
    "           \n",
    "            \n",
    "            print('depth = ',i,'learning rate =',j, 'train loss- ',train_sc,'Test loss -',test_sc)\n",
    "            \n",
    "         \n",
    "        test_scores.append(tr_s)\n",
    "        train_scores.append(te_s)\n",
    "        \n",
    "\n",
    "    return train_scores, test_scores\n",
    "\n",
    "    \n",
    "\n",
    "depths = [11,12,15,16]\n",
    "learning_rate = [.01, 0.1 ]\n",
    "\n",
    "train_scores, test_scores = tuning_grid_search(depths, learning_rate, X_train, Y_train, X_valid, Y_valid)  \n"
   ]
  },
  {
   "cell_type": "markdown",
   "metadata": {
    "id": "zGlFihV9EdV6"
   },
   "source": [
    "**observation**:\n",
    "\n",
    "\n",
    "finally we get best depth  = 16 and learning_rate = 0.1 which is giving train_loss = 0.6809 and test_loss = 0.6872\n"
   ]
  },
  {
   "cell_type": "code",
   "execution_count": null,
   "metadata": {
    "id": "a1US1MwPqkW9"
   },
   "outputs": [],
   "source": [
    "# depth =  16 learning rate = 0.1 train loss-  1.5365319786068083 Test loss - 0.957646089626013\n",
    "# depth =  11 learning rate = 0.1 train loss-  0.7408490019386933 Test loss - 0.781272587790982\n",
    "# depth =  15 learning rate = 0.1 train loss-  0.6869165184971195 Test loss - 0.7465221010258248\n",
    "# depth =  12 learning rate = 0.1 train loss-  0.7201806329016283 Test loss - 0.7738442584965375\n",
    "#depth =  16 learning rate = 0.1 train loss-  0.6809574905647325 Test loss - 0.6872091048480419\n",
    "\n"
   ]
  },
  {
   "cell_type": "markdown",
   "metadata": {
    "id": "lCWSizvmVKwn"
   },
   "source": [
    "##### **CatBoostReg model define**"
   ]
  },
  {
   "cell_type": "code",
   "execution_count": null,
   "metadata": {},
   "outputs": [],
   "source": [
    "\n",
    "# loading the pickled model\n",
    "# cat_boost_model = load('cat_boost_model.joblib')"
   ]
  },
  {
   "cell_type": "code",
   "execution_count": 21,
   "metadata": {},
   "outputs": [
    {
     "name": "stdout",
     "output_type": "stream",
     "text": [
      "0:\tlearn: 1.4642292\ttotal: 23.7s\tremaining: 31m 15s\n",
      "1:\tlearn: 1.4111833\ttotal: 46s\tremaining: 29m 54s\n",
      "2:\tlearn: 1.3624468\ttotal: 1m 9s\tremaining: 29m 40s\n",
      "3:\tlearn: 1.3158192\ttotal: 1m 31s\tremaining: 29m 5s\n",
      "4:\tlearn: 1.2751147\ttotal: 1m 49s\tremaining: 27m 26s\n",
      "5:\tlearn: 1.2395693\ttotal: 2m 7s\tremaining: 26m 12s\n",
      "6:\tlearn: 1.2064781\ttotal: 2m 24s\tremaining: 25m 11s\n",
      "7:\tlearn: 1.1774541\ttotal: 2m 42s\tremaining: 24m 18s\n",
      "8:\tlearn: 1.1495533\ttotal: 2m 59s\tremaining: 23m 34s\n",
      "9:\tlearn: 1.1216385\ttotal: 3m 16s\tremaining: 22m 56s\n",
      "10:\tlearn: 1.1009344\ttotal: 3m 33s\tremaining: 22m 20s\n",
      "11:\tlearn: 1.0801389\ttotal: 3m 50s\tremaining: 21m 46s\n",
      "12:\tlearn: 1.0606835\ttotal: 4m 7s\tremaining: 21m 14s\n",
      "13:\tlearn: 1.0431130\ttotal: 4m 24s\tremaining: 20m 45s\n",
      "14:\tlearn: 1.0234888\ttotal: 4m 40s\tremaining: 20m 17s\n",
      "15:\tlearn: 1.0107478\ttotal: 4m 57s\tremaining: 19m 51s\n",
      "16:\tlearn: 1.0011364\ttotal: 5m 14s\tremaining: 19m 25s\n",
      "17:\tlearn: 0.9877397\ttotal: 5m 31s\tremaining: 19m\n",
      "18:\tlearn: 0.9776732\ttotal: 5m 48s\tremaining: 18m 37s\n",
      "19:\tlearn: 0.9691933\ttotal: 6m 5s\tremaining: 18m 15s\n",
      "20:\tlearn: 0.9582313\ttotal: 6m 22s\tremaining: 17m 54s\n",
      "21:\tlearn: 0.9474718\ttotal: 6m 39s\tremaining: 17m 32s\n",
      "22:\tlearn: 0.9409205\ttotal: 6m 59s\tremaining: 17m 18s\n",
      "23:\tlearn: 0.9340895\ttotal: 7m 16s\tremaining: 16m 58s\n",
      "24:\tlearn: 0.9265359\ttotal: 7m 33s\tremaining: 16m 37s\n",
      "25:\tlearn: 0.9198352\ttotal: 7m 50s\tremaining: 16m 16s\n",
      "26:\tlearn: 0.9134039\ttotal: 8m 7s\tremaining: 15m 56s\n",
      "27:\tlearn: 0.9067750\ttotal: 8m 24s\tremaining: 15m 36s\n",
      "28:\tlearn: 0.8979297\ttotal: 8m 41s\tremaining: 15m 16s\n",
      "29:\tlearn: 0.8919523\ttotal: 8m 57s\tremaining: 14m 56s\n",
      "30:\tlearn: 0.8870326\ttotal: 9m 14s\tremaining: 14m 35s\n",
      "31:\tlearn: 0.8826382\ttotal: 9m 30s\tremaining: 14m 15s\n",
      "32:\tlearn: 0.8773993\ttotal: 9m 47s\tremaining: 13m 56s\n",
      "33:\tlearn: 0.8736196\ttotal: 10m 3s\tremaining: 13m 36s\n",
      "34:\tlearn: 0.8699865\ttotal: 10m 20s\tremaining: 13m 17s\n",
      "35:\tlearn: 0.8663574\ttotal: 10m 36s\tremaining: 12m 58s\n",
      "36:\tlearn: 0.8631983\ttotal: 10m 54s\tremaining: 12m 40s\n",
      "37:\tlearn: 0.8586267\ttotal: 11m 11s\tremaining: 12m 21s\n",
      "38:\tlearn: 0.8556455\ttotal: 11m 28s\tremaining: 12m 3s\n",
      "39:\tlearn: 0.8528851\ttotal: 11m 44s\tremaining: 11m 44s\n",
      "40:\tlearn: 0.8501668\ttotal: 12m 1s\tremaining: 11m 26s\n",
      "41:\tlearn: 0.8465286\ttotal: 12m 17s\tremaining: 11m 7s\n",
      "42:\tlearn: 0.8436542\ttotal: 12m 34s\tremaining: 10m 49s\n",
      "43:\tlearn: 0.8394462\ttotal: 12m 52s\tremaining: 10m 31s\n",
      "44:\tlearn: 0.8373483\ttotal: 13m 9s\tremaining: 10m 13s\n",
      "45:\tlearn: 0.8352011\ttotal: 13m 25s\tremaining: 9m 55s\n",
      "46:\tlearn: 0.8331662\ttotal: 13m 41s\tremaining: 9m 36s\n",
      "47:\tlearn: 0.8303069\ttotal: 13m 57s\tremaining: 9m 18s\n",
      "48:\tlearn: 0.8271295\ttotal: 14m 14s\tremaining: 9m\n",
      "49:\tlearn: 0.8252015\ttotal: 14m 30s\tremaining: 8m 42s\n",
      "50:\tlearn: 0.8230744\ttotal: 14m 46s\tremaining: 8m 24s\n",
      "51:\tlearn: 0.8198882\ttotal: 15m 2s\tremaining: 8m 6s\n",
      "52:\tlearn: 0.8180257\ttotal: 15m 19s\tremaining: 7m 48s\n",
      "53:\tlearn: 0.8142769\ttotal: 15m 35s\tremaining: 7m 30s\n",
      "54:\tlearn: 0.8127863\ttotal: 15m 51s\tremaining: 7m 12s\n",
      "55:\tlearn: 0.8111924\ttotal: 16m 7s\tremaining: 6m 54s\n",
      "56:\tlearn: 0.8095019\ttotal: 16m 25s\tremaining: 6m 37s\n",
      "57:\tlearn: 0.8067039\ttotal: 16m 41s\tremaining: 6m 20s\n",
      "58:\tlearn: 0.8054889\ttotal: 16m 57s\tremaining: 6m 2s\n",
      "59:\tlearn: 0.8043127\ttotal: 17m 14s\tremaining: 5m 44s\n",
      "60:\tlearn: 0.8033758\ttotal: 17m 30s\tremaining: 5m 27s\n",
      "61:\tlearn: 0.8012929\ttotal: 17m 46s\tremaining: 5m 9s\n",
      "62:\tlearn: 0.8001492\ttotal: 18m 3s\tremaining: 4m 52s\n",
      "63:\tlearn: 0.7989522\ttotal: 18m 19s\tremaining: 4m 34s\n",
      "64:\tlearn: 0.7978216\ttotal: 18m 35s\tremaining: 4m 17s\n",
      "65:\tlearn: 0.7955594\ttotal: 18m 51s\tremaining: 4m\n",
      "66:\tlearn: 0.7934143\ttotal: 19m 8s\tremaining: 3m 42s\n",
      "67:\tlearn: 0.7926489\ttotal: 19m 24s\tremaining: 3m 25s\n",
      "68:\tlearn: 0.7901990\ttotal: 19m 40s\tremaining: 3m 8s\n",
      "69:\tlearn: 0.7889253\ttotal: 19m 56s\tremaining: 2m 50s\n",
      "70:\tlearn: 0.7866989\ttotal: 20m 13s\tremaining: 2m 33s\n",
      "71:\tlearn: 0.7859942\ttotal: 20m 30s\tremaining: 2m 16s\n",
      "72:\tlearn: 0.7844021\ttotal: 20m 46s\tremaining: 1m 59s\n",
      "73:\tlearn: 0.7838509\ttotal: 21m 2s\tremaining: 1m 42s\n",
      "74:\tlearn: 0.7819028\ttotal: 21m 19s\tremaining: 1m 25s\n",
      "75:\tlearn: 0.7813024\ttotal: 21m 35s\tremaining: 1m 8s\n",
      "76:\tlearn: 0.7806219\ttotal: 21m 51s\tremaining: 51.1s\n",
      "77:\tlearn: 0.7789385\ttotal: 22m 8s\tremaining: 34.1s\n",
      "78:\tlearn: 0.7776629\ttotal: 22m 24s\tremaining: 17s\n",
      "79:\tlearn: 0.7765670\ttotal: 22m 40s\tremaining: 0us\n",
      "Wall time: 28min 29s\n"
     ]
    }
   ],
   "source": [
    "%%time\n",
    "from catboost import CatBoostRegressor\n",
    "# ref: https://catboost.ai/en/docs/concepts/python-usages-examples\n",
    "\n",
    "\n",
    "cat_boost_model = CatBoostRegressor(iterations=80,\n",
    "                          learning_rate=0.1,\n",
    "                          depth=16, loss_function='RMSE')\n",
    "# depth =  11 learning rate = 0.1 train loss-  1.273804987740196 Test loss - 0.7666459548684269\n",
    "\n",
    "# Fit model\n",
    "cat_boost_model.fit(X_train,Y_train)\n",
    "# Get predictions\n",
    "y_pred_tr = cat_boost_model.predict(X_train)\n",
    "y_pred_cv = cat_boost_model.predict(X_valid)\n"
   ]
  },
  {
   "cell_type": "code",
   "execution_count": 22,
   "metadata": {},
   "outputs": [
    {
     "name": "stdout",
     "output_type": "stream",
     "text": [
      "Wall time: 764 ms\n"
     ]
    },
    {
     "data": {
      "text/plain": [
       "(0.6030562434372128, 0.6998912867544851)"
      ]
     },
     "execution_count": 22,
     "metadata": {},
     "output_type": "execute_result"
    }
   ],
   "source": [
    "%%time\n",
    "rmse_tr = mean_squared_error(Y_train,y_pred_tr)\n",
    "rmse_cv = mean_squared_error(Y_valid,y_pred_cv)\n",
    "\n",
    "rmse_tr, rmse_cv "
   ]
  },
  {
   "cell_type": "markdown",
   "metadata": {
    "id": "HajcUupNJnAO"
   },
   "source": [
    "#### **lightgbm**"
   ]
  },
  {
   "cell_type": "code",
   "execution_count": null,
   "metadata": {
    "id": "FiglT7fRym0z"
   },
   "outputs": [],
   "source": [
    "# if you are using GPU\n",
    "# !pip install lightgbm --install-option=--gpu --install-option=\"--boost-root=C:/local/boost_1_69_0\" --install-option=\"--boost-librarydir=C:/local/boost_1_69_0/lib64-msvc-14.1\"\n"
   ]
  },
  {
   "cell_type": "code",
   "execution_count": 61,
   "metadata": {
    "colab": {
     "base_uri": "https://localhost:8080/",
     "height": 0
    },
    "id": "AdGOiIUJvJp4",
    "outputId": "0e4952d7-e0f6-46a7-8ce7-76237514cfff"
   },
   "outputs": [
    {
     "name": "stdout",
     "output_type": "stream",
     "text": [
      "[1]\tvalid_0's rmse: 1.14635\n",
      "Training until validation scores don't improve for 10 rounds.\n",
      "[2]\tvalid_0's rmse: 1.14631\n",
      "[3]\tvalid_0's rmse: 1.14628\n",
      "[4]\tvalid_0's rmse: 1.14624\n",
      "[5]\tvalid_0's rmse: 1.1462\n",
      "[6]\tvalid_0's rmse: 1.14616\n",
      "[7]\tvalid_0's rmse: 1.14613\n",
      "[8]\tvalid_0's rmse: 1.14609\n",
      "[9]\tvalid_0's rmse: 1.14605\n",
      "[10]\tvalid_0's rmse: 1.14602\n",
      "[11]\tvalid_0's rmse: 1.14598\n",
      "[12]\tvalid_0's rmse: 1.14594\n",
      "[13]\tvalid_0's rmse: 1.1459\n",
      "[14]\tvalid_0's rmse: 1.14587\n",
      "[15]\tvalid_0's rmse: 1.14583\n",
      "[16]\tvalid_0's rmse: 1.14579\n",
      "[17]\tvalid_0's rmse: 1.14575\n",
      "[18]\tvalid_0's rmse: 1.14572\n",
      "[19]\tvalid_0's rmse: 1.14568\n",
      "[20]\tvalid_0's rmse: 1.14564\n",
      "Did not meet early stopping. Best iteration is:\n",
      "[20]\tvalid_0's rmse: 1.14564\n",
      "learning rate =  0.0001 num_leaves : 5 train_loss-  2.324508196868794 Test_loss - 1.3124957530371393\n",
      "[1]\tvalid_0's rmse: 1.14634\n",
      "Training until validation scores don't improve for 10 rounds.\n",
      "[2]\tvalid_0's rmse: 1.1463\n",
      "[3]\tvalid_0's rmse: 1.14626\n",
      "[4]\tvalid_0's rmse: 1.14621\n",
      "[5]\tvalid_0's rmse: 1.14617\n",
      "[6]\tvalid_0's rmse: 1.14612\n",
      "[7]\tvalid_0's rmse: 1.14608\n",
      "[8]\tvalid_0's rmse: 1.14604\n",
      "[9]\tvalid_0's rmse: 1.14599\n",
      "[10]\tvalid_0's rmse: 1.14595\n",
      "[11]\tvalid_0's rmse: 1.1459\n",
      "[12]\tvalid_0's rmse: 1.14586\n",
      "[13]\tvalid_0's rmse: 1.14582\n",
      "[14]\tvalid_0's rmse: 1.14577\n",
      "[15]\tvalid_0's rmse: 1.14573\n",
      "[16]\tvalid_0's rmse: 1.14568\n",
      "[17]\tvalid_0's rmse: 1.14564\n",
      "[18]\tvalid_0's rmse: 1.1456\n",
      "[19]\tvalid_0's rmse: 1.14555\n",
      "[20]\tvalid_0's rmse: 1.14551\n",
      "Did not meet early stopping. Best iteration is:\n",
      "[20]\tvalid_0's rmse: 1.14551\n",
      "learning rate =  0.0001 num_leaves : 10 train_loss-  2.323714717940201 Test_loss - 1.3121916822123403\n",
      "[1]\tvalid_0's rmse: 1.14634\n",
      "Training until validation scores don't improve for 10 rounds.\n",
      "[2]\tvalid_0's rmse: 1.1463\n",
      "[3]\tvalid_0's rmse: 1.14625\n",
      "[4]\tvalid_0's rmse: 1.1462\n",
      "[5]\tvalid_0's rmse: 1.14616\n",
      "[6]\tvalid_0's rmse: 1.14611\n",
      "[7]\tvalid_0's rmse: 1.14606\n",
      "[8]\tvalid_0's rmse: 1.14602\n",
      "[9]\tvalid_0's rmse: 1.14597\n",
      "[10]\tvalid_0's rmse: 1.14593\n",
      "[11]\tvalid_0's rmse: 1.14588\n",
      "[12]\tvalid_0's rmse: 1.14583\n",
      "[13]\tvalid_0's rmse: 1.14579\n",
      "[14]\tvalid_0's rmse: 1.14574\n",
      "[15]\tvalid_0's rmse: 1.1457\n",
      "[16]\tvalid_0's rmse: 1.14565\n",
      "[17]\tvalid_0's rmse: 1.1456\n",
      "[18]\tvalid_0's rmse: 1.14556\n",
      "[19]\tvalid_0's rmse: 1.14551\n",
      "[20]\tvalid_0's rmse: 1.14546\n",
      "Did not meet early stopping. Best iteration is:\n",
      "[20]\tvalid_0's rmse: 1.14546\n",
      "learning rate =  0.0001 num_leaves : 30 train_loss-  2.3232912132992416 Test_loss - 1.3120885791159085\n",
      "[1]\tvalid_0's rmse: 1.14634\n",
      "Training until validation scores don't improve for 10 rounds.\n",
      "[2]\tvalid_0's rmse: 1.1463\n",
      "[3]\tvalid_0's rmse: 1.14625\n",
      "[4]\tvalid_0's rmse: 1.1462\n",
      "[5]\tvalid_0's rmse: 1.14615\n",
      "[6]\tvalid_0's rmse: 1.14611\n",
      "[7]\tvalid_0's rmse: 1.14606\n",
      "[8]\tvalid_0's rmse: 1.14601\n",
      "[9]\tvalid_0's rmse: 1.14597\n",
      "[10]\tvalid_0's rmse: 1.14592\n",
      "[11]\tvalid_0's rmse: 1.14587\n",
      "[12]\tvalid_0's rmse: 1.14583\n",
      "[13]\tvalid_0's rmse: 1.14578\n",
      "[14]\tvalid_0's rmse: 1.14573\n",
      "[15]\tvalid_0's rmse: 1.14569\n",
      "[16]\tvalid_0's rmse: 1.14564\n",
      "[17]\tvalid_0's rmse: 1.14559\n",
      "[18]\tvalid_0's rmse: 1.14555\n",
      "[19]\tvalid_0's rmse: 1.1455\n",
      "[20]\tvalid_0's rmse: 1.14545\n",
      "Did not meet early stopping. Best iteration is:\n",
      "[20]\tvalid_0's rmse: 1.14545\n",
      "learning rate =  0.0001 num_leaves : 50 train_loss-  2.3232218793036523 Test_loss - 1.3120629198343736\n",
      "[1]\tvalid_0's rmse: 1.14601\n",
      "Training until validation scores don't improve for 10 rounds.\n",
      "[2]\tvalid_0's rmse: 1.14564\n",
      "[3]\tvalid_0's rmse: 1.14527\n",
      "[4]\tvalid_0's rmse: 1.1449\n",
      "[5]\tvalid_0's rmse: 1.14453\n",
      "[6]\tvalid_0's rmse: 1.14416\n",
      "[7]\tvalid_0's rmse: 1.14379\n",
      "[8]\tvalid_0's rmse: 1.14342\n",
      "[9]\tvalid_0's rmse: 1.14305\n",
      "[10]\tvalid_0's rmse: 1.14268\n",
      "[11]\tvalid_0's rmse: 1.14231\n",
      "[12]\tvalid_0's rmse: 1.14195\n",
      "[13]\tvalid_0's rmse: 1.14158\n",
      "[14]\tvalid_0's rmse: 1.14122\n",
      "[15]\tvalid_0's rmse: 1.14085\n",
      "[16]\tvalid_0's rmse: 1.14049\n",
      "[17]\tvalid_0's rmse: 1.14012\n",
      "[18]\tvalid_0's rmse: 1.13976\n",
      "[19]\tvalid_0's rmse: 1.1394\n",
      "[20]\tvalid_0's rmse: 1.13903\n",
      "Did not meet early stopping. Best iteration is:\n",
      "[20]\tvalid_0's rmse: 1.13903\n",
      "learning rate =  0.001 num_leaves : 5 train_loss-  2.293504039888465 Test_loss - 1.2973915537291203\n",
      "[1]\tvalid_0's rmse: 1.14595\n",
      "Training until validation scores don't improve for 10 rounds.\n",
      "[2]\tvalid_0's rmse: 1.14551\n",
      "[3]\tvalid_0's rmse: 1.14507\n",
      "[4]\tvalid_0's rmse: 1.14463\n",
      "[5]\tvalid_0's rmse: 1.1442\n",
      "[6]\tvalid_0's rmse: 1.14376\n",
      "[7]\tvalid_0's rmse: 1.14333\n",
      "[8]\tvalid_0's rmse: 1.14289\n",
      "[9]\tvalid_0's rmse: 1.14246\n",
      "[10]\tvalid_0's rmse: 1.14203\n",
      "[11]\tvalid_0's rmse: 1.1416\n",
      "[12]\tvalid_0's rmse: 1.14117\n",
      "[13]\tvalid_0's rmse: 1.14074\n",
      "[14]\tvalid_0's rmse: 1.14032\n",
      "[15]\tvalid_0's rmse: 1.13989\n",
      "[16]\tvalid_0's rmse: 1.13946\n",
      "[17]\tvalid_0's rmse: 1.13904\n",
      "[18]\tvalid_0's rmse: 1.13862\n",
      "[19]\tvalid_0's rmse: 1.13819\n",
      "[20]\tvalid_0's rmse: 1.13777\n",
      "Did not meet early stopping. Best iteration is:\n",
      "[20]\tvalid_0's rmse: 1.13777\n",
      "learning rate =  0.001 num_leaves : 10 train_loss-  2.285707236296323 Test_loss - 1.2945286134335783\n",
      "[1]\tvalid_0's rmse: 1.14593\n",
      "Training until validation scores don't improve for 10 rounds.\n",
      "[2]\tvalid_0's rmse: 1.14546\n",
      "[3]\tvalid_0's rmse: 1.145\n",
      "[4]\tvalid_0's rmse: 1.14454\n",
      "[5]\tvalid_0's rmse: 1.14408\n",
      "[6]\tvalid_0's rmse: 1.14363\n",
      "[7]\tvalid_0's rmse: 1.14317\n",
      "[8]\tvalid_0's rmse: 1.14271\n",
      "[9]\tvalid_0's rmse: 1.14226\n",
      "[10]\tvalid_0's rmse: 1.1418\n",
      "[11]\tvalid_0's rmse: 1.14135\n",
      "[12]\tvalid_0's rmse: 1.14089\n",
      "[13]\tvalid_0's rmse: 1.14044\n",
      "[14]\tvalid_0's rmse: 1.13999\n",
      "[15]\tvalid_0's rmse: 1.13954\n",
      "[16]\tvalid_0's rmse: 1.13909\n",
      "[17]\tvalid_0's rmse: 1.13864\n",
      "[18]\tvalid_0's rmse: 1.13819\n",
      "[19]\tvalid_0's rmse: 1.13775\n",
      "[20]\tvalid_0's rmse: 1.1373\n",
      "Did not meet early stopping. Best iteration is:\n",
      "[20]\tvalid_0's rmse: 1.1373\n",
      "learning rate =  0.001 num_leaves : 30 train_loss-  2.2815456084320136 Test_loss - 1.2934555000547183\n",
      "[1]\tvalid_0's rmse: 1.14592\n",
      "Training until validation scores don't improve for 10 rounds.\n",
      "[2]\tvalid_0's rmse: 1.14545\n",
      "[3]\tvalid_0's rmse: 1.14499\n",
      "[4]\tvalid_0's rmse: 1.14452\n",
      "[5]\tvalid_0's rmse: 1.14406\n",
      "[6]\tvalid_0's rmse: 1.14359\n",
      "[7]\tvalid_0's rmse: 1.14313\n",
      "[8]\tvalid_0's rmse: 1.14267\n",
      "[9]\tvalid_0's rmse: 1.14221\n",
      "[10]\tvalid_0's rmse: 1.14175\n",
      "[11]\tvalid_0's rmse: 1.14129\n",
      "[12]\tvalid_0's rmse: 1.14083\n",
      "[13]\tvalid_0's rmse: 1.14037\n",
      "[14]\tvalid_0's rmse: 1.13992\n",
      "[15]\tvalid_0's rmse: 1.13946\n",
      "[16]\tvalid_0's rmse: 1.13901\n",
      "[17]\tvalid_0's rmse: 1.13856\n",
      "[18]\tvalid_0's rmse: 1.1381\n",
      "[19]\tvalid_0's rmse: 1.13765\n",
      "[20]\tvalid_0's rmse: 1.1372\n",
      "Did not meet early stopping. Best iteration is:\n",
      "[20]\tvalid_0's rmse: 1.1372\n",
      "learning rate =  0.001 num_leaves : 50 train_loss-  2.2808639629035987 Test_loss - 1.293231356788507\n",
      "[1]\tvalid_0's rmse: 1.14266\n",
      "Training until validation scores don't improve for 10 rounds.\n",
      "[2]\tvalid_0's rmse: 1.13901\n",
      "[3]\tvalid_0's rmse: 1.13539\n",
      "[4]\tvalid_0's rmse: 1.13186\n",
      "[5]\tvalid_0's rmse: 1.1284\n",
      "[6]\tvalid_0's rmse: 1.12497\n",
      "[7]\tvalid_0's rmse: 1.12163\n",
      "[8]\tvalid_0's rmse: 1.11832\n",
      "[9]\tvalid_0's rmse: 1.1151\n",
      "[10]\tvalid_0's rmse: 1.11191\n",
      "[11]\tvalid_0's rmse: 1.10881\n",
      "[12]\tvalid_0's rmse: 1.10457\n",
      "[13]\tvalid_0's rmse: 1.10162\n",
      "[14]\tvalid_0's rmse: 1.09759\n",
      "[15]\tvalid_0's rmse: 1.09472\n",
      "[16]\tvalid_0's rmse: 1.09195\n",
      "[17]\tvalid_0's rmse: 1.0881\n",
      "[18]\tvalid_0's rmse: 1.0843\n",
      "[19]\tvalid_0's rmse: 1.08171\n",
      "[20]\tvalid_0's rmse: 1.07813\n",
      "Did not meet early stopping. Best iteration is:\n",
      "[20]\tvalid_0's rmse: 1.07813\n",
      "learning rate =  0.01 num_leaves : 5 train_loss-  2.033902018429956 Test_loss - 1.1623614257713935\n",
      "[1]\tvalid_0's rmse: 1.14201\n",
      "Training until validation scores don't improve for 10 rounds.\n",
      "[2]\tvalid_0's rmse: 1.13774\n",
      "[3]\tvalid_0's rmse: 1.13356\n",
      "[4]\tvalid_0's rmse: 1.12962\n",
      "[5]\tvalid_0's rmse: 1.12563\n",
      "[6]\tvalid_0's rmse: 1.12186\n",
      "[7]\tvalid_0's rmse: 1.11806\n",
      "[8]\tvalid_0's rmse: 1.11435\n",
      "[9]\tvalid_0's rmse: 1.11071\n",
      "[10]\tvalid_0's rmse: 1.10701\n",
      "[11]\tvalid_0's rmse: 1.10329\n",
      "[12]\tvalid_0's rmse: 1.09989\n",
      "[13]\tvalid_0's rmse: 1.09636\n",
      "[14]\tvalid_0's rmse: 1.09292\n",
      "[15]\tvalid_0's rmse: 1.08937\n",
      "[16]\tvalid_0's rmse: 1.08606\n",
      "[17]\tvalid_0's rmse: 1.08254\n",
      "[18]\tvalid_0's rmse: 1.07946\n",
      "[19]\tvalid_0's rmse: 1.0763\n",
      "[20]\tvalid_0's rmse: 1.07324\n",
      "Did not meet early stopping. Best iteration is:\n",
      "[20]\tvalid_0's rmse: 1.07324\n",
      "learning rate =  0.01 num_leaves : 10 train_loss-  1.9684860894554792 Test_loss - 1.1518433553843614\n",
      "[1]\tvalid_0's rmse: 1.14178\n",
      "Training until validation scores don't improve for 10 rounds.\n",
      "[2]\tvalid_0's rmse: 1.13726\n",
      "[3]\tvalid_0's rmse: 1.13283\n",
      "[4]\tvalid_0's rmse: 1.12849\n",
      "[5]\tvalid_0's rmse: 1.12361\n",
      "[6]\tvalid_0's rmse: 1.11945\n",
      "[7]\tvalid_0's rmse: 1.1148\n",
      "[8]\tvalid_0's rmse: 1.11079\n",
      "[9]\tvalid_0's rmse: 1.10629\n",
      "[10]\tvalid_0's rmse: 1.10242\n",
      "[11]\tvalid_0's rmse: 1.09817\n",
      "[12]\tvalid_0's rmse: 1.09443\n",
      "[13]\tvalid_0's rmse: 1.09042\n",
      "[14]\tvalid_0's rmse: 1.08687\n",
      "[15]\tvalid_0's rmse: 1.08304\n",
      "[16]\tvalid_0's rmse: 1.07967\n",
      "[17]\tvalid_0's rmse: 1.07659\n",
      "[18]\tvalid_0's rmse: 1.073\n",
      "[19]\tvalid_0's rmse: 1.07004\n",
      "[20]\tvalid_0's rmse: 1.06695\n",
      "Did not meet early stopping. Best iteration is:\n",
      "[20]\tvalid_0's rmse: 1.06695\n",
      "learning rate =  0.01 num_leaves : 30 train_loss-  1.9338211499926867 Test_loss - 1.1383830107014596\n",
      "[1]\tvalid_0's rmse: 1.14172\n",
      "Training until validation scores don't improve for 10 rounds.\n",
      "[2]\tvalid_0's rmse: 1.13716\n",
      "[3]\tvalid_0's rmse: 1.13269\n",
      "[4]\tvalid_0's rmse: 1.12831\n",
      "[5]\tvalid_0's rmse: 1.12402\n",
      "[6]\tvalid_0's rmse: 1.11983\n",
      "[7]\tvalid_0's rmse: 1.11514\n",
      "[8]\tvalid_0's rmse: 1.11107\n",
      "[9]\tvalid_0's rmse: 1.10651\n",
      "[10]\tvalid_0's rmse: 1.10261\n",
      "[11]\tvalid_0's rmse: 1.09827\n",
      "[12]\tvalid_0's rmse: 1.09406\n",
      "[13]\tvalid_0's rmse: 1.09045\n",
      "[14]\tvalid_0's rmse: 1.08649\n",
      "[15]\tvalid_0's rmse: 1.08299\n",
      "[16]\tvalid_0's rmse: 1.07921\n",
      "[17]\tvalid_0's rmse: 1.07608\n",
      "[18]\tvalid_0's rmse: 1.07251\n",
      "[19]\tvalid_0's rmse: 1.06952\n",
      "[20]\tvalid_0's rmse: 1.06613\n",
      "Did not meet early stopping. Best iteration is:\n",
      "[20]\tvalid_0's rmse: 1.06613\n",
      "learning rate =  0.01 num_leaves : 50 train_loss-  1.9284239669080878 Test_loss - 1.136628525691722\n",
      "[1]\tvalid_0's rmse: 1.11064\n",
      "Training until validation scores don't improve for 10 rounds.\n",
      "[2]\tvalid_0's rmse: 1.08107\n",
      "[3]\tvalid_0's rmse: 1.04761\n",
      "[4]\tvalid_0's rmse: 1.02021\n",
      "[5]\tvalid_0's rmse: 0.99968\n",
      "[6]\tvalid_0's rmse: 0.984745\n",
      "[7]\tvalid_0's rmse: 0.97279\n",
      "[8]\tvalid_0's rmse: 0.957709\n",
      "[9]\tvalid_0's rmse: 0.946613\n",
      "[10]\tvalid_0's rmse: 0.939032\n",
      "[11]\tvalid_0's rmse: 0.919915\n",
      "[12]\tvalid_0's rmse: 0.911961\n",
      "[13]\tvalid_0's rmse: 0.904799\n",
      "[14]\tvalid_0's rmse: 0.894551\n",
      "[15]\tvalid_0's rmse: 0.892776\n",
      "[16]\tvalid_0's rmse: 0.88776\n",
      "[17]\tvalid_0's rmse: 0.882963\n",
      "[18]\tvalid_0's rmse: 0.882864\n",
      "[19]\tvalid_0's rmse: 0.880677\n",
      "[20]\tvalid_0's rmse: 0.879443\n",
      "Did not meet early stopping. Best iteration is:\n",
      "[20]\tvalid_0's rmse: 0.879443\n",
      "learning rate =  0.1 num_leaves : 5 train_loss-  1.1966258538021968 Test_loss - 0.7734191215571788\n",
      "[1]\tvalid_0's rmse: 1.10536\n",
      "Training until validation scores don't improve for 10 rounds.\n",
      "[2]\tvalid_0's rmse: 1.06923\n",
      "[3]\tvalid_0's rmse: 1.04102\n",
      "[4]\tvalid_0's rmse: 1.02014\n",
      "[5]\tvalid_0's rmse: 1.00667\n",
      "[6]\tvalid_0's rmse: 0.991823\n",
      "[7]\tvalid_0's rmse: 0.971\n",
      "[8]\tvalid_0's rmse: 0.961412\n",
      "[9]\tvalid_0's rmse: 0.957886\n",
      "[10]\tvalid_0's rmse: 0.947782\n",
      "[11]\tvalid_0's rmse: 0.944345\n",
      "[12]\tvalid_0's rmse: 0.938177\n",
      "[13]\tvalid_0's rmse: 0.934081\n",
      "[14]\tvalid_0's rmse: 0.932927\n",
      "[15]\tvalid_0's rmse: 0.924662\n",
      "[16]\tvalid_0's rmse: 0.922843\n",
      "[17]\tvalid_0's rmse: 0.922542\n",
      "[18]\tvalid_0's rmse: 0.921702\n",
      "[19]\tvalid_0's rmse: 0.921137\n",
      "[20]\tvalid_0's rmse: 0.924749\n",
      "Did not meet early stopping. Best iteration is:\n",
      "[19]\tvalid_0's rmse: 0.921137\n",
      "learning rate =  0.1 num_leaves : 10 train_loss-  1.0840924745202376 Test_loss - 0.8484926173609901\n",
      "[1]\tvalid_0's rmse: 1.10239\n",
      "Training until validation scores don't improve for 10 rounds.\n",
      "[2]\tvalid_0's rmse: 1.06266\n",
      "[3]\tvalid_0's rmse: 1.03373\n",
      "[4]\tvalid_0's rmse: 1.01676\n",
      "[5]\tvalid_0's rmse: 1.00186\n",
      "[6]\tvalid_0's rmse: 0.98836\n",
      "[7]\tvalid_0's rmse: 0.975486\n",
      "[8]\tvalid_0's rmse: 0.969802\n",
      "[9]\tvalid_0's rmse: 0.969289\n",
      "[10]\tvalid_0's rmse: 0.971985\n",
      "[11]\tvalid_0's rmse: 0.982346\n",
      "[12]\tvalid_0's rmse: 0.981988\n",
      "[13]\tvalid_0's rmse: 0.991919\n",
      "[14]\tvalid_0's rmse: 0.988272\n",
      "[15]\tvalid_0's rmse: 0.998528\n",
      "[16]\tvalid_0's rmse: 1.00787\n",
      "[17]\tvalid_0's rmse: 1.01004\n",
      "[18]\tvalid_0's rmse: 1.01927\n",
      "[19]\tvalid_0's rmse: 1.02727\n",
      "Early stopping, best iteration is:\n",
      "[9]\tvalid_0's rmse: 0.969289\n",
      "learning rate =  0.1 num_leaves : 30 train_loss-  1.254901283730361 Test_loss - 0.9395217225621117\n",
      "[1]\tvalid_0's rmse: 1.10201\n",
      "Training until validation scores don't improve for 10 rounds.\n",
      "[2]\tvalid_0's rmse: 1.06228\n",
      "[3]\tvalid_0's rmse: 1.03335\n",
      "[4]\tvalid_0's rmse: 1.01616\n",
      "[5]\tvalid_0's rmse: 1.0002\n",
      "[6]\tvalid_0's rmse: 0.983252\n",
      "[7]\tvalid_0's rmse: 0.980477\n",
      "[8]\tvalid_0's rmse: 0.974809\n",
      "[9]\tvalid_0's rmse: 0.976258\n",
      "[10]\tvalid_0's rmse: 0.972648\n",
      "[11]\tvalid_0's rmse: 0.973906\n",
      "[12]\tvalid_0's rmse: 0.978986\n",
      "[13]\tvalid_0's rmse: 0.98817\n",
      "[14]\tvalid_0's rmse: 0.999974\n",
      "[15]\tvalid_0's rmse: 1.00546\n",
      "[16]\tvalid_0's rmse: 1.02161\n",
      "[17]\tvalid_0's rmse: 1.02792\n",
      "[18]\tvalid_0's rmse: 1.02886\n",
      "[19]\tvalid_0's rmse: 1.03701\n",
      "[20]\tvalid_0's rmse: 1.04476\n",
      "Early stopping, best iteration is:\n",
      "[10]\tvalid_0's rmse: 0.972648\n",
      "learning rate =  0.1 num_leaves : 50 train_loss-  1.2060365981412577 Test_loss - 0.946044744673403\n",
      "[1]\tvalid_0's rmse: 0.981289\n",
      "Training until validation scores don't improve for 10 rounds.\n",
      "[2]\tvalid_0's rmse: 0.951217\n",
      "[3]\tvalid_0's rmse: 0.900716\n",
      "[4]\tvalid_0's rmse: 0.905252\n",
      "[5]\tvalid_0's rmse: 0.893487\n",
      "[6]\tvalid_0's rmse: 0.88808\n",
      "[7]\tvalid_0's rmse: 0.890413\n",
      "[8]\tvalid_0's rmse: 0.95778\n",
      "[9]\tvalid_0's rmse: 0.952486\n",
      "[10]\tvalid_0's rmse: 1.14282\n",
      "[11]\tvalid_0's rmse: 1.15201\n",
      "[12]\tvalid_0's rmse: 1.15933\n",
      "[13]\tvalid_0's rmse: 1.17252\n",
      "[14]\tvalid_0's rmse: 1.17003\n",
      "[15]\tvalid_0's rmse: 1.16744\n",
      "[16]\tvalid_0's rmse: 1.16683\n",
      "Early stopping, best iteration is:\n",
      "[6]\tvalid_0's rmse: 0.88808\n",
      "learning rate =  1 num_leaves : 5 train_loss-  1.157014341315811 Test_loss - 0.7886864795765637\n",
      "[1]\tvalid_0's rmse: 1.0813\n",
      "Training until validation scores don't improve for 10 rounds.\n",
      "[2]\tvalid_0's rmse: 1.12983\n",
      "[3]\tvalid_0's rmse: 0.97827\n",
      "[4]\tvalid_0's rmse: 1.16426\n",
      "[5]\tvalid_0's rmse: 1.16184\n",
      "[6]\tvalid_0's rmse: 1.12452\n",
      "[7]\tvalid_0's rmse: 1.12443\n",
      "[8]\tvalid_0's rmse: 1.12932\n",
      "[9]\tvalid_0's rmse: 1.11871\n",
      "[10]\tvalid_0's rmse: 1.15478\n",
      "[11]\tvalid_0's rmse: 1.11148\n",
      "[12]\tvalid_0's rmse: 1.11279\n",
      "[13]\tvalid_0's rmse: 1.11142\n",
      "Early stopping, best iteration is:\n",
      "[3]\tvalid_0's rmse: 0.97827\n",
      "learning rate =  1 num_leaves : 10 train_loss-  1.1047743968786896 Test_loss - 0.9570119770582621\n",
      "[1]\tvalid_0's rmse: 0.988388\n",
      "Training until validation scores don't improve for 10 rounds.\n",
      "[2]\tvalid_0's rmse: 0.972037\n",
      "[3]\tvalid_0's rmse: 0.993333\n",
      "[4]\tvalid_0's rmse: 1.01219\n",
      "[5]\tvalid_0's rmse: 1.00905\n",
      "[6]\tvalid_0's rmse: 1.03751\n",
      "[7]\tvalid_0's rmse: 1.04357\n",
      "[8]\tvalid_0's rmse: 1.11694\n",
      "[9]\tvalid_0's rmse: 1.09939\n",
      "[10]\tvalid_0's rmse: 1.11238\n",
      "[11]\tvalid_0's rmse: 1.12905\n",
      "[12]\tvalid_0's rmse: 1.12643\n",
      "Early stopping, best iteration is:\n",
      "[2]\tvalid_0's rmse: 0.972037\n",
      "learning rate =  1 num_leaves : 30 train_loss-  1.0048477489959615 Test_loss - 0.9448561929681756\n",
      "[1]\tvalid_0's rmse: 1.00755\n",
      "Training until validation scores don't improve for 10 rounds.\n",
      "[2]\tvalid_0's rmse: 1.13729\n",
      "[3]\tvalid_0's rmse: 1.13931\n",
      "[4]\tvalid_0's rmse: 1.55099\n",
      "[5]\tvalid_0's rmse: 1.51816\n",
      "[6]\tvalid_0's rmse: 1.52194\n",
      "[7]\tvalid_0's rmse: 1.48204\n",
      "[8]\tvalid_0's rmse: 1.56379\n",
      "[9]\tvalid_0's rmse: 1.54132\n",
      "[10]\tvalid_0's rmse: 1.45246\n",
      "[11]\tvalid_0's rmse: 1.47295\n",
      "Early stopping, best iteration is:\n",
      "[1]\tvalid_0's rmse: 1.00755\n",
      "learning rate =  1 num_leaves : 50 train_loss-  1.1259646717756784 Test_loss - 1.0151551710142388\n",
      "[1]\tvalid_0's rmse: 6.58533\n",
      "Training until validation scores don't improve for 10 rounds.\n",
      "[2]\tvalid_0's rmse: 57.5336\n",
      "[3]\tvalid_0's rmse: 518.818\n",
      "[4]\tvalid_0's rmse: 4668.26\n",
      "[5]\tvalid_0's rmse: 42015.5\n",
      "[6]\tvalid_0's rmse: 378138\n",
      "[7]\tvalid_0's rmse: 3.40324e+06\n",
      "[8]\tvalid_0's rmse: 3.06292e+07\n",
      "[9]\tvalid_0's rmse: 2.75663e+08\n",
      "[10]\tvalid_0's rmse: 2.48096e+09\n",
      "[11]\tvalid_0's rmse: 2.23287e+10\n",
      "Early stopping, best iteration is:\n",
      "[1]\tvalid_0's rmse: 6.58533\n",
      "learning rate =  10 num_leaves : 5 train_loss-  72.71599624801516 Test_loss - 43.36661946428471\n",
      "[1]\tvalid_0's rmse: 8.81793\n",
      "Training until validation scores don't improve for 10 rounds.\n",
      "[2]\tvalid_0's rmse: 74.9741\n",
      "[3]\tvalid_0's rmse: 678.578\n",
      "[4]\tvalid_0's rmse: 6103.33\n",
      "[5]\tvalid_0's rmse: 54933.8\n",
      "[6]\tvalid_0's rmse: 494400\n",
      "[7]\tvalid_0's rmse: 4.44961e+06\n",
      "[8]\tvalid_0's rmse: 4.00465e+07\n",
      "[9]\tvalid_0's rmse: 3.60418e+08\n",
      "[10]\tvalid_0's rmse: 3.24376e+09\n",
      "[11]\tvalid_0's rmse: 2.91939e+10\n",
      "Early stopping, best iteration is:\n",
      "[1]\tvalid_0's rmse: 8.81793\n",
      "learning rate =  10 num_leaves : 10 train_loss-  88.61654199603913 Test_loss - 77.75588456417825\n",
      "[1]\tvalid_0's rmse: 7.94634\n",
      "Training until validation scores don't improve for 10 rounds.\n",
      "[2]\tvalid_0's rmse: 77.9345\n",
      "[3]\tvalid_0's rmse: 694.097\n",
      "[4]\tvalid_0's rmse: 6254.09\n",
      "[5]\tvalid_0's rmse: 56279.6\n",
      "[6]\tvalid_0's rmse: 506524\n",
      "[7]\tvalid_0's rmse: 4.5587e+06\n",
      "[8]\tvalid_0's rmse: 4.10284e+07\n",
      "[9]\tvalid_0's rmse: 3.69255e+08\n",
      "[10]\tvalid_0's rmse: 3.3233e+09\n",
      "[11]\tvalid_0's rmse: 2.99097e+10\n",
      "Early stopping, best iteration is:\n",
      "[1]\tvalid_0's rmse: 7.94634\n",
      "learning rate =  10 num_leaves : 30 train_loss-  97.10316282100149 Test_loss - 63.144366705500495\n",
      "[1]\tvalid_0's rmse: 8.25796\n",
      "Training until validation scores don't improve for 10 rounds.\n",
      "[2]\tvalid_0's rmse: 80.0377\n",
      "[3]\tvalid_0's rmse: 713.682\n",
      "[4]\tvalid_0's rmse: 6429.7\n",
      "[5]\tvalid_0's rmse: 57860.7\n",
      "[6]\tvalid_0's rmse: 520753\n",
      "[7]\tvalid_0's rmse: 4.68677e+06\n",
      "[8]\tvalid_0's rmse: 4.21809e+07\n",
      "[9]\tvalid_0's rmse: 3.79628e+08\n",
      "[10]\tvalid_0's rmse: 3.41665e+09\n",
      "[11]\tvalid_0's rmse: 3.07499e+10\n",
      "Early stopping, best iteration is:\n",
      "[1]\tvalid_0's rmse: 8.25796\n",
      "learning rate =  10 num_leaves : 50 train_loss-  98.49250899865261 Test_loss - 68.19397154690203\n",
      "CPU times: user 30min 13s, sys: 9.37 s, total: 30min 23s\n",
      "Wall time: 10min 28s\n"
     ]
    }
   ],
   "source": [
    "%%time\n",
    "\n",
    "#hyperparameter tuning\n",
    "warnings.filterwarnings(\"ignore\")\n",
    "\n",
    " \n",
    "def tuning_grid_search(parameters,num_leaves,  x_train, y_train, x_cv, y_cv):\n",
    "    \n",
    "    train_scores = []\n",
    "    test_scores = []\n",
    "    for i in parameters:\n",
    "      tr_s = []\n",
    "      te_s = []\n",
    "      for j in  num_leaves:  \n",
    "          params1 = {'task': 'train', 'boosting': 'gbdt','objective': 'regression',\n",
    "                      'num_leaves': j,'metric': \"rmse\",\n",
    "                      'verbose': -1, 'learning_rate': i, \"num_iterations\":20,\n",
    "                    \"early_stopping_rounds \":10,\n",
    "                    } \n",
    "          # pdb.set_trace()\n",
    "          clf = lgb.train(params1,\n",
    "                    train_set=lgb.Dataset(x_train, y_train),\n",
    "                    valid_sets=lgb.Dataset(x_cv, y_cv),\n",
    "                    early_stopping_rounds=10)\n",
    "\n",
    "          train_sc = mean_squared_error(y_train, clf.predict(x_train))\n",
    "          test_sc = mean_squared_error(y_cv, clf.predict(x_cv))\n",
    "          \n",
    "          te_s.append(test_sc)\n",
    "          tr_s.append(train_sc)\n",
    "          \n",
    "          print('learning rate = ',i, 'num_leaves :',j ,'train_loss- ',train_sc,'Test_loss -',test_sc)\n",
    "      train_scores.append(tr_s)\n",
    "      test_scores.append(te_s)\n",
    "        \n",
    "    \n",
    "    return train_scores, test_scores \n",
    "    \n",
    "\n",
    "alphas = [.0001, .001, .01, .1, 1, 10] \n",
    "num_leaves = [5, 10, 30, 50]\n",
    "\n",
    "train_scores, test_scores = tuning_grid_search(alphas,num_leaves, X_train,Y_train, X_valid, Y_valid) \n",
    "\n"
   ]
  },
  {
   "cell_type": "markdown",
   "metadata": {
    "id": "aPfkPTRKseTa"
   },
   "source": [
    "**we have seen**\n",
    "\n",
    "learning = [0.1, 1] and num_leaves = [5, 10] seem more appropiate for giving good accuracy. \n",
    "\n",
    "so as next step we try to find which is better "
   ]
  },
  {
   "cell_type": "code",
   "execution_count": 63,
   "metadata": {
    "colab": {
     "base_uri": "https://localhost:8080/",
     "height": 0
    },
    "id": "XfmCzYactAqp",
    "outputId": "3e211eff-3277-4287-b7c4-b690a17d05d0"
   },
   "outputs": [
    {
     "name": "stdout",
     "output_type": "stream",
     "text": [
      "[1]\tvalid_0's rmse: 1.14266\n",
      "Training until validation scores don't improve for 10 rounds.\n",
      "[2]\tvalid_0's rmse: 1.13901\n",
      "[3]\tvalid_0's rmse: 1.13539\n",
      "[4]\tvalid_0's rmse: 1.13186\n",
      "[5]\tvalid_0's rmse: 1.1284\n",
      "[6]\tvalid_0's rmse: 1.12497\n",
      "[7]\tvalid_0's rmse: 1.12163\n",
      "[8]\tvalid_0's rmse: 1.11832\n",
      "[9]\tvalid_0's rmse: 1.1151\n",
      "[10]\tvalid_0's rmse: 1.11191\n",
      "[11]\tvalid_0's rmse: 1.10881\n",
      "[12]\tvalid_0's rmse: 1.10457\n",
      "[13]\tvalid_0's rmse: 1.10162\n",
      "[14]\tvalid_0's rmse: 1.09759\n",
      "[15]\tvalid_0's rmse: 1.09472\n",
      "[16]\tvalid_0's rmse: 1.09195\n",
      "[17]\tvalid_0's rmse: 1.0881\n",
      "[18]\tvalid_0's rmse: 1.0843\n",
      "[19]\tvalid_0's rmse: 1.08171\n",
      "[20]\tvalid_0's rmse: 1.07813\n",
      "[21]\tvalid_0's rmse: 1.07565\n",
      "[22]\tvalid_0's rmse: 1.07217\n",
      "[23]\tvalid_0's rmse: 1.06971\n",
      "[24]\tvalid_0's rmse: 1.06637\n",
      "[25]\tvalid_0's rmse: 1.06314\n",
      "[26]\tvalid_0's rmse: 1.06093\n",
      "[27]\tvalid_0's rmse: 1.05875\n",
      "[28]\tvalid_0's rmse: 1.05569\n",
      "[29]\tvalid_0's rmse: 1.05263\n",
      "[30]\tvalid_0's rmse: 1.04968\n",
      "[31]\tvalid_0's rmse: 1.04678\n",
      "[32]\tvalid_0's rmse: 1.04397\n",
      "[33]\tvalid_0's rmse: 1.04117\n",
      "[34]\tvalid_0's rmse: 1.03925\n",
      "[35]\tvalid_0's rmse: 1.03683\n",
      "[36]\tvalid_0's rmse: 1.03415\n",
      "[37]\tvalid_0's rmse: 1.03101\n",
      "[38]\tvalid_0's rmse: 1.02872\n",
      "[39]\tvalid_0's rmse: 1.02671\n",
      "[40]\tvalid_0's rmse: 1.02412\n",
      "[41]\tvalid_0's rmse: 1.02164\n",
      "[42]\tvalid_0's rmse: 1.01989\n",
      "[43]\tvalid_0's rmse: 1.0175\n",
      "[44]\tvalid_0's rmse: 1.0158\n",
      "[45]\tvalid_0's rmse: 1.01399\n",
      "[46]\tvalid_0's rmse: 1.01236\n",
      "[47]\tvalid_0's rmse: 1.0101\n",
      "[48]\tvalid_0's rmse: 1.00838\n",
      "[49]\tvalid_0's rmse: 1.00647\n",
      "[50]\tvalid_0's rmse: 1.00432\n",
      "Did not meet early stopping. Best iteration is:\n",
      "[50]\tvalid_0's rmse: 1.00432\n",
      "learning rate =  0.01 num_leaves : 5 train_loss-  1.7347236929325884 Test_loss - 1.008650822539544\n",
      "[1]\tvalid_0's rmse: 1.14197\n",
      "Training until validation scores don't improve for 10 rounds.\n",
      "[2]\tvalid_0's rmse: 1.13763\n",
      "[3]\tvalid_0's rmse: 1.13338\n",
      "[4]\tvalid_0's rmse: 1.12935\n",
      "[5]\tvalid_0's rmse: 1.12526\n",
      "[6]\tvalid_0's rmse: 1.12138\n",
      "[7]\tvalid_0's rmse: 1.11745\n",
      "[8]\tvalid_0's rmse: 1.1136\n",
      "[9]\tvalid_0's rmse: 1.10995\n",
      "[10]\tvalid_0's rmse: 1.1061\n",
      "[11]\tvalid_0's rmse: 1.10259\n",
      "[12]\tvalid_0's rmse: 1.09902\n",
      "[13]\tvalid_0's rmse: 1.09553\n",
      "[14]\tvalid_0's rmse: 1.09223\n",
      "[15]\tvalid_0's rmse: 1.08859\n",
      "[16]\tvalid_0's rmse: 1.0854\n",
      "[17]\tvalid_0's rmse: 1.08188\n",
      "[18]\tvalid_0's rmse: 1.07872\n",
      "[19]\tvalid_0's rmse: 1.07546\n",
      "[20]\tvalid_0's rmse: 1.07251\n",
      "[21]\tvalid_0's rmse: 1.06923\n",
      "[22]\tvalid_0's rmse: 1.0664\n",
      "[23]\tvalid_0's rmse: 1.06341\n",
      "[24]\tvalid_0's rmse: 1.06047\n",
      "[25]\tvalid_0's rmse: 1.05779\n",
      "[26]\tvalid_0's rmse: 1.05519\n",
      "[27]\tvalid_0's rmse: 1.05235\n",
      "[28]\tvalid_0's rmse: 1.0497\n",
      "[29]\tvalid_0's rmse: 1.04722\n",
      "[30]\tvalid_0's rmse: 1.04482\n",
      "[31]\tvalid_0's rmse: 1.04237\n",
      "[32]\tvalid_0's rmse: 1.04005\n",
      "[33]\tvalid_0's rmse: 1.03748\n",
      "[34]\tvalid_0's rmse: 1.03536\n",
      "[35]\tvalid_0's rmse: 1.03319\n",
      "[36]\tvalid_0's rmse: 1.03106\n",
      "[37]\tvalid_0's rmse: 1.02874\n",
      "[38]\tvalid_0's rmse: 1.02656\n",
      "[39]\tvalid_0's rmse: 1.02448\n",
      "[40]\tvalid_0's rmse: 1.02252\n",
      "[41]\tvalid_0's rmse: 1.02041\n",
      "[42]\tvalid_0's rmse: 1.01852\n",
      "[43]\tvalid_0's rmse: 1.01639\n",
      "[44]\tvalid_0's rmse: 1.0147\n",
      "[45]\tvalid_0's rmse: 1.01263\n",
      "[46]\tvalid_0's rmse: 1.01002\n",
      "[47]\tvalid_0's rmse: 1.0082\n",
      "[48]\tvalid_0's rmse: 1.00655\n",
      "[49]\tvalid_0's rmse: 1.00406\n",
      "[50]\tvalid_0's rmse: 1.00166\n",
      "Did not meet early stopping. Best iteration is:\n",
      "[50]\tvalid_0's rmse: 1.00166\n",
      "learning rate =  0.01 num_leaves : 8 train_loss-  1.6536436203340645 Test_loss - 1.0033318806331193\n",
      "[1]\tvalid_0's rmse: 1.14201\n",
      "Training until validation scores don't improve for 10 rounds.\n",
      "[2]\tvalid_0's rmse: 1.13774\n",
      "[3]\tvalid_0's rmse: 1.13356\n",
      "[4]\tvalid_0's rmse: 1.12962\n",
      "[5]\tvalid_0's rmse: 1.12563\n",
      "[6]\tvalid_0's rmse: 1.12186\n",
      "[7]\tvalid_0's rmse: 1.11806\n",
      "[8]\tvalid_0's rmse: 1.11435\n",
      "[9]\tvalid_0's rmse: 1.11071\n",
      "[10]\tvalid_0's rmse: 1.10701\n",
      "[11]\tvalid_0's rmse: 1.10329\n",
      "[12]\tvalid_0's rmse: 1.09989\n",
      "[13]\tvalid_0's rmse: 1.09636\n",
      "[14]\tvalid_0's rmse: 1.09292\n",
      "[15]\tvalid_0's rmse: 1.08937\n",
      "[16]\tvalid_0's rmse: 1.08606\n",
      "[17]\tvalid_0's rmse: 1.08254\n",
      "[18]\tvalid_0's rmse: 1.07946\n",
      "[19]\tvalid_0's rmse: 1.0763\n",
      "[20]\tvalid_0's rmse: 1.07324\n",
      "[21]\tvalid_0's rmse: 1.07\n",
      "[22]\tvalid_0's rmse: 1.06711\n",
      "[23]\tvalid_0's rmse: 1.06418\n",
      "[24]\tvalid_0's rmse: 1.06109\n",
      "[25]\tvalid_0's rmse: 1.05845\n",
      "[26]\tvalid_0's rmse: 1.05574\n",
      "[27]\tvalid_0's rmse: 1.05323\n",
      "[28]\tvalid_0's rmse: 1.05073\n",
      "[29]\tvalid_0's rmse: 1.04835\n",
      "[30]\tvalid_0's rmse: 1.04573\n",
      "[31]\tvalid_0's rmse: 1.04348\n",
      "[32]\tvalid_0's rmse: 1.04125\n",
      "[33]\tvalid_0's rmse: 1.03927\n",
      "[34]\tvalid_0's rmse: 1.03685\n",
      "[35]\tvalid_0's rmse: 1.03497\n",
      "[36]\tvalid_0's rmse: 1.03295\n",
      "[37]\tvalid_0's rmse: 1.03118\n",
      "[38]\tvalid_0's rmse: 1.02905\n",
      "[39]\tvalid_0's rmse: 1.02738\n",
      "[40]\tvalid_0's rmse: 1.02567\n",
      "[41]\tvalid_0's rmse: 1.02396\n",
      "[42]\tvalid_0's rmse: 1.0219\n",
      "[43]\tvalid_0's rmse: 1.01987\n",
      "[44]\tvalid_0's rmse: 1.01843\n",
      "[45]\tvalid_0's rmse: 1.0166\n",
      "[46]\tvalid_0's rmse: 1.01494\n",
      "[47]\tvalid_0's rmse: 1.01324\n",
      "[48]\tvalid_0's rmse: 1.01197\n",
      "[49]\tvalid_0's rmse: 1.00922\n",
      "[50]\tvalid_0's rmse: 1.00806\n",
      "Did not meet early stopping. Best iteration is:\n",
      "[50]\tvalid_0's rmse: 1.00806\n",
      "learning rate =  0.01 num_leaves : 10 train_loss-  1.6246336798979297 Test_loss - 1.0161797016088854\n",
      "[1]\tvalid_0's rmse: 1.14194\n",
      "Training until validation scores don't improve for 10 rounds.\n",
      "[2]\tvalid_0's rmse: 1.1376\n",
      "[3]\tvalid_0's rmse: 1.13336\n",
      "[4]\tvalid_0's rmse: 1.12929\n",
      "[5]\tvalid_0's rmse: 1.12524\n",
      "[6]\tvalid_0's rmse: 1.12137\n",
      "[7]\tvalid_0's rmse: 1.1175\n",
      "[8]\tvalid_0's rmse: 1.11366\n",
      "[9]\tvalid_0's rmse: 1.11005\n",
      "[10]\tvalid_0's rmse: 1.10639\n",
      "[11]\tvalid_0's rmse: 1.10268\n",
      "[12]\tvalid_0's rmse: 1.09944\n",
      "[13]\tvalid_0's rmse: 1.09577\n",
      "[14]\tvalid_0's rmse: 1.09219\n",
      "[15]\tvalid_0's rmse: 1.08918\n",
      "[16]\tvalid_0's rmse: 1.08574\n",
      "[17]\tvalid_0's rmse: 1.08267\n",
      "[18]\tvalid_0's rmse: 1.07934\n",
      "[19]\tvalid_0's rmse: 1.076\n",
      "[20]\tvalid_0's rmse: 1.07322\n",
      "[21]\tvalid_0's rmse: 1.07018\n",
      "[22]\tvalid_0's rmse: 1.06709\n",
      "[23]\tvalid_0's rmse: 1.06452\n",
      "[24]\tvalid_0's rmse: 1.06147\n",
      "[25]\tvalid_0's rmse: 1.05885\n",
      "[26]\tvalid_0's rmse: 1.05641\n",
      "[27]\tvalid_0's rmse: 1.0536\n",
      "[28]\tvalid_0's rmse: 1.05076\n",
      "[29]\tvalid_0's rmse: 1.04889\n",
      "[30]\tvalid_0's rmse: 1.0469\n",
      "[31]\tvalid_0's rmse: 1.04516\n",
      "[32]\tvalid_0's rmse: 1.04263\n",
      "[33]\tvalid_0's rmse: 1.041\n",
      "[34]\tvalid_0's rmse: 1.03856\n",
      "[35]\tvalid_0's rmse: 1.03632\n",
      "[36]\tvalid_0's rmse: 1.03486\n",
      "[37]\tvalid_0's rmse: 1.03295\n",
      "[38]\tvalid_0's rmse: 1.03081\n",
      "[39]\tvalid_0's rmse: 1.0292\n",
      "[40]\tvalid_0's rmse: 1.02747\n",
      "[41]\tvalid_0's rmse: 1.02578\n",
      "[42]\tvalid_0's rmse: 1.02371\n",
      "[43]\tvalid_0's rmse: 1.02209\n",
      "[44]\tvalid_0's rmse: 1.02057\n",
      "[45]\tvalid_0's rmse: 1.01884\n",
      "[46]\tvalid_0's rmse: 1.01741\n",
      "[47]\tvalid_0's rmse: 1.01569\n",
      "[48]\tvalid_0's rmse: 1.01434\n",
      "[49]\tvalid_0's rmse: 1.01192\n",
      "[50]\tvalid_0's rmse: 1.00961\n",
      "Did not meet early stopping. Best iteration is:\n",
      "[50]\tvalid_0's rmse: 1.00961\n",
      "learning rate =  0.01 num_leaves : 12 train_loss-  1.607187191578929 Test_loss - 1.019318565070838\n",
      "[1]\tvalid_0's rmse: 1.11064\n",
      "Training until validation scores don't improve for 10 rounds.\n",
      "[2]\tvalid_0's rmse: 1.08107\n",
      "[3]\tvalid_0's rmse: 1.04761\n",
      "[4]\tvalid_0's rmse: 1.02021\n",
      "[5]\tvalid_0's rmse: 0.99968\n",
      "[6]\tvalid_0's rmse: 0.984745\n",
      "[7]\tvalid_0's rmse: 0.97279\n",
      "[8]\tvalid_0's rmse: 0.957709\n",
      "[9]\tvalid_0's rmse: 0.946613\n",
      "[10]\tvalid_0's rmse: 0.939032\n",
      "[11]\tvalid_0's rmse: 0.919915\n",
      "[12]\tvalid_0's rmse: 0.911961\n",
      "[13]\tvalid_0's rmse: 0.904799\n",
      "[14]\tvalid_0's rmse: 0.894551\n",
      "[15]\tvalid_0's rmse: 0.892776\n",
      "[16]\tvalid_0's rmse: 0.88776\n",
      "[17]\tvalid_0's rmse: 0.882963\n",
      "[18]\tvalid_0's rmse: 0.882864\n",
      "[19]\tvalid_0's rmse: 0.880677\n",
      "[20]\tvalid_0's rmse: 0.879443\n",
      "[21]\tvalid_0's rmse: 0.884349\n",
      "[22]\tvalid_0's rmse: 0.882296\n",
      "[23]\tvalid_0's rmse: 0.882219\n",
      "[24]\tvalid_0's rmse: 0.882124\n",
      "[25]\tvalid_0's rmse: 0.882242\n",
      "[26]\tvalid_0's rmse: 0.884775\n",
      "[27]\tvalid_0's rmse: 0.883516\n",
      "[28]\tvalid_0's rmse: 0.881823\n",
      "[29]\tvalid_0's rmse: 0.881402\n",
      "[30]\tvalid_0's rmse: 0.88228\n",
      "Early stopping, best iteration is:\n",
      "[20]\tvalid_0's rmse: 0.879443\n",
      "learning rate =  0.1 num_leaves : 5 train_loss-  1.1966258538021968 Test_loss - 0.7734191215571788\n",
      "[1]\tvalid_0's rmse: 1.10421\n",
      "Training until validation scores don't improve for 10 rounds.\n",
      "[2]\tvalid_0's rmse: 1.06874\n",
      "[3]\tvalid_0's rmse: 1.04138\n",
      "[4]\tvalid_0's rmse: 1.01696\n",
      "[5]\tvalid_0's rmse: 0.999696\n",
      "[6]\tvalid_0's rmse: 0.980136\n",
      "[7]\tvalid_0's rmse: 0.962369\n",
      "[8]\tvalid_0's rmse: 0.950823\n",
      "[9]\tvalid_0's rmse: 0.941233\n",
      "[10]\tvalid_0's rmse: 0.928092\n",
      "[11]\tvalid_0's rmse: 0.917684\n",
      "[12]\tvalid_0's rmse: 0.910404\n",
      "[13]\tvalid_0's rmse: 0.906484\n",
      "[14]\tvalid_0's rmse: 0.89859\n",
      "[15]\tvalid_0's rmse: 0.897797\n",
      "[16]\tvalid_0's rmse: 0.893587\n",
      "[17]\tvalid_0's rmse: 0.893206\n",
      "[18]\tvalid_0's rmse: 0.891199\n",
      "[19]\tvalid_0's rmse: 0.89836\n",
      "[20]\tvalid_0's rmse: 0.906047\n",
      "[21]\tvalid_0's rmse: 0.906415\n",
      "[22]\tvalid_0's rmse: 0.90641\n",
      "[23]\tvalid_0's rmse: 0.906595\n",
      "[24]\tvalid_0's rmse: 0.903639\n",
      "[25]\tvalid_0's rmse: 0.905379\n",
      "[26]\tvalid_0's rmse: 0.907449\n",
      "[27]\tvalid_0's rmse: 0.907377\n",
      "[28]\tvalid_0's rmse: 0.917097\n",
      "Early stopping, best iteration is:\n",
      "[18]\tvalid_0's rmse: 0.891199\n",
      "learning rate =  0.1 num_leaves : 8 train_loss-  1.1417026102111192 Test_loss - 0.7942357505819978\n",
      "[1]\tvalid_0's rmse: 1.10536\n",
      "Training until validation scores don't improve for 10 rounds.\n",
      "[2]\tvalid_0's rmse: 1.06923\n",
      "[3]\tvalid_0's rmse: 1.04102\n",
      "[4]\tvalid_0's rmse: 1.02014\n",
      "[5]\tvalid_0's rmse: 1.00667\n",
      "[6]\tvalid_0's rmse: 0.991823\n",
      "[7]\tvalid_0's rmse: 0.971\n",
      "[8]\tvalid_0's rmse: 0.961412\n",
      "[9]\tvalid_0's rmse: 0.957886\n",
      "[10]\tvalid_0's rmse: 0.947782\n",
      "[11]\tvalid_0's rmse: 0.944345\n",
      "[12]\tvalid_0's rmse: 0.938177\n",
      "[13]\tvalid_0's rmse: 0.934081\n",
      "[14]\tvalid_0's rmse: 0.932927\n",
      "[15]\tvalid_0's rmse: 0.924662\n",
      "[16]\tvalid_0's rmse: 0.922843\n",
      "[17]\tvalid_0's rmse: 0.922542\n",
      "[18]\tvalid_0's rmse: 0.921702\n",
      "[19]\tvalid_0's rmse: 0.921137\n",
      "[20]\tvalid_0's rmse: 0.924749\n",
      "[21]\tvalid_0's rmse: 0.925917\n",
      "[22]\tvalid_0's rmse: 0.934095\n",
      "[23]\tvalid_0's rmse: 0.936339\n",
      "[24]\tvalid_0's rmse: 0.940032\n",
      "[25]\tvalid_0's rmse: 0.946127\n",
      "[26]\tvalid_0's rmse: 0.948534\n",
      "[27]\tvalid_0's rmse: 0.953832\n",
      "[28]\tvalid_0's rmse: 0.957616\n",
      "[29]\tvalid_0's rmse: 0.960327\n",
      "Early stopping, best iteration is:\n",
      "[19]\tvalid_0's rmse: 0.921137\n",
      "learning rate =  0.1 num_leaves : 10 train_loss-  1.0840924745202376 Test_loss - 0.8484926173609901\n",
      "[1]\tvalid_0's rmse: 1.10465\n",
      "Training until validation scores don't improve for 10 rounds.\n",
      "[2]\tvalid_0's rmse: 1.0685\n",
      "[3]\tvalid_0's rmse: 1.04519\n",
      "[4]\tvalid_0's rmse: 1.03093\n",
      "[5]\tvalid_0's rmse: 1.01398\n",
      "[6]\tvalid_0's rmse: 0.994717\n",
      "[7]\tvalid_0's rmse: 0.980284\n",
      "[8]\tvalid_0's rmse: 0.972506\n",
      "[9]\tvalid_0's rmse: 0.964353\n",
      "[10]\tvalid_0's rmse: 0.958272\n",
      "[11]\tvalid_0's rmse: 0.952388\n",
      "[12]\tvalid_0's rmse: 0.949144\n",
      "[13]\tvalid_0's rmse: 0.951852\n",
      "[14]\tvalid_0's rmse: 0.948704\n",
      "[15]\tvalid_0's rmse: 0.953261\n",
      "[16]\tvalid_0's rmse: 0.953257\n",
      "[17]\tvalid_0's rmse: 0.9503\n",
      "[18]\tvalid_0's rmse: 0.950478\n",
      "[19]\tvalid_0's rmse: 0.953014\n",
      "[20]\tvalid_0's rmse: 0.952332\n",
      "[21]\tvalid_0's rmse: 0.963573\n",
      "[22]\tvalid_0's rmse: 0.974036\n",
      "[23]\tvalid_0's rmse: 0.976203\n",
      "[24]\tvalid_0's rmse: 0.981333\n",
      "Early stopping, best iteration is:\n",
      "[14]\tvalid_0's rmse: 0.948704\n",
      "learning rate =  0.1 num_leaves : 12 train_loss-  1.1573956019462006 Test_loss - 0.9000387400179195\n",
      "[1]\tvalid_0's rmse: 0.981289\n",
      "Training until validation scores don't improve for 10 rounds.\n",
      "[2]\tvalid_0's rmse: 0.951217\n",
      "[3]\tvalid_0's rmse: 0.900716\n",
      "[4]\tvalid_0's rmse: 0.905252\n",
      "[5]\tvalid_0's rmse: 0.893487\n",
      "[6]\tvalid_0's rmse: 0.88808\n",
      "[7]\tvalid_0's rmse: 0.890413\n",
      "[8]\tvalid_0's rmse: 0.95778\n",
      "[9]\tvalid_0's rmse: 0.952486\n",
      "[10]\tvalid_0's rmse: 1.14282\n",
      "[11]\tvalid_0's rmse: 1.15201\n",
      "[12]\tvalid_0's rmse: 1.15933\n",
      "[13]\tvalid_0's rmse: 1.17252\n",
      "[14]\tvalid_0's rmse: 1.17003\n",
      "[15]\tvalid_0's rmse: 1.16744\n",
      "[16]\tvalid_0's rmse: 1.16683\n",
      "Early stopping, best iteration is:\n",
      "[6]\tvalid_0's rmse: 0.88808\n",
      "learning rate =  1 num_leaves : 5 train_loss-  1.157014341315811 Test_loss - 0.7886864795765637\n",
      "[1]\tvalid_0's rmse: 0.997072\n",
      "Training until validation scores don't improve for 10 rounds.\n",
      "[2]\tvalid_0's rmse: 0.959487\n",
      "[3]\tvalid_0's rmse: 1.18534\n",
      "[4]\tvalid_0's rmse: 1.2659\n",
      "[5]\tvalid_0's rmse: 1.5398\n",
      "[6]\tvalid_0's rmse: 1.55304\n",
      "[7]\tvalid_0's rmse: 1.56772\n",
      "[8]\tvalid_0's rmse: 1.56755\n",
      "[9]\tvalid_0's rmse: 1.55893\n",
      "[10]\tvalid_0's rmse: 1.56123\n",
      "[11]\tvalid_0's rmse: 1.56802\n",
      "[12]\tvalid_0's rmse: 1.56649\n",
      "Early stopping, best iteration is:\n",
      "[2]\tvalid_0's rmse: 0.959487\n",
      "learning rate =  1 num_leaves : 8 train_loss-  1.1976029287377536 Test_loss - 0.9206149717656354\n",
      "[1]\tvalid_0's rmse: 1.0813\n",
      "Training until validation scores don't improve for 10 rounds.\n",
      "[2]\tvalid_0's rmse: 1.12983\n",
      "[3]\tvalid_0's rmse: 0.97827\n",
      "[4]\tvalid_0's rmse: 1.16426\n",
      "[5]\tvalid_0's rmse: 1.16184\n",
      "[6]\tvalid_0's rmse: 1.12452\n",
      "[7]\tvalid_0's rmse: 1.12443\n",
      "[8]\tvalid_0's rmse: 1.12932\n",
      "[9]\tvalid_0's rmse: 1.11871\n",
      "[10]\tvalid_0's rmse: 1.15478\n",
      "[11]\tvalid_0's rmse: 1.11148\n",
      "[12]\tvalid_0's rmse: 1.11279\n",
      "[13]\tvalid_0's rmse: 1.11142\n",
      "Early stopping, best iteration is:\n",
      "[3]\tvalid_0's rmse: 0.97827\n",
      "learning rate =  1 num_leaves : 10 train_loss-  1.1047743968786896 Test_loss - 0.9570119770582621\n",
      "[1]\tvalid_0's rmse: 1.07429\n",
      "Training until validation scores don't improve for 10 rounds.\n",
      "[2]\tvalid_0's rmse: 1.19759\n",
      "[3]\tvalid_0's rmse: 1.30899\n",
      "[4]\tvalid_0's rmse: 1.18766\n",
      "[5]\tvalid_0's rmse: 1.183\n",
      "[6]\tvalid_0's rmse: 1.37392\n",
      "[7]\tvalid_0's rmse: 1.44865\n",
      "[8]\tvalid_0's rmse: 1.44209\n",
      "[9]\tvalid_0's rmse: 1.44366\n",
      "[10]\tvalid_0's rmse: 1.44105\n",
      "[11]\tvalid_0's rmse: 1.58671\n",
      "Early stopping, best iteration is:\n",
      "[1]\tvalid_0's rmse: 1.07429\n",
      "learning rate =  1 num_leaves : 12 train_loss-  1.224749939514747 Test_loss - 1.1540944951252825\n",
      "CPU times: user 18min 50s, sys: 4.61 s, total: 18min 55s\n",
      "Wall time: 6min 28s\n"
     ]
    }
   ],
   "source": [
    "%%time\n",
    "# experiment\n",
    "\n",
    "#hyperparameter tuning\n",
    "import lightgbm as lgb\n",
    "import warnings\n",
    "warnings.filterwarnings(\"ignore\")\n",
    "\n",
    " \n",
    "def tuning_grid_search(parameters,num_leaves,  x_train, y_train, x_cv, y_cv):\n",
    "    \n",
    "    train_scores = []\n",
    "    test_scores = []\n",
    "    for i in parameters:\n",
    "      tr_s = []\n",
    "      te_s = []\n",
    "      for j in  num_leaves:  \n",
    "          params1 = {'task': 'train', 'boosting': 'gbdt','objective': 'regression',\n",
    "                      'num_leaves': j,'metric': \"rmse\",\n",
    "                      'verbose': -1, 'learning_rate': i, \"num_iterations\":50,\n",
    "                    \"early_stopping_rounds \":10,\n",
    "                    } \n",
    "          # pdb.set_trace()\n",
    "          clf = lgb.train(params1,\n",
    "                    train_set=lgb.Dataset(x_train, y_train),\n",
    "                    valid_sets=lgb.Dataset(x_cv, y_cv),\n",
    "                    early_stopping_rounds=10)\n",
    "\n",
    "          train_sc = mean_squared_error(y_train, clf.predict(x_train))\n",
    "          test_sc = mean_squared_error(y_cv, clf.predict(x_cv))\n",
    "          \n",
    "          te_s.append(test_sc)\n",
    "          tr_s.append(train_sc)\n",
    "          \n",
    "          print('learning rate = ',i, 'num_leaves :',j ,'train_loss- ',train_sc,'Test_loss -',test_sc)\n",
    "      train_scores.append(tr_s)\n",
    "      test_scores.append(te_s)\n",
    "        \n",
    "    \n",
    "    return train_scores, test_scores \n",
    "    \n",
    "# perform tuning in range of .01-1 and 5-12 \n",
    "alphas = [.01 ,0.1, 1] \n",
    "num_leaves = [5, 8, 10, 12]\n",
    "\n",
    "train_scores, test_scores = tuning_grid_search(alphas,num_leaves, X_train,Y_train, X_valid, Y_valid) \n",
    "\n"
   ]
  },
  {
   "cell_type": "code",
   "execution_count": 71,
   "metadata": {
    "id": "s-2EKwDW5Dkz"
   },
   "outputs": [],
   "source": [
    "# plt.plot(alphas, test_scores, label='Test loss')\n",
    "# plt.plot(alphas, train_scores, label='train loss')\n",
    "# plt.xlabel('alpha')\n",
    "# plt.ylabel('loss / RMSE score')\n",
    "# plt.legend()\n",
    "# plt.title('Alpha vs loss')\n",
    "# plt.show()"
   ]
  },
  {
   "cell_type": "code",
   "execution_count": null,
   "metadata": {
    "id": "R6P3j1P3TRSG"
   },
   "outputs": [],
   "source": [
    "# learning rate =  0.1 num_leaves : 10 train_loss-  1.0840924745202376 Test_loss - 0.8484926173609901\n",
    "# learning rate =  0.1 num_leaves : 5 train_loss-  1.1966258538021968 Test_loss - 0.7734191215571788\n",
    "# learning rate =  1 num_leaves : 5 train_loss-  1.157014341315811 Test_loss - 0.7886864795765637\n",
    "# learning rate =  1 num_leaves : 10 train_loss-  1.1047743968786896 Test_loss - 0.9570119770582621\n",
    "\n",
    "# learning rate =  0.1 num_leaves : 5 train_loss-  1.1966258538021968 Test_loss - 0.7734191215571788\n",
    "# learning rate =  1 num_leaves : 5 train_loss-  1.157014341315811 Test_loss - 0.7886864795765637\n",
    "# learning rate =  0.1 num_leaves : 8 train_loss-  1.1417026102111192 Test_loss - 0.7942357505819978\n",
    "\n"
   ]
  },
  {
   "cell_type": "markdown",
   "metadata": {
    "id": "3wMYbSFvaAF7"
   },
   "source": [
    "##### **lgm model define**"
   ]
  },
  {
   "cell_type": "code",
   "execution_count": 34,
   "metadata": {
    "colab": {
     "base_uri": "https://localhost:8080/",
     "height": 0
    },
    "id": "mbwbNn5lJnAR",
    "outputId": "bfa80716-e6dd-4a3f-f86a-e5a434bf8690"
   },
   "outputs": [
    {
     "name": "stdout",
     "output_type": "stream",
     "text": [
      "[1]\tvalid_0's rmse: 1.11064\n",
      "Training until validation scores don't improve for 10 rounds.\n",
      "[2]\tvalid_0's rmse: 1.08107\n",
      "[3]\tvalid_0's rmse: 1.04761\n",
      "[4]\tvalid_0's rmse: 1.02021\n",
      "[5]\tvalid_0's rmse: 0.99968\n",
      "[6]\tvalid_0's rmse: 0.984745\n",
      "[7]\tvalid_0's rmse: 0.97279\n",
      "[8]\tvalid_0's rmse: 0.957709\n",
      "[9]\tvalid_0's rmse: 0.946613\n",
      "[10]\tvalid_0's rmse: 0.939032\n",
      "[11]\tvalid_0's rmse: 0.919915\n",
      "[12]\tvalid_0's rmse: 0.911961\n",
      "[13]\tvalid_0's rmse: 0.904799\n",
      "[14]\tvalid_0's rmse: 0.894551\n",
      "[15]\tvalid_0's rmse: 0.892776\n",
      "[16]\tvalid_0's rmse: 0.88776\n",
      "[17]\tvalid_0's rmse: 0.882963\n",
      "[18]\tvalid_0's rmse: 0.882864\n",
      "[19]\tvalid_0's rmse: 0.880677\n",
      "[20]\tvalid_0's rmse: 0.879443\n",
      "[21]\tvalid_0's rmse: 0.884349\n",
      "[22]\tvalid_0's rmse: 0.882296\n",
      "[23]\tvalid_0's rmse: 0.882219\n",
      "[24]\tvalid_0's rmse: 0.882124\n",
      "[25]\tvalid_0's rmse: 0.882242\n",
      "[26]\tvalid_0's rmse: 0.884775\n",
      "[27]\tvalid_0's rmse: 0.883516\n",
      "[28]\tvalid_0's rmse: 0.881823\n",
      "[29]\tvalid_0's rmse: 0.881402\n",
      "[30]\tvalid_0's rmse: 0.88228\n",
      "Early stopping, best iteration is:\n",
      "[20]\tvalid_0's rmse: 0.879443\n",
      "CPU times: user 1min 12s, sys: 209 ms, total: 1min 12s\n",
      "Wall time: 23.3 s\n"
     ]
    }
   ],
   "source": [
    "%%time\n",
    "# warnings.filterwarnings(\"ignore\")\n",
    "\n",
    "#https://www.datatechnotes.com/2022/03/lightgbm-regression-example-in-python.html\n",
    "# defining parameters \n",
    "params = {'task': 'train', 'boosting': 'gbdt',\n",
    "    'objective': 'regression',\n",
    "    'num_leaves': 5,\n",
    "    'learning_rage': 0.1, \n",
    "    'metric': \"rmse\",\n",
    "    'verbose': 0,  \n",
    "    \"num_iterations\":100,\n",
    "    \"early_stopping_rounds \":10,\n",
    "}\n",
    " \n",
    "\n",
    "model_lgm = lgb.train(params,\n",
    "                 train_set=lgb.Dataset(X_train, Y_train),\n",
    "                 valid_sets=lgb.Dataset(X_valid, Y_valid),\n",
    "                 early_stopping_rounds=10)\n",
    "\n",
    "y_pred_tr = model_lgm.predict(X_train)\n",
    "y_pred_cv = model_lgm.predict(X_valid)\n"
   ]
  },
  {
   "cell_type": "code",
   "execution_count": 35,
   "metadata": {
    "colab": {
     "base_uri": "https://localhost:8080/",
     "height": 0
    },
    "id": "HQCN8DtkZu1Y",
    "outputId": "ea073c9a-0171-4f33-f41a-a611eba1ee09"
   },
   "outputs": [
    {
     "data": {
      "text/plain": [
       "(1.1966258538021968, 0.7734191215571788)"
      ]
     },
     "execution_count": 35,
     "metadata": {},
     "output_type": "execute_result"
    }
   ],
   "source": [
    "rmse_tr = mean_squared_error(Y_train,y_pred_tr)\n",
    "rmse_cv = mean_squared_error(Y_valid,y_pred_cv)\n",
    "\n",
    "rmse_tr, rmse_cv"
   ]
  },
  {
   "cell_type": "markdown",
   "metadata": {
    "id": "fD8WRgtDJnAR"
   },
   "source": [
    "#### **linear regression**"
   ]
  },
  {
   "cell_type": "code",
   "execution_count": null,
   "metadata": {
    "id": "QB9-5ZD0JnAS",
    "outputId": "664ecf37-3db2-4804-b90b-dcb9842d0e2d"
   },
   "outputs": [
    {
     "name": "stdout",
     "output_type": "stream",
     "text": [
      "Wall time: 25.4 s\n"
     ]
    },
    {
     "data": {
      "text/plain": [
       "(0.9990554518314144, 0.9990554518314144)"
      ]
     },
     "execution_count": 61,
     "metadata": {},
     "output_type": "execute_result"
    }
   ],
   "source": [
    "%%time\n",
    "# hyper-tuning\n",
    "\n",
    "model1 = LinearRegression(normalize=True, n_jobs = -1)\n",
    "model1 = model1.fit(X_train,Y_train)\n",
    "\n",
    "y_pred_tr = model1.predict(X_train)\n",
    "y_pred_cv = model1.predict(X_valid)\n",
    "\n",
    "rmse_tr = mean_squared_error(Y_train,y_pred_tr)\n",
    "rmse_cv = mean_squared_error(Y_valid,y_pred_cv)\n",
    "\n",
    "rmse_tr, rmse_cv"
   ]
  },
  {
   "cell_type": "code",
   "execution_count": null,
   "metadata": {
    "id": "hfsvxUatJnAS",
    "outputId": "757e3813-b30a-4ad8-b7b9-f66c21a3311e",
    "scrolled": true
   },
   "outputs": [
    {
     "name": "stdout",
     "output_type": "stream",
     "text": [
      "Wall time: 28.8 s\n"
     ]
    },
    {
     "data": {
      "text/plain": [
       "(0.9990554518314214, 0.9990554518314214)"
      ]
     },
     "execution_count": 54,
     "metadata": {},
     "output_type": "execute_result"
    }
   ],
   "source": [
    "%%time\n",
    "# linear regression\n",
    "\n",
    "model1 = LinearRegression(n_jobs = -1)\n",
    "model1 = model1.fit(X_train,Y_train)\n",
    "\n",
    "y_pred_tr = model1.predict(X_train)\n",
    "y_pred_cv = model1.predict(X_valid)\n",
    "\n",
    "rmse_tr = mean_squared_error(Y_valid,y_pred_cv)\n",
    "rmse_cv = mean_squared_error(Y_valid,y_pred_cv)\n",
    "\n",
    "rmse_tr, rmse_cv"
   ]
  },
  {
   "cell_type": "markdown",
   "metadata": {
    "id": "KXdHkQiXJnAS"
   },
   "source": [
    "RMSE score is - 0.9990554518314214"
   ]
  },
  {
   "cell_type": "markdown",
   "metadata": {
    "id": "rJKryIyfJnAS"
   },
   "source": [
    "\n",
    "#### lasso regression"
   ]
  },
  {
   "cell_type": "code",
   "execution_count": null,
   "metadata": {
    "id": "ergsYX_gJnAT",
    "outputId": "b3832b2e-213f-4de5-ceb2-ee27c0dd4ad1",
    "scrolled": false
   },
   "outputs": [
    {
     "name": "stdout",
     "output_type": "stream",
     "text": [
      "alpha =  1e-05 train loss-  1.258680252784893 Test loss - 0.9991066308122567\n",
      "alpha =  0.001 train loss-  1.2588801555519442 Test loss - 1.0000808567226758\n",
      "alpha =  0.01 train loss-  1.2601328358991566 Test loss - 0.9996585961166279\n",
      "alpha =  0.1 train loss-  1.267467172682333 Test loss - 0.9793637283407799\n",
      "alpha =  1 train loss-  1.8371972877790188 Test loss - 1.1102721296380125\n",
      "alpha =  10 train loss-  2.3279871096695297 Test loss - 1.3142389226677074\n"
     ]
    },
    {
     "data": {
      "image/png": "[encoded data removed]",
      "text/plain": [
       "<Figure size 432x288 with 1 Axes>"
      ]
     },
     "metadata": {
      "needs_background": "light"
     },
     "output_type": "display_data"
    },
    {
     "name": "stdout",
     "output_type": "stream",
     "text": [
      "Wall time: 3min 10s\n"
     ]
    }
   ],
   "source": [
    "%%time\n",
    "#hyperparameter tuning\n",
    "\n",
    "\n",
    " \n",
    "\n",
    "def tuning_grid_search(params, x_train, y_train, x_cv, y_cv):\n",
    "    \n",
    "    train_scores = []\n",
    "    test_scores = []\n",
    "    for i in params:\n",
    "\n",
    "    #ref :- https://practicaldatascience.co.uk/machine-learning/how-to-create-a-classification-model-using-xgboost    \n",
    "\n",
    "        clf = linear_model.Lasso(alpha=i)\n",
    "\n",
    "\n",
    "        clf.fit(x_train, y_train)\n",
    "        train_sc = mean_squared_error(y_train, clf.predict(x_train))\n",
    "        test_sc = mean_squared_error(y_cv, clf.predict(x_cv))\n",
    "        \n",
    "        test_scores.append(test_sc)\n",
    "        train_scores.append(train_sc)\n",
    "        \n",
    "        print('alpha = ',i,'train loss- ',train_sc,'Test loss -',test_sc)\n",
    "        \n",
    "    plt.plot(params, test_scores, label='Test loss')\n",
    "    plt.plot(params, train_scores, label='train loss')\n",
    "    plt.xlabel('alpha')\n",
    "    plt.ylabel('loss')\n",
    "    plt.legend()\n",
    "    plt.title('Alpha vs loss')\n",
    "    plt.show()\n",
    "\n",
    "    \n",
    "\n",
    "alphas = [.00001,.001,.01,.1,1,10]\n",
    "\n",
    "tuning_grid_search(alphas, X_train,Y_train, X_valid, Y_valid)  \n"
   ]
  },
  {
   "cell_type": "code",
   "execution_count": null,
   "metadata": {
    "id": "EtY9uhgIJnAT",
    "outputId": "a505c648-3b63-428c-b36e-f63ac12fccd4",
    "scrolled": true
   },
   "outputs": [
    {
     "name": "stdout",
     "output_type": "stream",
     "text": [
      "Wall time: 25.5 s\n"
     ]
    },
    {
     "data": {
      "text/plain": [
       "(1.267467172682333, 0.9793637283407799)"
      ]
     },
     "execution_count": 55,
     "metadata": {},
     "output_type": "execute_result"
    }
   ],
   "source": [
    "%%time\n",
    "\n",
    "model1 = linear_model.Lasso(alpha=0.1, normalize=True)\n",
    "model1 = model1.fit(X_train,Y_train)\n",
    "\n",
    "y_pred_tr = model1.predict(X_train)\n",
    "y_pred_cv = model1.predict(X_valid)\n",
    "\n",
    "rmse_tr = mean_squared_error(Y_train,y_pred_tr)\n",
    "rmse_cv = mean_squared_error(Y_valid,y_pred_cv)\n",
    "\n",
    "rmse_tr, rmse_cv"
   ]
  },
  {
   "cell_type": "markdown",
   "metadata": {
    "id": "8LwssBeBJnAT"
   },
   "source": [
    "RMSE - 0.9793637283407799"
   ]
  },
  {
   "cell_type": "markdown",
   "metadata": {
    "id": "dBZPMULbJnAT"
   },
   "source": [
    "#### SVM - support vectoc machine"
   ]
  },
  {
   "cell_type": "code",
   "execution_count": null,
   "metadata": {
    "id": "hxYdnZ44JnAU",
    "outputId": "6974d17c-6a06-4dcd-e853-aa7ce98e9adb"
   },
   "outputs": [
    {
     "name": "stderr",
     "output_type": "stream",
     "text": [
      "C:\\ProgramData\\Anaconda3\\lib\\site-packages\\sklearn\\svm\\_base.py:246: ConvergenceWarning: Solver terminated early (max_iter=1000).  Consider pre-processing your data with StandardScaler or MinMaxScaler.\n",
      "  warnings.warn('Solver terminated early (max_iter=%i).'\n"
     ]
    },
    {
     "name": "stdout",
     "output_type": "stream",
     "text": [
      "Wall time: 1h 4min 11s\n"
     ]
    },
    {
     "data": {
      "text/plain": [
       "(597.2632940816909, 597.0203403491455)"
      ]
     },
     "execution_count": 89,
     "metadata": {},
     "output_type": "execute_result"
    }
   ],
   "source": [
    "%%time\n",
    "#taking too much time more than an hour\n",
    "\n",
    "model1 = SVR(kernel='rbf', gamma='scale', coef0=0.0, tol=0.001, C=1.0, epsilon=0.1, max_iter = 1000)\n",
    "model1 = model1.fit(X_train,Y_train)\n",
    "\n",
    "y_pred_tr = model1.predict(X_train)\n",
    "y_pred_cv = model1.predict(X_valid)\n",
    "\n",
    "rmse_tr = mean_squared_error(Y_train,y_pred_tr)\n",
    "rmse_cv = mean_squared_error(Y_valid,y_pred_cv)\n",
    "\n",
    "rmse_tr, rmse_cv\n"
   ]
  },
  {
   "cell_type": "markdown",
   "metadata": {
    "id": "AA3-WLmcJnAU"
   },
   "source": [
    "#### Decision tree"
   ]
  },
  {
   "cell_type": "code",
   "execution_count": null,
   "metadata": {
    "id": "s8NtPXvBJnAU",
    "outputId": "43be3fb3-ce09-46f5-987f-894a6f664691"
   },
   "outputs": [
    {
     "name": "stdout",
     "output_type": "stream",
     "text": [
      "depth =  3 train loss-  1.2417953953305814 Test loss - 0.799148007105698\n",
      "depth =  8 train loss-  0.7070071021182837 Test loss - 1.5279043311321843\n",
      "depth =  11 train loss-  0.5996026905155506 Test loss - 1.6849922364383259\n",
      "depth =  35 train loss-  0.015569065983767559 Test loss - 2.233207549288562\n",
      "depth =  50 train loss-  0.0003687033612654283 Test loss - 2.4197958676001003\n",
      "depth =  100 train loss-  0.0 Test loss - 2.0139903773868593\n",
      "depth =  300 train loss-  0.0 Test loss - 1.530063148398737\n"
     ]
    },
    {
     "data": {
      "image/png": "[encoded data removed]",
      "text/plain": [
       "<Figure size 432x288 with 1 Axes>"
      ]
     },
     "metadata": {
      "needs_background": "light"
     },
     "output_type": "display_data"
    },
    {
     "name": "stdout",
     "output_type": "stream",
     "text": [
      "Wall time: 1h 10min 6s\n"
     ]
    }
   ],
   "source": [
    "%%time\n",
    "# hypertuning \n",
    "\n",
    " \n",
    "\n",
    "def tuning_grid_search(depths, x_train, y_train, x_cv, y_cv):\n",
    "    \n",
    "    train_scores = []\n",
    "    test_scores = []\n",
    "    for i in depths:\n",
    "\n",
    "    #ref :- https://practicaldatascience.co.uk/machine-learning/how-to-create-a-classification-model-using-xgboost    \n",
    "\n",
    "        clf = DecisionTreeRegressor(max_depth=i)\n",
    "\n",
    "\n",
    "        clf.fit(x_train, y_train)\n",
    "        train_sc = mean_squared_error(y_train, clf.predict(x_train))\n",
    "        test_sc = mean_squared_error(y_cv, clf.predict(x_cv))\n",
    "        \n",
    "        test_scores.append(test_sc)\n",
    "        train_scores.append(train_sc)\n",
    "        \n",
    "        print('depth = ',i,'train loss- ',train_sc,'Test loss -',test_sc)\n",
    "        \n",
    "    plt.plot(depths, test_scores, label='Test loss')\n",
    "    plt.plot(depths, train_scores, label='train loss')\n",
    "    plt.xlabel('depth')\n",
    "    plt.ylabel('loss')\n",
    "    plt.legend()\n",
    "    plt.title('depth vs loss')\n",
    "    plt.show()\n",
    "\n",
    "    \n",
    "\n",
    "depths = [3,8,11,35,50,100,300]\n",
    "\n",
    "tuning_grid_search(depths, X_train,Y_train, X_valid, Y_valid)  \n"
   ]
  },
  {
   "cell_type": "code",
   "execution_count": null,
   "metadata": {
    "id": "30Ny9le5JnAU",
    "outputId": "3f6f70a0-f1fc-4c26-d76d-ccb31cac747a"
   },
   "outputs": [
    {
     "name": "stdout",
     "output_type": "stream",
     "text": [
      "depth =  3 train loss-  0.03869342955946474 Test loss - 1.5539900015035333\n",
      "depth =  8 train loss-  0.23962515617057195 Test loss - 2.1072155705533855\n",
      "depth =  11 train loss-  0.32165760559139406 Test loss - 1.0873333156357308\n",
      "depth =  35 train loss-  0.6432125050754316 Test loss - 1.2056949758108486\n",
      "depth =  50 train loss-  0.7333448295397805 Test loss - 0.9725651943579494\n",
      "depth =  100 train loss-  0.9840891750169954 Test loss - 1.2863241497903504\n",
      "depth =  300 train loss-  1.0953927411726634 Test loss - 1.2543089267463254\n"
     ]
    },
    {
     "data": {
      "image/png": "[encoded data removed]",
      "text/plain": [
       "<Figure size 432x288 with 1 Axes>"
      ]
     },
     "metadata": {
      "needs_background": "light"
     },
     "output_type": "display_data"
    },
    {
     "name": "stdout",
     "output_type": "stream",
     "text": [
      "Wall time: 42min 48s\n"
     ]
    }
   ],
   "source": [
    "%%time\n",
    "# hypertuning \n",
    "\n",
    " \n",
    "\n",
    "def tuning_grid_search(depths, x_train, y_train, x_cv, y_cv):\n",
    "    \n",
    "    train_scores = []\n",
    "    test_scores = []\n",
    "    for i in depths:\n",
    "\n",
    "    #ref :- https://practicaldatascience.co.uk/machine-learning/how-to-create-a-classification-model-using-xgboost    \n",
    "\n",
    "        clf = DecisionTreeRegressor( min_samples_split = i)\n",
    "\n",
    "\n",
    "        clf.fit(x_train, y_train)\n",
    "        train_sc = mean_squared_error(y_train, clf.predict(x_train))\n",
    "        test_sc = mean_squared_error(y_cv, clf.predict(x_cv))\n",
    "        \n",
    "        test_scores.append(test_sc)\n",
    "        train_scores.append(train_sc)\n",
    "        \n",
    "        print('depth = ',i,'train loss- ',train_sc,'Test loss -',test_sc)\n",
    "        \n",
    "    plt.plot(depths, test_scores, label='Test loss')\n",
    "    plt.plot(depths, train_scores, label='train loss')\n",
    "    plt.xlabel('min_samples_split')\n",
    "    plt.ylabel('loss')\n",
    "    plt.legend()\n",
    "    plt.title('min_samples_split vs loss')\n",
    "    plt.show()\n",
    "\n",
    "    \n",
    "\n",
    "min_samples_split = [3,8,11,35,50,100,300]\n",
    "\n",
    "tuning_grid_search(min_samples_split, X_train,Y_train, X_valid, Y_valid)  \n"
   ]
  },
  {
   "cell_type": "code",
   "execution_count": null,
   "metadata": {
    "id": "WRL-nnZsJnAV",
    "outputId": "6d75fbaa-5e13-4583-c2c6-923143f123ba"
   },
   "outputs": [
    {
     "name": "stdout",
     "output_type": "stream",
     "text": [
      "Wall time: 4min 20s\n"
     ]
    },
    {
     "data": {
      "text/plain": [
       "(1.2417953953305814, 0.799148007105698)"
      ]
     },
     "execution_count": 17,
     "metadata": {},
     "output_type": "execute_result"
    }
   ],
   "source": [
    "%%time\n",
    "\n",
    "model1 = DecisionTreeRegressor(max_depth=3)\n",
    "model1 = model1.fit(X_train,Y_train)\n",
    "\n",
    "y_pred_tr = model1.predict(X_train)\n",
    "y_pred_cv = model1.predict(X_valid)\n",
    "\n",
    "rmse_tr = mean_squared_error(Y_train,y_pred_tr)\n",
    "rmse_cv = mean_squared_error(Y_valid,y_pred_cv)\n",
    "\n",
    "rmse_tr, rmse_cv"
   ]
  },
  {
   "cell_type": "markdown",
   "metadata": {
    "id": "Dm8zOn-UJnAV"
   },
   "source": [
    "RMSE : 0.799148007105698"
   ]
  },
  {
   "cell_type": "markdown",
   "metadata": {
    "id": "EfmhhdfzJnAV"
   },
   "source": [
    "#### **Gradient Boosting Regressor**"
   ]
  },
  {
   "cell_type": "code",
   "execution_count": null,
   "metadata": {
    "id": "OktX5Q_nJnAV",
    "outputId": "6848d095-975d-45ba-d99c-da6a545fbf5e"
   },
   "outputs": [
    {
     "name": "stdout",
     "output_type": "stream",
     "text": [
      "Wall time: 2h 15min 13s\n"
     ]
    },
    {
     "data": {
      "text/plain": [
       "(0.5556420062919477, 1.4175363322281418)"
      ]
     },
     "execution_count": 90,
     "metadata": {},
     "output_type": "execute_result"
    }
   ],
   "source": [
    "%%time\n",
    "# take too much time =2hr\n",
    "\n",
    "model1 = GradientBoostingRegressor(max_depth=6)\n",
    "model1.fit(X_train,Y_train)\n",
    "\n",
    "y_pred_tr = model1.predict(X_train)\n",
    "y_pred_cv = model1.predict(X_valid)\n",
    "\n",
    "rmse_tr = mean_squared_error(Y_train,y_pred_tr)\n",
    "rmse_cv = mean_squared_error(Y_valid,y_pred_cv)\n",
    "\n",
    "rmse_tr, rmse_cv"
   ]
  },
  {
   "cell_type": "markdown",
   "metadata": {
    "id": "QlhI8v6oJnAW"
   },
   "source": [
    "RMSE score for train and test - (0.5556420062919477, 1.4175363322281418)"
   ]
  },
  {
   "cell_type": "markdown",
   "metadata": {
    "id": "ulVdetJRJnAW"
   },
   "source": [
    "#### Random Forest "
   ]
  },
  {
   "cell_type": "code",
   "execution_count": null,
   "metadata": {
    "id": "QKi7FExoJnAW",
    "outputId": "b4301bec-11fb-437f-aebf-2d934fc6f077"
   },
   "outputs": [
    {
     "name": "stdout",
     "output_type": "stream",
     "text": [
      "Wall time: 4h 49min 14s\n"
     ]
    },
    {
     "data": {
      "text/plain": [
       "(0.5303024748926942, 1.1066976794071)"
      ]
     },
     "execution_count": 103,
     "metadata": {},
     "output_type": "execute_result"
    }
   ],
   "source": [
    "%%time\n",
    "#takes too much time - 4hr\n",
    "\n",
    "model1 = RandomForestRegressor(max_depth=15, n_estimators=100)\n",
    "model1.fit(X_train,Y_train)\n",
    "\n",
    "y_pred_tr = model1.predict(X_train)\n",
    "y_pred_cv = model1.predict(X_valid)\n",
    "\n",
    "rmse_tr = mean_squared_error(Y_train,y_pred_tr)\n",
    "rmse_cv = mean_squared_error(Y_valid,y_pred_cv)\n",
    "\n",
    "rmse_tr, rmse_cv"
   ]
  },
  {
   "cell_type": "markdown",
   "metadata": {
    "id": "JOGP3Ko1JnAW"
   },
   "source": [
    "RMSE score for train and test - (0.5303024748926942, 1.1066976794071)"
   ]
  },
  {
   "cell_type": "markdown",
   "metadata": {
    "id": "mca7jF_7JnAX"
   },
   "source": [
    "#### **XGBregressor**"
   ]
  },
  {
   "cell_type": "code",
   "execution_count": null,
   "metadata": {
    "id": "lMhiXmKSJnAX",
    "outputId": "bbb90218-9c28-4123-a8d0-cd225b052d89"
   },
   "outputs": [
    {
     "name": "stdout",
     "output_type": "stream",
     "text": [
      "depth =  3 train loss-  1.4981037 Test loss - 0.9016133\n",
      "depth =  8 train loss-  1.0712739 Test loss - 0.946457\n",
      "depth =  11 train loss-  1.0165057 Test loss - 0.9708074\n",
      "depth =  15 train loss-  0.9887715 Test loss - 0.95144314\n",
      "depth =  20 train loss-  0.96373045 Test loss - 0.96475166\n",
      "depth =  35 train loss-  0.9404732 Test loss - 0.94935405\n",
      "depth =  50 train loss-  0.93399835 Test loss - 0.9682277\n",
      "depth =  70 train loss-  0.934734 Test loss - 0.9745881\n",
      "depth =  130 train loss-  0.93934023 Test loss - 0.95626223\n"
     ]
    },
    {
     "data": {
      "image/png": "[encoded data removed]",
      "text/plain": [
       "<Figure size 432x288 with 1 Axes>"
      ]
     },
     "metadata": {
      "needs_background": "light"
     },
     "output_type": "display_data"
    },
    {
     "name": "stdout",
     "output_type": "stream",
     "text": [
      "Wall time: 3h 20min 43s\n"
     ]
    }
   ],
   "source": [
    "%%time\n",
    "# hypertuning \n",
    "\n",
    "\n",
    " \n",
    "\n",
    "def tuning_grid_search(depths, x_train, y_train, x_cv, y_cv):\n",
    "    \n",
    "    train_scores = []\n",
    "    test_scores = []\n",
    "    for i in depths:\n",
    "\n",
    "    #ref :- https://practicaldatascience.co.uk/machine-learning/how-to-create-a-classification-model-using-xgboost    \n",
    "\n",
    "        clf = XGBRegressor(max_depth=i,\n",
    "                            n_estimators=100,\n",
    "                            min_child_weight=300, \n",
    "                            colsample_bytree=0.8, \n",
    "                            subsample=0.8, \n",
    "                            eta=0.3,    \n",
    "                            seed=42)\n",
    "\n",
    "\n",
    "        clf.fit(x_train, y_train)\n",
    "        train_sc = mean_squared_error(y_train, clf.predict(x_train))\n",
    "        test_sc = mean_squared_error(y_cv, clf.predict(x_cv))\n",
    "        \n",
    "        test_scores.append(test_sc)\n",
    "        train_scores.append(train_sc)\n",
    "        \n",
    "        print('depth = ',i,'train loss- ',train_sc,'Test loss -',test_sc)\n",
    "        \n",
    "    plt.plot(depths, test_scores, label='Test loss')\n",
    "    plt.plot(depths, train_scores, label='train loss')\n",
    "    plt.xlabel('depth')\n",
    "    plt.ylabel('loss')\n",
    "    plt.legend()\n",
    "    plt.title('depth vs loss')\n",
    "    plt.show()\n",
    "\n",
    "    \n",
    "\n",
    "depths = [3,8,11,15,20,35,50,70,130]\n",
    "\n",
    "tuning_grid_search(depths, X_train,Y_train, X_valid, Y_valid)  \n"
   ]
  },
  {
   "cell_type": "code",
   "execution_count": null,
   "metadata": {
    "id": "eEt-ZvErJnAX",
    "outputId": "e97591a0-06aa-4663-c540-6317ce4fbecf"
   },
   "outputs": [
    {
     "name": "stdout",
     "output_type": "stream",
     "text": [
      "n_estimators =  50 train loss-  1.1115612 Test loss - 0.91820735\n",
      "n_estimators =  100 train loss-  0.9404732 Test loss - 0.94935405\n",
      "n_estimators =  150 train loss-  0.84069157 Test loss - 1.0640174\n",
      "n_estimators =  200 train loss-  0.77348435 Test loss - 1.136252\n"
     ]
    }
   ],
   "source": [
    "%%time\n",
    "# hypertuning \n",
    "\n",
    "\n",
    " \n",
    "\n",
    "def tuning_grid_search(params, x_train, y_train, x_cv, y_cv):\n",
    "    \n",
    "    train_scores = []\n",
    "    test_scores = []\n",
    "    for i in params:\n",
    "\n",
    "    #ref :- https://practicaldatascience.co.uk/machine-learning/how-to-create-a-classification-model-using-xgboost    \n",
    "\n",
    "        clf = XGBRegressor(max_depth=35,\n",
    "                            n_estimators=i,\n",
    "                            min_child_weight=300, \n",
    "                            colsample_bytree=0.8, \n",
    "                            subsample=0.8, \n",
    "                            eta=0.3,    \n",
    "                            seed=42)\n",
    "\n",
    "\n",
    "        clf.fit(x_train, y_train)\n",
    "        train_sc = mean_squared_error(y_train, clf.predict(x_train))\n",
    "        test_sc = mean_squared_error(y_cv, clf.predict(x_cv))\n",
    "        \n",
    "        test_scores.append(test_sc)\n",
    "        train_scores.append(train_sc)\n",
    "        \n",
    "        print('n_estimators = ',i,'train loss- ',train_sc,'Test loss -',test_sc)\n",
    "        \n",
    "    plt.plot(params, test_scores, label='Test loss')\n",
    "    plt.plot(params, train_scores, label='train loss')\n",
    "    plt.xlabel('n_estimators')\n",
    "    plt.ylabel('loss')\n",
    "    plt.legend()\n",
    "    plt.title('n_estimators vs loss')\n",
    "    plt.show()\n",
    "\n",
    "    \n",
    "\n",
    "n_estimators = [50,100,150,200,300,500]\n",
    "\n",
    "tuning_grid_search(n_estimators, X_train,Y_train, X_valid, Y_valid)  \n"
   ]
  },
  {
   "cell_type": "code",
   "execution_count": null,
   "metadata": {
    "id": "YETTgXPMJnAY",
    "outputId": "9478236f-eb0a-4fb4-aaec-79342a02f734",
    "scrolled": true
   },
   "outputs": [
    {
     "name": "stderr",
     "output_type": "stream",
     "text": [
      "C:\\ProgramData\\Anaconda3\\lib\\site-packages\\xgboost\\sklearn.py:793: UserWarning: `eval_metric` in `fit` method is deprecated for better compatibility with scikit-learn, use `eval_metric` in constructor or`set_params` instead.\n",
      "  warnings.warn(\n",
      "C:\\ProgramData\\Anaconda3\\lib\\site-packages\\xgboost\\sklearn.py:793: UserWarning: `early_stopping_rounds` in `fit` method is deprecated for better compatibility with scikit-learn, use `early_stopping_rounds` in constructor or`set_params` instead.\n",
      "  warnings.warn(\n"
     ]
    },
    {
     "name": "stdout",
     "output_type": "stream",
     "text": [
      "Wall time: 15min 35s\n"
     ]
    },
    {
     "data": {
      "text/plain": [
       "(1.2053633, 0.87703174)"
      ]
     },
     "execution_count": 60,
     "metadata": {},
     "output_type": "execute_result"
    }
   ],
   "source": [
    "%%time\n",
    "# reference - https://www.kaggle.com/code/dlarionov/feature-engineering-xgboost#Part-2,-xgboost\n",
    "\n",
    "model = XGBRegressor(max_depth=35,\n",
    "    n_estimators=100, min_child_weight=300, \n",
    "    colsample_bytree=0.8, subsample=0.8, \n",
    "    eta=0.3, seed=42)\n",
    "\n",
    "model = model.fit( X_train,Y_train, eval_metric=\"rmse\",\n",
    "                  eval_set=[(X_valid, Y_valid)], verbose=False, early_stopping_rounds = 10)\n",
    "\n",
    "# performance matrix\n",
    "y_pred_tr = model.predict(X_train)\n",
    "y_pred_cv = model.predict(X_valid)\n",
    "\n",
    "rmse_tr = mean_squared_error(Y_train, y_pred_tr)\n",
    "rmse_cv = mean_squared_error(Y_valid, y_pred_cv)\n",
    "rmse_tr, rmse_cv"
   ]
  },
  {
   "cell_type": "markdown",
   "metadata": {
    "id": "U76jC61xJnAY"
   },
   "source": [
    "RMSE score is - 0.87703174"
   ]
  },
  {
   "cell_type": "markdown",
   "metadata": {
    "id": "BG-oAd6_JnAY"
   },
   "source": [
    "**feature importance**"
   ]
  },
  {
   "cell_type": "code",
   "execution_count": null,
   "metadata": {
    "collapsed": true,
    "id": "pInDkkJFJnAY",
    "outputId": "bfc32d74-7958-4d01-8d7a-bd7856f1680e"
   },
   "outputs": [
    {
     "data": {
      "text/plain": [
       "<AxesSubplot:title={'center':'Feature importance'}, xlabel='F score', ylabel='Features'>"
      ]
     },
     "execution_count": 42,
     "metadata": {},
     "output_type": "execute_result"
    },
    {
     "data": {
      "image/png": "[encoded data removed]",
      "text/plain": [
       "<Figure size 720x1008 with 1 Axes>"
      ]
     },
     "metadata": {
      "needs_background": "light"
     },
     "output_type": "display_data"
    }
   ],
   "source": [
    "from xgboost import plot_importance\n",
    "def plot_features(booster, figsize):    \n",
    "    fig, ax = plt.subplots(1,1,figsize=figsize)\n",
    "    return plot_importance(booster=booster, ax=ax)\n",
    "\n",
    "\n",
    "\n",
    "plot_features(model, (10,14))"
   ]
  },
  {
   "cell_type": "markdown",
   "metadata": {
    "id": "rhFYdmq6JnAY"
   },
   "source": [
    "### 2.2 performances of all model "
   ]
  },
  {
   "cell_type": "code",
   "execution_count": 30,
   "metadata": {
    "colab": {
     "base_uri": "https://localhost:8080/"
    },
    "id": "hWeINa-iJnAZ",
    "outputId": "1d0f1877-7fd6-40bc-f1fc-cc32b6720038",
    "scrolled": true
   },
   "outputs": [
    {
     "name": "stdout",
     "output_type": "stream",
     "text": [
      "+-------+-----------------------------+------------------------------------------+------------+------------+\n",
      "| index |            Model            |             Hyper Parameter              | Train RMSE |  Test RMSE |\n",
      "+-------+-----------------------------+------------------------------------------+------------+------------+\n",
      "|   1   |      linear regression      |               No Parameter               |  0.99905   |  0.99905   |\n",
      "|       |                             |                                          |            |            |\n",
      "|   2   |       lasso regression      |      {alpha = 0.1, max_iter=1000,        |  1.26746   |  0.97936   |\n",
      "|       |                             |               tol=0.0001,}               |            |            |\n",
      "|   3   |             SVM             |  {C = 1, max_iter=1000, epsilon = 0.1    | 597.26329  | 597.02034  |\n",
      "|       |                             |               tol=0.0001,}               |            |            |\n",
      "|   3   |        Decision Tree        | {'max_depth': 3, 'min_samples_split': 2} |  1.24179   |  0.79914   |\n",
      "|       |                             |                                          |            |            |\n",
      "|   4   | Gradient Boosting Regressor |            {'max_depth': 6 }             |  0.55564   |  1.41753   |\n",
      "|       |                             |                                          |            |            |\n",
      "|   5   |        Random Forest        |           {'max_depth': 15 '}            |     no     |     no     |\n",
      "|       |                             |                                          |            |            |\n",
      "|   6   |         XGBregressor        |  {'max_depth': 16,  n_estimators=200,    | 1.2053633  | 0.87703174 |\n",
      "|       |                             |          min_child_weight=300,           |            |            |\n",
      "|       |                             |          subsample=0.8,eta=0.3}          |            |            |\n",
      "|       |                             |                                          |            |            |\n",
      "|   7   |      CatBoostRegressor      |   {'max_depth': 2, learning rate =.1,    |   0.6030   |   0.6998   |\n",
      "|       |                             |              iteration= 80}              |            |            |\n",
      "|       |                             |                                          |            |            |\n",
      "|   8   |           lightgbm          |   {'leraning rate': .1, num_leaves=5,    |   1.1966   |   0.7734   |\n",
      "|       |                             |           num_iterations : 100           |            |            |\n",
      "+-------+-----------------------------+------------------------------------------+------------+------------+\n"
     ]
    }
   ],
   "source": [
    "from prettytable import PrettyTable\n",
    "  \n",
    "# Specify the Column Names while initializing the Table\n",
    "myTable = PrettyTable([ \"index\",\"Model\", \"Hyper Parameter\",\"Train RMSE\",\" Test RMSE\" ])\n",
    "  \n",
    "# Add rows\n",
    "myTable.add_rows(\n",
    "    [\n",
    "         \n",
    "[ \"1\",\"linear regression\", \" No Parameter \",\"0.99905\",\"0.99905\\n\" ],\n",
    "[ \"2\",\"lasso regression\", \"{alpha = 0.1, max_iter=1000, \\n tol=0.0001,}\",\"1.26746\",\"0.97936\" ],\n",
    "[ \"3\",\"SVM\", \"{C = 1, max_iter=1000, epsilon = 0.1 \\n tol=0.0001,}\",\"597.26329\",\"597.02034\" ],\n",
    "[ \"3\",\"Decision Tree\", \"{'max_depth': 3, 'min_samples_split': 2}\\n\",\"1.24179\",\"0.79914\" ],\n",
    "[ \"4\",\"Gradient Boosting Regressor\", \"{'max_depth': 6 }\\n\",\"0.55564\",\"1.41753\" ],\n",
    "[ \"5\",\"Random Forest\", \"{'max_depth': 15 '}\\n\",\"no\",\"no\" ],\n",
    "[ \"6\",\"XGBregressor\", \"{'max_depth': 16,  n_estimators=200, \\nmin_child_weight=300, \\nsubsample=0.8,eta=0.3}\\n\",\"1.2053633\",\"0.87703174\" ],\n",
    "[ \"7\",\"CatBoostRegressor\", \"{'max_depth': 2, learning rate =.1,\\n iteration= 80}\\n\",\"0.6030\",\"0.6998\" ],\n",
    "[ \"8\",\"lightgbm\", \"{'leraning rate': .1, num_leaves=5, \\n num_iterations : 100\",\"1.1966\",\"0.7734\" ],\n",
    "      \n",
    "\n",
    "    ]\n",
    ")\n",
    "\n",
    "print(myTable)"
   ]
  },
  {
   "cell_type": "markdown",
   "metadata": {
    "id": "iOtDoh5KJnAZ"
   },
   "source": [
    "**conclusion** :\n",
    "- lightgbm, catBoostRegressor are working good \n",
    "- overall best performance is 0.6998 rmse loss by catBoostRegressor and it's still faster to train\n"
   ]
  },
  {
   "cell_type": "code",
   "execution_count": 17,
   "metadata": {
    "id": "yvcIWKOIJnAZ"
   },
   "outputs": [],
   "source": [
    "# dumping file\n",
    "from joblib import dump, load\n",
    "# dump(cat_boost_model,'cat_boost_model.joblib')\n",
    "# or\n",
    "# pickle.dump(cat_boost_model, open('cat_boost_model.pkl', 'wb'))\n",
    "# pickled_model = pickle.load(open('model.pkl', 'rb'))\n",
    "\n",
    "# loading the pickled model\n",
    "best_model = load('cat_boost_model.joblib')"
   ]
  },
  {
   "cell_type": "markdown",
   "metadata": {
    "id": "79_JbJuFJnAZ"
   },
   "source": [
    "# 3. Final Deployment "
   ]
  },
  {
   "cell_type": "markdown",
   "metadata": {
    "id": "ciOvDyLIJnAZ"
   },
   "source": [
    "now we will create fun  which takes shop_id as input(either sigle or multiple),\n",
    "  than add features based on past 12 month data(1x22k)\n",
    "  \n",
    "  then predict regression value for all items corresponding to the shop, return values which are greater \n",
    "  than 0, "
   ]
  },
  {
   "cell_type": "code",
   "execution_count": 16,
   "metadata": {
    "colab": {
     "base_uri": "https://localhost:8080/",
     "height": 200
    },
    "id": "vuhSEXYkbh_i",
    "outputId": "0fd6a50e-78b5-42d2-f9fb-a2a86a294585"
   },
   "outputs": [],
   "source": [
    "# defining best model \n",
    "# best_model = cat_boost_model\n",
    "# cat_boost_model.save_weights(\"cat_boost_model.h5\")"
   ]
  },
  {
   "cell_type": "markdown",
   "metadata": {
    "id": "CA9MRYi1JnAa"
   },
   "source": [
    "### 3.1 Reading item data and matrix"
   ]
  },
  {
   "cell_type": "code",
   "execution_count": 26,
   "metadata": {
    "id": "ZR_I1NX0JnAa"
   },
   "outputs": [],
   "source": [
    "# loading item data\n",
    "items = pd.read_csv(\"items.csv\")\n",
    " \n",
    "#loading matrix of 'date_block_num, shop_id, item_id and item_cnt_month ' pair for 34 month\n",
    "matrix = pd.read_pickle('matrix.pkl')\n",
    "matrix = matrix.drop('ID', axis=1)\n",
    "# matrix.sample()"
   ]
  },
  {
   "cell_type": "markdown",
   "metadata": {
    "id": "CdTFVFnJJnAa"
   },
   "source": [
    "### 3.2 Featurization for raw input"
   ]
  },
  {
   "cell_type": "code",
   "execution_count": 40,
   "metadata": {
    "id": "mFOYTNEOJnAa",
    "outputId": "6dd9a46d-25ae-4e50-9d9f-03a25f8c6eae"
   },
   "outputs": [
    {
     "name": "stdout",
     "output_type": "stream",
     "text": [
      "Wall time: 0 ns\n"
     ]
    }
   ],
   "source": [
    "%%time\n",
    "\n",
    "def lag_feature(df, lags, col):\n",
    "    tmp = df[['date_block_num','shop_id','item_id',col]] \n",
    "    for i in lags:\n",
    "        shifted = tmp.copy()\n",
    "        shifted.columns = ['date_block_num','shop_id','item_id', col+'_lag_'+str(i)]\n",
    "        shifted['date_block_num'] += i\n",
    "        \n",
    "        df = pd.merge(df, shifted, on=['date_block_num','shop_id','item_id'], how='left')\n",
    "    return df\n",
    "\n",
    "\n",
    "def mean_encoding_item (matrix):\n",
    "    group = matrix.groupby(['date_block_num', 'item_id']).agg({'item_cnt_month': ['mean']})\n",
    "    group.columns = [ 'date_item_avg_item_cnt']\n",
    "    group.reset_index(inplace=True)\n",
    "\n",
    "    matrix = pd.merge(matrix, group, on=['date_block_num','item_id'], how='left')\n",
    "    matrix['date_item_avg_item_cnt'] = matrix['date_item_avg_item_cnt'].astype(np.float16)\n",
    "    matrix = lag_feature(matrix, [1,2,3,6,12], 'date_item_avg_item_cnt')\n",
    "    matrix.drop(['date_item_avg_item_cnt'], axis=1, inplace=True)\n",
    "    \n",
    "    return matrix\n",
    "\n",
    "def mean_encoding_shop (matrix):\n",
    "    group = matrix.groupby(['date_block_num', 'shop_id']).agg({'item_cnt_month': ['mean']})\n",
    "    group.columns = [ 'date_shop_avg_item_cnt' ]\n",
    "    group.reset_index(inplace=True)\n",
    "\n",
    "    matrix = pd.merge(matrix, group, on=['date_block_num','shop_id'], how='left')\n",
    "    matrix['date_shop_avg_item_cnt'] = matrix['date_shop_avg_item_cnt'].astype(np.float16)\n",
    "    matrix = lag_feature(matrix, [1,2,3,6,12], 'date_shop_avg_item_cnt')\n",
    "    matrix.drop(['date_shop_avg_item_cnt'], axis=1, inplace=True)\n",
    "    \n",
    "    return matrix\n",
    "\n",
    "def mean_encoding_item_avg_pre_month_cnt(matrix):\n",
    "    # date_avg_item_cnt_lag_1\n",
    "    group = matrix.groupby(['date_block_num']).agg({'item_cnt_month': ['mean']})\n",
    "    group.columns = [ 'date_avg_item_cnt' ]\n",
    "    group.reset_index(inplace=True)\n",
    "\n",
    "    matrix = pd.merge(matrix, group, on=['date_block_num'], how='left')\n",
    "    matrix['date_avg_item_cnt'] = matrix['date_avg_item_cnt'].astype(np.float16)\n",
    "    matrix = lag_feature(matrix, [1], 'date_avg_item_cnt')\n",
    "    matrix['date_avg_item_cnt_lag_1'] = matrix.date_avg_item_cnt_lag_1.replace(np.nan, 0)\n",
    "    matrix.drop(['date_avg_item_cnt'], axis=1, inplace=True)\n",
    "    #pdb.set_trace()\n",
    "    \n",
    "    return matrix\n",
    "\n",
    "def mean_encoding_item_cat (matrix, items):\n",
    "    \n",
    "    \n",
    "    matrix = pd.merge(matrix, items, on= 'item_id', how= 'left')\n",
    "    \n",
    "    group = matrix.groupby(['date_block_num', 'item_category_id']).agg({'item_cnt_month': ['mean']})\n",
    "    group.columns = [ 'date_cat_avg_item_cnt' ]\n",
    "    group.reset_index(inplace=True)\n",
    "\n",
    "    matrix = pd.merge(matrix, group, on=['date_block_num','item_category_id'], how='left')\n",
    "    matrix['date_cat_avg_item_cnt'] = matrix['date_cat_avg_item_cnt'].astype(np.float16)\n",
    "    matrix = lag_feature(matrix, [1], 'date_cat_avg_item_cnt')\n",
    "    matrix.drop(['date_cat_avg_item_cnt'], axis=1, inplace=True)\n",
    "    matrix.drop('item_name', axis=1, inplace= True)\n",
    "    \n",
    "    return matrix\n",
    "\n",
    "    \n",
    "\n",
    "def date_time_feature(matrix):\n",
    "    # adding month\n",
    "    matrix['month'] = matrix['date_block_num'] % 12\n",
    "\n",
    "    # total number of day on that month\n",
    "    days = pd.Series([31,28,31,30,31,30,31,31,30,31,30,31])\n",
    "    matrix['days'] = matrix['month'].map(days).astype(np.int8)\n",
    "    return matrix\n",
    "    \n",
    "# merging all above function and returning data associated to last date_block_num = 34 \n",
    "def add_features(data, item, date_block):    \n",
    "    data = lag_feature(data, [1,2,3,6,12], 'item_cnt_month')\n",
    "    \n",
    "    data = mean_encoding_item_avg_pre_month_cnt(data)\n",
    "    data = mean_encoding_item(data)\n",
    "    data = mean_encoding_shop(data)\n",
    "    data = mean_encoding_item_cat(data, item)\n",
    "    data = date_time_feature(data)\n",
    "    \n",
    "    \n",
    "    data = data[data.date_block_num == date_block ] # total 33 month, need only last 12 month  \n",
    "    return data\n",
    "\n",
    "\n",
    "\n",
    "# takes raw input and create all possible pair with item and make ready for prediction(like: X_test) \n",
    "def create_df_for_test(input1, matrix, items):\n",
    "    # modifying matrix based on input_shop_id\n",
    "    data = matrix[matrix.shop_id.isin(input1)]\n",
    "\n",
    "    # add test data to main matrix\n",
    "    query_data = pd.DataFrame(product(input1,items.item_id.unique()), columns = ['shop_id', \"item_id\"])\n",
    "    query_data['date_block_num'] = 34\n",
    "    # type casting it as different type of int has different storage\n",
    "    query_data['date_block_num'] = query_data['date_block_num'].astype(np.int8)\n",
    "    query_data['shop_id'] = query_data['shop_id'].astype(np.int8)\n",
    "    query_data['item_id'] = query_data['item_id'].astype(np.int8)\n",
    "    \n",
    "    # concat test data to the whole data in order to compute feature\n",
    "    data = pd.concat([data,query_data],ignore_index=True ,sort=False, keys=['date_block_num','shop_id','item_id'] )\n",
    "    \n",
    "    return data\n",
    "\n"
   ]
  },
  {
   "cell_type": "markdown",
   "metadata": {
    "id": "Tpq79pzCJnAb"
   },
   "source": [
    "### 3.3 final_fun_1()"
   ]
  },
  {
   "cell_type": "code",
   "execution_count": 43,
   "metadata": {
    "id": "40SLBVKbJnAb",
    "outputId": "80862fa0-7790-4f49-8ac3-f9685045444a"
   },
   "outputs": [
    {
     "name": "stdout",
     "output_type": "stream",
     "text": [
      "Wall time: 29.2 s\n"
     ]
    }
   ],
   "source": [
    "%%time\n",
    "def final_fun_1(input_x, clf, matrix, items,date_block):\n",
    "    \n",
    "    data = create_df_for_test(input_x, matrix, items)\n",
    "    \n",
    "    # need to analysis x_test\n",
    "    x_featured = add_features(data, items, date_block)\n",
    "    \n",
    "    \n",
    "    if x_featured.shape[1] == 24:\n",
    "        pred_x = clf.predict(x_featured)\n",
    "    \n",
    "    return pred_x, x_featured[['date_block_num','shop_id','item_id']]\n",
    "\n",
    "# forcasted_items = final_fun_1(input1, best_model, matrix, items, date_block)"
   ]
  },
  {
   "cell_type": "code",
   "execution_count": 50,
   "metadata": {},
   "outputs": [
    {
     "ename": "NameError",
     "evalue": "name 'input_1' is not defined",
     "output_type": "error",
     "traceback": [
      "\u001b[1;31m---------------------------------------------------------------------------\u001b[0m",
      "\u001b[1;31mNameError\u001b[0m                                 Traceback (most recent call last)",
      "\u001b[1;32m<ipython-input-50-b5eb517221f4>\u001b[0m in \u001b[0;36m<module>\u001b[1;34m\u001b[0m\n\u001b[0;32m      8\u001b[0m        \u001b[1;34m'date_shop_avg_item_cnt_lag_3'\u001b[0m\u001b[1;33m,\u001b[0m \u001b[1;34m'date_shop_avg_item_cnt_lag_6'\u001b[0m\u001b[1;33m,\u001b[0m\u001b[1;33m\u001b[0m\u001b[1;33m\u001b[0m\u001b[0m\n\u001b[0;32m      9\u001b[0m        \u001b[1;34m'date_shop_avg_item_cnt_lag_12'\u001b[0m\u001b[1;33m,\u001b[0m \u001b[1;34m'item_category_id'\u001b[0m\u001b[1;33m,\u001b[0m\u001b[1;33m\u001b[0m\u001b[1;33m\u001b[0m\u001b[0m\n\u001b[1;32m---> 10\u001b[1;33m        'date_cat_avg_item_cnt_lag_1', 'month', 'days']) , input_1\n\u001b[0m",
      "\u001b[1;31mNameError\u001b[0m: name 'input_1' is not defined"
     ]
    }
   ],
   "source": [
    "len(['date_block_num', 'shop_id', 'item_id', 'item_cnt_month',\n",
    "       'item_cnt_month_lag_1', 'item_cnt_month_lag_2', 'item_cnt_month_lag_3',\n",
    "       'item_cnt_month_lag_6', 'item_cnt_month_lag_12',\n",
    "       'date_avg_item_cnt_lag_1', 'date_item_avg_item_cnt_lag_1',\n",
    "       'date_item_avg_item_cnt_lag_2', 'date_item_avg_item_cnt_lag_3',\n",
    "       'date_item_avg_item_cnt_lag_6', 'date_item_avg_item_cnt_lag_12',\n",
    "       'date_shop_avg_item_cnt_lag_1', 'date_shop_avg_item_cnt_lag_2',\n",
    "       'date_shop_avg_item_cnt_lag_3', 'date_shop_avg_item_cnt_lag_6',\n",
    "       'date_shop_avg_item_cnt_lag_12', 'item_category_id',\n",
    "       'date_cat_avg_item_cnt_lag_1', 'month', 'days']) , input_1 # #item_cnt_month_lag_1 ,"
   ]
  },
  {
   "cell_type": "markdown",
   "metadata": {
    "id": "mrpvtkGfJnAc"
   },
   "source": [
    "### 3.4 final_fun_2()"
   ]
  },
  {
   "cell_type": "code",
   "execution_count": 6,
   "metadata": {
    "collapsed": true,
    "id": "TCJa30FNJnAc",
    "outputId": "c62651a7-1aa6-4b15-d966-9861918f61d3"
   },
   "outputs": [
    {
     "name": "stdout",
     "output_type": "stream",
     "text": [
      "Wall time: 0 ns\n"
     ]
    }
   ],
   "source": [
    "%%time\n",
    "def final_fun_2(input_x, clf, matrix, items,date_block, labels):\n",
    "    \n",
    "    data = create_df_for_test(input_x, matrix, items) # create df by input1 in order to compute its feature\n",
    "    x_test = add_features(data, items,date_block) # convert raw input to pre-processed with all feature\n",
    "    \n",
    "    pred_x = clf.predict(x_test)    \n",
    "    rmse = mean_squared_error(labels, pred_x)\n",
    " \n",
    "    return rmse\n",
    "\n",
    "# RMSE_loss = final_fun_2(i, clf, matrix, items, 33, Y_valid)\n",
    "# RMSE_loss"
   ]
  },
  {
   "cell_type": "markdown",
   "metadata": {
    "id": "V4T53Y0vJnAd"
   },
   "source": [
    "### 3.5 Testing funtion "
   ]
  },
  {
   "cell_type": "markdown",
   "metadata": {
    "id": "sn5Les4wJnAd"
   },
   "source": [
    "#### **3.5.1 testing cv data with both function**"
   ]
  },
  {
   "cell_type": "code",
   "execution_count": 29,
   "metadata": {
    "collapsed": true
   },
   "outputs": [
    {
     "data": {
      "text/plain": [
       "(45441000, 4)"
      ]
     },
     "execution_count": 29,
     "metadata": {},
     "output_type": "execute_result"
    }
   ],
   "source": [
    "# i = X_valid.shop_id.unique()\n",
    "# date_block = 33 #time factor\n",
    "# items\n",
    "matrix.shape"
   ]
  },
  {
   "cell_type": "code",
   "execution_count": 49,
   "metadata": {},
   "outputs": [
    {
     "name": "stdout",
     "output_type": "stream",
     "text": [
      "Wall time: 15min 56s\n"
     ]
    }
   ],
   "source": [
    "%%time\n",
    "pred_cv = final_fun_1(i, best_model, matrix, items, date_block)\n"
   ]
  },
  {
   "cell_type": "code",
   "execution_count": 45,
   "metadata": {
    "id": "uBA6DL8GJnAd",
    "outputId": "2854fa12-f2fd-4137-d056-3e70b43e5cdd"
   },
   "outputs": [
    {
     "name": "stdout",
     "output_type": "stream",
     "text": [
      "successfully got pred val now we will check rmse value\n",
      "Wall time: 18min 24s\n"
     ]
    },
    {
     "data": {
      "text/plain": [
       "0.6998912867544851"
      ]
     },
     "execution_count": 45,
     "metadata": {},
     "output_type": "execute_result"
    }
   ],
   "source": [
    "%%time\n",
    "# taking more than 14 min\n",
    "i = X_valid.shop_id.unique()\n",
    "date_block = 33 #time factor\n",
    "\n",
    "pred_cv = final_fun_1(i, best_model, matrix, items, date_block)\n",
    "print(\"successfully got pred val now we will check rmse value\")\n",
    "rmse_cv = final_fun_2(i, best_model, matrix, items, 33, Y_valid)\n",
    "\n",
    "rmse_cv"
   ]
  },
  {
   "cell_type": "markdown",
   "metadata": {
    "id": "kqpH0WE8JnAe"
   },
   "source": [
    "#### **3.5.2 Taking shop_id as input from customer**"
   ]
  },
  {
   "cell_type": "code",
   "execution_count": 62,
   "metadata": {
    "id": "aTaFT81GJnAe",
    "outputId": "9978cc8e-d56b-448d-a6b7-7d2e8a23fe94"
   },
   "outputs": [
    {
     "name": "stdout",
     "output_type": "stream",
     "text": [
      "enter shop id for forecasting the demanded items 2,4,6\n",
      "shop id are : [2, 4, 6]\n"
     ]
    }
   ],
   "source": [
    "# taking input \n",
    "\n",
    "input1 = [int(x) for x in input(\"enter shop id for forecasting the demanded items \").split(',')]\n",
    "print(\"shop id are :\",input1)\n"
   ]
  },
  {
   "cell_type": "code",
   "execution_count": 61,
   "metadata": {
    "collapsed": true
   },
   "outputs": [
    {
     "data": {
      "text/plain": [
       "43896600    0.0\n",
       "43896601    0.0\n",
       "43896602    0.0\n",
       "43896603    0.0\n",
       "43896604    0.0\n",
       "           ... \n",
       "45226795    0.0\n",
       "45226796    0.0\n",
       "45226797    0.0\n",
       "45226798    0.0\n",
       "45226799    0.0\n",
       "Name: item_cnt_month, Length: 1330200, dtype: float16"
      ]
     },
     "execution_count": 61,
     "metadata": {},
     "output_type": "execute_result"
    }
   ],
   "source": [
    "Y_valid"
   ]
  },
  {
   "cell_type": "code",
   "execution_count": 47,
   "metadata": {
    "scrolled": true
   },
   "outputs": [
    {
     "data": {
      "text/plain": [
       "[2, 4, 6]"
      ]
     },
     "execution_count": 47,
     "metadata": {},
     "output_type": "execute_result"
    }
   ],
   "source": [
    "input1"
   ]
  },
  {
   "cell_type": "code",
   "execution_count": 63,
   "metadata": {
    "id": "m5Y52S9kJnAe",
    "outputId": "07a8b099-056e-4f17-9da1-a02dc51b222e"
   },
   "outputs": [
    {
     "name": "stdout",
     "output_type": "stream",
     "text": [
      "Wall time: 52.5 s\n"
     ]
    }
   ],
   "source": [
    "%%time\n",
    "date_block = 33 \n",
    "\n",
    "pred_cv,df = final_fun_1(input1, best_model, matrix, items, date_block)\n",
    "# for the input we have to consider date_month_block = 33, so that we can get target data from the dataset \n",
    "\n",
    "# rmse_cv = final_fun_2(input1, best_model, matrix, items, 33, Y_valid)\n",
    "# rmse_cv"
   ]
  },
  {
   "cell_type": "markdown",
   "metadata": {
    "id": "a_oO_wPGJnAf"
   },
   "source": [
    "**visulising the result**\n",
    "\n",
    "**on custom 'shop_id' got by any user**"
   ]
  },
  {
   "cell_type": "code",
   "execution_count": 86,
   "metadata": {
    "id": "uc3lgiQ4JnAg",
    "outputId": "70698ab9-8c5f-491e-e3b4-28e363ef2422"
   },
   "outputs": [
    {
     "data": {
      "text/html": [
       "<div>\n",
       "<style scoped>\n",
       "    .dataframe tbody tr th:only-of-type {\n",
       "        vertical-align: middle;\n",
       "    }\n",
       "\n",
       "    .dataframe tbody tr th {\n",
       "        vertical-align: top;\n",
       "    }\n",
       "\n",
       "    .dataframe thead th {\n",
       "        text-align: right;\n",
       "    }\n",
       "</style>\n",
       "<table border=\"1\" class=\"dataframe\">\n",
       "  <thead>\n",
       "    <tr style=\"text-align: right;\">\n",
       "      <th></th>\n",
       "      <th>date_block_num</th>\n",
       "      <th>shop_id</th>\n",
       "      <th>item_id</th>\n",
       "      <th>pred_item_cnt_month</th>\n",
       "      <th>item_cnt_month_x</th>\n",
       "      <th>item_cnt_month_y</th>\n",
       "      <th>item_cnt_month</th>\n",
       "    </tr>\n",
       "  </thead>\n",
       "  <tbody>\n",
       "    <tr>\n",
       "      <th>0</th>\n",
       "      <td>33</td>\n",
       "      <td>2</td>\n",
       "      <td>0</td>\n",
       "      <td>0.006173</td>\n",
       "      <td>0.0</td>\n",
       "      <td>0.0</td>\n",
       "      <td>0.0</td>\n",
       "    </tr>\n",
       "    <tr>\n",
       "      <th>1</th>\n",
       "      <td>33</td>\n",
       "      <td>2</td>\n",
       "      <td>1</td>\n",
       "      <td>0.001882</td>\n",
       "      <td>0.0</td>\n",
       "      <td>0.0</td>\n",
       "      <td>0.0</td>\n",
       "    </tr>\n",
       "    <tr>\n",
       "      <th>2</th>\n",
       "      <td>33</td>\n",
       "      <td>2</td>\n",
       "      <td>2</td>\n",
       "      <td>0.006173</td>\n",
       "      <td>0.0</td>\n",
       "      <td>0.0</td>\n",
       "      <td>0.0</td>\n",
       "    </tr>\n",
       "    <tr>\n",
       "      <th>3</th>\n",
       "      <td>33</td>\n",
       "      <td>2</td>\n",
       "      <td>3</td>\n",
       "      <td>0.006173</td>\n",
       "      <td>0.0</td>\n",
       "      <td>0.0</td>\n",
       "      <td>0.0</td>\n",
       "    </tr>\n",
       "    <tr>\n",
       "      <th>4</th>\n",
       "      <td>33</td>\n",
       "      <td>2</td>\n",
       "      <td>4</td>\n",
       "      <td>0.006173</td>\n",
       "      <td>0.0</td>\n",
       "      <td>0.0</td>\n",
       "      <td>0.0</td>\n",
       "    </tr>\n",
       "    <tr>\n",
       "      <th>...</th>\n",
       "      <td>...</td>\n",
       "      <td>...</td>\n",
       "      <td>...</td>\n",
       "      <td>...</td>\n",
       "      <td>...</td>\n",
       "      <td>...</td>\n",
       "      <td>...</td>\n",
       "    </tr>\n",
       "    <tr>\n",
       "      <th>66505</th>\n",
       "      <td>33</td>\n",
       "      <td>6</td>\n",
       "      <td>22165</td>\n",
       "      <td>0.027785</td>\n",
       "      <td>0.0</td>\n",
       "      <td>0.0</td>\n",
       "      <td>0.0</td>\n",
       "    </tr>\n",
       "    <tr>\n",
       "      <th>66506</th>\n",
       "      <td>33</td>\n",
       "      <td>6</td>\n",
       "      <td>22166</td>\n",
       "      <td>0.025386</td>\n",
       "      <td>0.0</td>\n",
       "      <td>0.0</td>\n",
       "      <td>0.0</td>\n",
       "    </tr>\n",
       "    <tr>\n",
       "      <th>66507</th>\n",
       "      <td>33</td>\n",
       "      <td>6</td>\n",
       "      <td>22167</td>\n",
       "      <td>0.266128</td>\n",
       "      <td>1.0</td>\n",
       "      <td>1.0</td>\n",
       "      <td>1.0</td>\n",
       "    </tr>\n",
       "    <tr>\n",
       "      <th>66508</th>\n",
       "      <td>33</td>\n",
       "      <td>6</td>\n",
       "      <td>22168</td>\n",
       "      <td>0.025386</td>\n",
       "      <td>0.0</td>\n",
       "      <td>0.0</td>\n",
       "      <td>0.0</td>\n",
       "    </tr>\n",
       "    <tr>\n",
       "      <th>66509</th>\n",
       "      <td>33</td>\n",
       "      <td>6</td>\n",
       "      <td>22169</td>\n",
       "      <td>0.024788</td>\n",
       "      <td>0.0</td>\n",
       "      <td>0.0</td>\n",
       "      <td>0.0</td>\n",
       "    </tr>\n",
       "  </tbody>\n",
       "</table>\n",
       "<p>66510 rows × 7 columns</p>\n",
       "</div>"
      ],
      "text/plain": [
       "       date_block_num  shop_id  item_id  pred_item_cnt_month  \\\n",
       "0                  33        2        0             0.006173   \n",
       "1                  33        2        1             0.001882   \n",
       "2                  33        2        2             0.006173   \n",
       "3                  33        2        3             0.006173   \n",
       "4                  33        2        4             0.006173   \n",
       "...               ...      ...      ...                  ...   \n",
       "66505              33        6    22165             0.027785   \n",
       "66506              33        6    22166             0.025386   \n",
       "66507              33        6    22167             0.266128   \n",
       "66508              33        6    22168             0.025386   \n",
       "66509              33        6    22169             0.024788   \n",
       "\n",
       "       item_cnt_month_x  item_cnt_month_y  item_cnt_month  \n",
       "0                   0.0               0.0             0.0  \n",
       "1                   0.0               0.0             0.0  \n",
       "2                   0.0               0.0             0.0  \n",
       "3                   0.0               0.0             0.0  \n",
       "4                   0.0               0.0             0.0  \n",
       "...                 ...               ...             ...  \n",
       "66505               0.0               0.0             0.0  \n",
       "66506               0.0               0.0             0.0  \n",
       "66507               1.0               1.0             1.0  \n",
       "66508               0.0               0.0             0.0  \n",
       "66509               0.0               0.0             0.0  \n",
       "\n",
       "[66510 rows x 7 columns]"
      ]
     },
     "execution_count": 86,
     "metadata": {},
     "output_type": "execute_result"
    }
   ],
   "source": [
    "# visulising the result \n",
    "date_block = 33\n",
    "\n",
    "df['pred_item_cnt_month'] = pred_cv \n",
    "labal = matrix[(matrix.date_block_num==date_block) & (matrix.shop_id.isin(input1))].reset_index(drop=True)\n",
    "\n",
    "df = pd.merge(df,labal,how ='left', on= ['date_block_num','shop_id','item_id'])\n",
    "# doing round off for better interpretation\n",
    "df.pred_item_cnt_month = df.pred_item_cnt_month.round()\n",
    "\n",
    "df"
   ]
  },
  {
   "cell_type": "markdown",
   "metadata": {},
   "source": [
    "**pridicted value vs actual value - plot**"
   ]
  },
  {
   "cell_type": "code",
   "execution_count": 87,
   "metadata": {
    "id": "yiIEAEMbJnAg",
    "outputId": "792fb08d-6620-4107-fc87-3d302ac94d74",
    "scrolled": true
   },
   "outputs": [
    {
     "data": {
      "image/png": "[encoded data removed]",
      "text/plain": [
       "<Figure size 1440x432 with 1 Axes>"
      ]
     },
     "metadata": {
      "needs_background": "light"
     },
     "output_type": "display_data"
    }
   ],
   "source": [
    "plt.figure(figsize=(20,6))\n",
    "plt.title(\"how model pridicts each 66510 items vs actual value\")\n",
    "plt.plot( list(range(66510)), df.item_cnt_month, label=\"actual\")\n",
    "plt.plot( list(range(66510)), temp, label = \"predicted\")\n",
    "plt.xlabel(\"items\")\n",
    "plt.ylabel(\"count\")\n",
    "plt.legend()\n",
    "plt.show()"
   ]
  },
  {
   "cell_type": "markdown",
   "metadata": {},
   "source": [
    "## test data pridiction"
   ]
  },
  {
   "cell_type": "code",
   "execution_count": 20,
   "metadata": {},
   "outputs": [],
   "source": [
    "test = pd.read_csv(\"test.csv\")"
   ]
  },
  {
   "cell_type": "code",
   "execution_count": 21,
   "metadata": {
    "scrolled": true
   },
   "outputs": [
    {
     "data": {
      "text/html": [
       "<div>\n",
       "<style scoped>\n",
       "    .dataframe tbody tr th:only-of-type {\n",
       "        vertical-align: middle;\n",
       "    }\n",
       "\n",
       "    .dataframe tbody tr th {\n",
       "        vertical-align: top;\n",
       "    }\n",
       "\n",
       "    .dataframe thead th {\n",
       "        text-align: right;\n",
       "    }\n",
       "</style>\n",
       "<table border=\"1\" class=\"dataframe\">\n",
       "  <thead>\n",
       "    <tr style=\"text-align: right;\">\n",
       "      <th></th>\n",
       "      <th>ID</th>\n",
       "      <th>shop_id</th>\n",
       "      <th>item_id</th>\n",
       "    </tr>\n",
       "  </thead>\n",
       "  <tbody>\n",
       "    <tr>\n",
       "      <th>0</th>\n",
       "      <td>0</td>\n",
       "      <td>5</td>\n",
       "      <td>5037</td>\n",
       "    </tr>\n",
       "    <tr>\n",
       "      <th>1</th>\n",
       "      <td>1</td>\n",
       "      <td>5</td>\n",
       "      <td>5320</td>\n",
       "    </tr>\n",
       "    <tr>\n",
       "      <th>2</th>\n",
       "      <td>2</td>\n",
       "      <td>5</td>\n",
       "      <td>5233</td>\n",
       "    </tr>\n",
       "    <tr>\n",
       "      <th>3</th>\n",
       "      <td>3</td>\n",
       "      <td>5</td>\n",
       "      <td>5232</td>\n",
       "    </tr>\n",
       "    <tr>\n",
       "      <th>4</th>\n",
       "      <td>4</td>\n",
       "      <td>5</td>\n",
       "      <td>5268</td>\n",
       "    </tr>\n",
       "  </tbody>\n",
       "</table>\n",
       "</div>"
      ],
      "text/plain": [
       "   ID  shop_id  item_id\n",
       "0   0        5     5037\n",
       "1   1        5     5320\n",
       "2   2        5     5233\n",
       "3   3        5     5232\n",
       "4   4        5     5268"
      ]
     },
     "execution_count": 21,
     "metadata": {},
     "output_type": "execute_result"
    }
   ],
   "source": [
    "test.head()"
   ]
  },
  {
   "cell_type": "code",
   "execution_count": 33,
   "metadata": {},
   "outputs": [],
   "source": [
    "uni_item_id = test.item_id.unique()\n",
    "matrix = matrix[matrix.item_id.isin(uni_item_id)]"
   ]
  },
  {
   "cell_type": "code",
   "execution_count": 37,
   "metadata": {},
   "outputs": [
    {
     "data": {
      "text/html": [
       "<div>\n",
       "<style scoped>\n",
       "    .dataframe tbody tr th:only-of-type {\n",
       "        vertical-align: middle;\n",
       "    }\n",
       "\n",
       "    .dataframe tbody tr th {\n",
       "        vertical-align: top;\n",
       "    }\n",
       "\n",
       "    .dataframe thead th {\n",
       "        text-align: right;\n",
       "    }\n",
       "</style>\n",
       "<table border=\"1\" class=\"dataframe\">\n",
       "  <thead>\n",
       "    <tr style=\"text-align: right;\">\n",
       "      <th></th>\n",
       "      <th>item_name</th>\n",
       "      <th>item_id</th>\n",
       "      <th>item_category_id</th>\n",
       "    </tr>\n",
       "  </thead>\n",
       "  <tbody>\n",
       "    <tr>\n",
       "      <th>0</th>\n",
       "      <td>! ВО ВЛАСТИ НАВАЖДЕНИЯ (ПЛАСТ.)         D</td>\n",
       "      <td>0</td>\n",
       "      <td>40</td>\n",
       "    </tr>\n",
       "    <tr>\n",
       "      <th>1</th>\n",
       "      <td>!ABBYY FineReader 12 Professional Edition Full...</td>\n",
       "      <td>1</td>\n",
       "      <td>76</td>\n",
       "    </tr>\n",
       "    <tr>\n",
       "      <th>2</th>\n",
       "      <td>***В ЛУЧАХ СЛАВЫ   (UNV)                    D</td>\n",
       "      <td>2</td>\n",
       "      <td>40</td>\n",
       "    </tr>\n",
       "    <tr>\n",
       "      <th>3</th>\n",
       "      <td>***ГОЛУБАЯ ВОЛНА  (Univ)                      D</td>\n",
       "      <td>3</td>\n",
       "      <td>40</td>\n",
       "    </tr>\n",
       "    <tr>\n",
       "      <th>4</th>\n",
       "      <td>***КОРОБКА (СТЕКЛО)                       D</td>\n",
       "      <td>4</td>\n",
       "      <td>40</td>\n",
       "    </tr>\n",
       "  </tbody>\n",
       "</table>\n",
       "</div>"
      ],
      "text/plain": [
       "                                           item_name  item_id  \\\n",
       "0          ! ВО ВЛАСТИ НАВАЖДЕНИЯ (ПЛАСТ.)         D        0   \n",
       "1  !ABBYY FineReader 12 Professional Edition Full...        1   \n",
       "2      ***В ЛУЧАХ СЛАВЫ   (UNV)                    D        2   \n",
       "3    ***ГОЛУБАЯ ВОЛНА  (Univ)                      D        3   \n",
       "4        ***КОРОБКА (СТЕКЛО)                       D        4   \n",
       "\n",
       "   item_category_id  \n",
       "0                40  \n",
       "1                76  \n",
       "2                40  \n",
       "3                40  \n",
       "4                40  "
      ]
     },
     "execution_count": 37,
     "metadata": {},
     "output_type": "execute_result"
    }
   ],
   "source": [
    "items.head()"
   ]
  },
  {
   "cell_type": "code",
   "execution_count": 139,
   "metadata": {},
   "outputs": [
    {
     "name": "stdout",
     "output_type": "stream",
     "text": [
      "Wall time: 0 ns\n"
     ]
    }
   ],
   "source": [
    "%%time\n",
    "\n",
    "def lag_feature(df, lags, col):\n",
    "    tmp = df[['date_block_num','shop_id','item_id',col]] \n",
    "    for i in lags:\n",
    "        shifted = tmp.copy()\n",
    "        shifted.columns = ['date_block_num','shop_id','item_id', col+'_lag_'+str(i)]\n",
    "        shifted['date_block_num'] += i\n",
    "        df = pd.merge(df, shifted, on=['date_block_num','shop_id','item_id'], how='left')\n",
    "    df = df[df.item_id>0]\n",
    "    return df\n",
    "\n",
    "\n",
    "def mean_encoding_item (matrix):\n",
    "    group = matrix.groupby(['date_block_num', 'item_id']).agg({'item_cnt_month': ['mean']})\n",
    "    group.columns = [ 'date_item_avg_item_cnt']\n",
    "    group.reset_index(inplace=True)\n",
    "\n",
    "    matrix = pd.merge(matrix, group, on=['date_block_num','item_id'], how='left')\n",
    "    matrix['date_item_avg_item_cnt'] = matrix['date_item_avg_item_cnt'].astype(np.float16)\n",
    "    matrix = lag_feature(matrix, [1,2,3,6,12], 'date_item_avg_item_cnt')\n",
    "    matrix.drop(['date_item_avg_item_cnt'], axis=1, inplace=True)\n",
    "    \n",
    "    return matrix\n",
    "\n",
    "def mean_encoding_shop (matrix):\n",
    "    group = matrix.groupby(['date_block_num', 'shop_id']).agg({'item_cnt_month': ['mean']})\n",
    "    group.columns = [ 'date_shop_avg_item_cnt' ]\n",
    "    group.reset_index(inplace=True)\n",
    "\n",
    "    matrix = pd.merge(matrix, group, on=['date_block_num','shop_id'], how='left')\n",
    "    matrix['date_shop_avg_item_cnt'] = matrix['date_shop_avg_item_cnt'].astype(np.float16)\n",
    "    matrix = lag_feature(matrix, [1,2,3,6,12], 'date_shop_avg_item_cnt')\n",
    "    matrix.drop(['date_shop_avg_item_cnt'], axis=1, inplace=True)\n",
    "    \n",
    "    return matrix\n",
    "\n",
    "def mean_encoding_item_avg_pre_month_cnt(matrix):\n",
    "    # date_avg_item_cnt_lag_1\n",
    "    group = matrix.groupby(['date_block_num']).agg({'item_cnt_month': ['mean']})\n",
    "    group.columns = [ 'date_avg_item_cnt' ]\n",
    "    group.reset_index(inplace=True)\n",
    "\n",
    "    matrix = pd.merge(matrix, group, on=['date_block_num'], how='left')\n",
    "    matrix['date_avg_item_cnt'] = matrix['date_avg_item_cnt'].astype(np.float16)\n",
    "    matrix = lag_feature(matrix, [1], 'date_avg_item_cnt')\n",
    "    matrix['date_avg_item_cnt_lag_1'] = matrix.date_avg_item_cnt_lag_1.replace(np.nan, 0)\n",
    "    matrix.drop(['date_avg_item_cnt'], axis=1, inplace=True)\n",
    "    #pdb.set_trace()\n",
    "    \n",
    "    return matrix\n",
    "\n",
    "def mean_encoding_item_cat (matrix, items):\n",
    "    \n",
    "    \n",
    "    matrix = pd.merge(matrix, items, on= 'item_id', how= 'left')\n",
    "    \n",
    "    group = matrix.groupby(['date_block_num', 'item_category_id']).agg({'item_cnt_month': ['mean']})\n",
    "    group.columns = [ 'date_cat_avg_item_cnt' ]\n",
    "    group.reset_index(inplace=True)\n",
    "\n",
    "    matrix = pd.merge(matrix, group, on=['date_block_num','item_category_id'], how='left')\n",
    "    matrix['date_cat_avg_item_cnt'] = matrix['date_cat_avg_item_cnt'].astype(np.float16)\n",
    "    matrix = lag_feature(matrix, [1], 'date_cat_avg_item_cnt')\n",
    "    matrix.drop(['date_cat_avg_item_cnt'], axis=1, inplace=True)\n",
    "    matrix.drop('item_name', axis=1, inplace= True)\n",
    "    \n",
    "    return matrix\n",
    "\n",
    "    \n",
    "\n",
    "def date_time_feature(matrix):\n",
    "    # adding month\n",
    "    matrix['month'] = matrix['date_block_num'] % 12\n",
    "\n",
    "    # total number of day on that month\n",
    "    days = pd.Series([31,28,31,30,31,30,31,31,30,31,30,31])\n",
    "    matrix['days'] = matrix['month'].map(days).astype(np.int8)\n",
    "    return matrix\n",
    "    \n",
    "# merging all above function and returning data associated to last date_block_num = 34 \n",
    "def add_features(data, item, date_block):    \n",
    "    data = lag_feature(data, [1,2,3,6,12], 'item_cnt_month')\n",
    "    data = mean_encoding_item_avg_pre_month_cnt(data)\n",
    "#     if data.item_id.unique().size>5100:\n",
    "#         pdb.set_trace()\n",
    "        \n",
    "    data = mean_encoding_item(data)\n",
    " \n",
    "    data = mean_encoding_shop(data)\n",
    "\n",
    "    data = mean_encoding_item_cat(data, item)\n",
    "\n",
    "    data = date_time_feature(data)\n",
    " \n",
    "    data = data[data.date_block_num == date_block ] # total 33 month, need only last 12 month  \n",
    "    return data\n",
    "\n",
    "\n",
    "\n",
    "# takes raw input and create all possible pair with item and make ready for prediction(like: X_test) \n",
    "def create_df_for_test(input1, input2, matrix, items):\n",
    "    # modifying matrix based on input_shop_id\n",
    "    matrix = matrix[matrix.shop_id.isin(input1)]\n",
    "    data = matrix[matrix.item_id.isin(input2)]\n",
    "    \n",
    "    # add test data to main matrix\n",
    "    query_data = pd.DataFrame(product(np.sort(input1),np.sort(input2)), columns = ['shop_id', \"item_id\"])\n",
    "    query_data['date_block_num'] = 34\n",
    "    # type casting it as different type of int has different storage\n",
    "    query_data['date_block_num'] = query_data['date_block_num'].astype(np.int8)\n",
    "    query_data['shop_id'] = query_data['shop_id'].astype(np.int8)\n",
    "    query_data['item_id'] = query_data['item_id'].astype(np.int8)\n",
    "    \n",
    "    # concat test data to the whole data in order to compute feature\n",
    "    data = pd.concat([data,query_data],ignore_index=True ,sort=False, keys=['date_block_num','shop_id','item_id'] )\n",
    "    \n",
    "    return data\n",
    "\n"
   ]
  },
  {
   "cell_type": "code",
   "execution_count": 140,
   "metadata": {},
   "outputs": [
    {
     "name": "stdout",
     "output_type": "stream",
     "text": [
      "Wall time: 0 ns\n"
     ]
    }
   ],
   "source": [
    "%%time\n",
    "def final_fun_1(input_x,input_item, clf, matrix, items,date_block):\n",
    "    \n",
    "    data = create_df_for_test(input_x,input_item, matrix, items)\n",
    "    \n",
    "    # need to analysis x_test\n",
    "    x_featured = add_features(data, items, date_block)\n",
    "    \n",
    "    \n",
    "    if x_featured.shape[1] == 24:\n",
    "        pred_x = clf.predict(x_featured)\n",
    "    \n",
    "    return pred_x, x_featured[['date_block_num','shop_id','item_id']]\n",
    "\n",
    "# forcasted_items = final_fun_1(input1, best_model, matrix, items, date_block)"
   ]
  },
  {
   "cell_type": "code",
   "execution_count": 141,
   "metadata": {
    "collapsed": true
   },
   "outputs": [
    {
     "ename": "KeyboardInterrupt",
     "evalue": "",
     "output_type": "error",
     "traceback": [
      "\u001b[1;31m---------------------------------------------------------------------------\u001b[0m",
      "\u001b[1;31mKeyboardInterrupt\u001b[0m                         Traceback (most recent call last)",
      "\u001b[1;32m<ipython-input-141-18789d12aab8>\u001b[0m in \u001b[0;36m<module>\u001b[1;34m\u001b[0m\n\u001b[1;32m----> 1\u001b[1;33m \u001b[0mfinal_fun_1\u001b[0m\u001b[1;33m(\u001b[0m\u001b[0mnp\u001b[0m\u001b[1;33m.\u001b[0m\u001b[0marray\u001b[0m\u001b[1;33m(\u001b[0m\u001b[0minput_shop_id\u001b[0m\u001b[1;33m)\u001b[0m\u001b[1;33m,\u001b[0m \u001b[0mnp\u001b[0m\u001b[1;33m.\u001b[0m\u001b[0marray\u001b[0m\u001b[1;33m(\u001b[0m\u001b[0minput_item_id\u001b[0m\u001b[1;33m)\u001b[0m\u001b[1;33m,\u001b[0m \u001b[0mbest_model\u001b[0m\u001b[1;33m,\u001b[0m \u001b[0mmatrix\u001b[0m\u001b[1;33m,\u001b[0m \u001b[0mitems\u001b[0m\u001b[1;33m,\u001b[0m \u001b[1;36m34\u001b[0m\u001b[1;33m)\u001b[0m\u001b[1;33m\u001b[0m\u001b[1;33m\u001b[0m\u001b[0m\n\u001b[0m",
      "\u001b[1;32m<timed exec>\u001b[0m in \u001b[0;36mfinal_fun_1\u001b[1;34m(input_x, input_item, clf, matrix, items, date_block)\u001b[0m\n",
      "\u001b[1;32m<timed exec>\u001b[0m in \u001b[0;36madd_features\u001b[1;34m(data, item, date_block)\u001b[0m\n",
      "\u001b[1;32m<timed exec>\u001b[0m in \u001b[0;36mlag_feature\u001b[1;34m(df, lags, col)\u001b[0m\n",
      "\u001b[1;32mC:\\ProgramData\\Anaconda3\\lib\\site-packages\\pandas\\core\\reshape\\merge.py\u001b[0m in \u001b[0;36mmerge\u001b[1;34m(left, right, how, on, left_on, right_on, left_index, right_index, sort, suffixes, copy, indicator, validate)\u001b[0m\n\u001b[0;32m     87\u001b[0m         \u001b[0mvalidate\u001b[0m\u001b[1;33m=\u001b[0m\u001b[0mvalidate\u001b[0m\u001b[1;33m,\u001b[0m\u001b[1;33m\u001b[0m\u001b[1;33m\u001b[0m\u001b[0m\n\u001b[0;32m     88\u001b[0m     )\n\u001b[1;32m---> 89\u001b[1;33m     \u001b[1;32mreturn\u001b[0m \u001b[0mop\u001b[0m\u001b[1;33m.\u001b[0m\u001b[0mget_result\u001b[0m\u001b[1;33m(\u001b[0m\u001b[1;33m)\u001b[0m\u001b[1;33m\u001b[0m\u001b[1;33m\u001b[0m\u001b[0m\n\u001b[0m\u001b[0;32m     90\u001b[0m \u001b[1;33m\u001b[0m\u001b[0m\n\u001b[0;32m     91\u001b[0m \u001b[1;33m\u001b[0m\u001b[0m\n",
      "\u001b[1;32mC:\\ProgramData\\Anaconda3\\lib\\site-packages\\pandas\\core\\reshape\\merge.py\u001b[0m in \u001b[0;36mget_result\u001b[1;34m(self)\u001b[0m\n\u001b[0;32m    666\u001b[0m             \u001b[0mself\u001b[0m\u001b[1;33m.\u001b[0m\u001b[0mleft\u001b[0m\u001b[1;33m,\u001b[0m \u001b[0mself\u001b[0m\u001b[1;33m.\u001b[0m\u001b[0mright\u001b[0m \u001b[1;33m=\u001b[0m \u001b[0mself\u001b[0m\u001b[1;33m.\u001b[0m\u001b[0m_indicator_pre_merge\u001b[0m\u001b[1;33m(\u001b[0m\u001b[0mself\u001b[0m\u001b[1;33m.\u001b[0m\u001b[0mleft\u001b[0m\u001b[1;33m,\u001b[0m \u001b[0mself\u001b[0m\u001b[1;33m.\u001b[0m\u001b[0mright\u001b[0m\u001b[1;33m)\u001b[0m\u001b[1;33m\u001b[0m\u001b[1;33m\u001b[0m\u001b[0m\n\u001b[0;32m    667\u001b[0m \u001b[1;33m\u001b[0m\u001b[0m\n\u001b[1;32m--> 668\u001b[1;33m         \u001b[0mjoin_index\u001b[0m\u001b[1;33m,\u001b[0m \u001b[0mleft_indexer\u001b[0m\u001b[1;33m,\u001b[0m \u001b[0mright_indexer\u001b[0m \u001b[1;33m=\u001b[0m \u001b[0mself\u001b[0m\u001b[1;33m.\u001b[0m\u001b[0m_get_join_info\u001b[0m\u001b[1;33m(\u001b[0m\u001b[1;33m)\u001b[0m\u001b[1;33m\u001b[0m\u001b[1;33m\u001b[0m\u001b[0m\n\u001b[0m\u001b[0;32m    669\u001b[0m \u001b[1;33m\u001b[0m\u001b[0m\n\u001b[0;32m    670\u001b[0m         llabels, rlabels = _items_overlap_with_suffix(\n",
      "\u001b[1;32mC:\\ProgramData\\Anaconda3\\lib\\site-packages\\pandas\\core\\reshape\\merge.py\u001b[0m in \u001b[0;36m_get_join_info\u001b[1;34m(self)\u001b[0m\n\u001b[0;32m    882\u001b[0m             )\n\u001b[0;32m    883\u001b[0m         \u001b[1;32melse\u001b[0m\u001b[1;33m:\u001b[0m\u001b[1;33m\u001b[0m\u001b[1;33m\u001b[0m\u001b[0m\n\u001b[1;32m--> 884\u001b[1;33m             \u001b[1;33m(\u001b[0m\u001b[0mleft_indexer\u001b[0m\u001b[1;33m,\u001b[0m \u001b[0mright_indexer\u001b[0m\u001b[1;33m)\u001b[0m \u001b[1;33m=\u001b[0m \u001b[0mself\u001b[0m\u001b[1;33m.\u001b[0m\u001b[0m_get_join_indexers\u001b[0m\u001b[1;33m(\u001b[0m\u001b[1;33m)\u001b[0m\u001b[1;33m\u001b[0m\u001b[1;33m\u001b[0m\u001b[0m\n\u001b[0m\u001b[0;32m    885\u001b[0m \u001b[1;33m\u001b[0m\u001b[0m\n\u001b[0;32m    886\u001b[0m             \u001b[1;32mif\u001b[0m \u001b[0mself\u001b[0m\u001b[1;33m.\u001b[0m\u001b[0mright_index\u001b[0m\u001b[1;33m:\u001b[0m\u001b[1;33m\u001b[0m\u001b[1;33m\u001b[0m\u001b[0m\n",
      "\u001b[1;32mC:\\ProgramData\\Anaconda3\\lib\\site-packages\\pandas\\core\\reshape\\merge.py\u001b[0m in \u001b[0;36m_get_join_indexers\u001b[1;34m(self)\u001b[0m\n\u001b[0;32m    860\u001b[0m     \u001b[1;32mdef\u001b[0m \u001b[0m_get_join_indexers\u001b[0m\u001b[1;33m(\u001b[0m\u001b[0mself\u001b[0m\u001b[1;33m)\u001b[0m\u001b[1;33m:\u001b[0m\u001b[1;33m\u001b[0m\u001b[1;33m\u001b[0m\u001b[0m\n\u001b[0;32m    861\u001b[0m         \u001b[1;34m\"\"\" return the join indexers \"\"\"\u001b[0m\u001b[1;33m\u001b[0m\u001b[1;33m\u001b[0m\u001b[0m\n\u001b[1;32m--> 862\u001b[1;33m         return _get_join_indexers(\n\u001b[0m\u001b[0;32m    863\u001b[0m             \u001b[0mself\u001b[0m\u001b[1;33m.\u001b[0m\u001b[0mleft_join_keys\u001b[0m\u001b[1;33m,\u001b[0m \u001b[0mself\u001b[0m\u001b[1;33m.\u001b[0m\u001b[0mright_join_keys\u001b[0m\u001b[1;33m,\u001b[0m \u001b[0msort\u001b[0m\u001b[1;33m=\u001b[0m\u001b[0mself\u001b[0m\u001b[1;33m.\u001b[0m\u001b[0msort\u001b[0m\u001b[1;33m,\u001b[0m \u001b[0mhow\u001b[0m\u001b[1;33m=\u001b[0m\u001b[0mself\u001b[0m\u001b[1;33m.\u001b[0m\u001b[0mhow\u001b[0m\u001b[1;33m\u001b[0m\u001b[1;33m\u001b[0m\u001b[0m\n\u001b[0;32m    864\u001b[0m         )\n",
      "\u001b[1;32mC:\\ProgramData\\Anaconda3\\lib\\site-packages\\pandas\\core\\reshape\\merge.py\u001b[0m in \u001b[0;36m_get_join_indexers\u001b[1;34m(left_keys, right_keys, sort, how, **kwargs)\u001b[0m\n\u001b[0;32m   1348\u001b[0m     }[how]\n\u001b[0;32m   1349\u001b[0m \u001b[1;33m\u001b[0m\u001b[0m\n\u001b[1;32m-> 1350\u001b[1;33m     \u001b[1;32mreturn\u001b[0m \u001b[0mjoin_func\u001b[0m\u001b[1;33m(\u001b[0m\u001b[0mlkey\u001b[0m\u001b[1;33m,\u001b[0m \u001b[0mrkey\u001b[0m\u001b[1;33m,\u001b[0m \u001b[0mcount\u001b[0m\u001b[1;33m,\u001b[0m \u001b[1;33m**\u001b[0m\u001b[0mkwargs\u001b[0m\u001b[1;33m)\u001b[0m\u001b[1;33m\u001b[0m\u001b[1;33m\u001b[0m\u001b[0m\n\u001b[0m\u001b[0;32m   1351\u001b[0m \u001b[1;33m\u001b[0m\u001b[0m\n\u001b[0;32m   1352\u001b[0m \u001b[1;33m\u001b[0m\u001b[0m\n",
      "\u001b[1;31mKeyboardInterrupt\u001b[0m: "
     ]
    }
   ],
   "source": [
    "final_fun_1(np.array(input_shop_id), np.array(input_item_id), best_model, matrix, items, 34)"
   ]
  },
  {
   "cell_type": "code",
   "execution_count": 65,
   "metadata": {},
   "outputs": [
    {
     "data": {
      "text/plain": [
       "(array([ 5,  4,  6,  3,  2,  7, 10, 12, 28, 31, 26, 25, 22, 24, 21, 15, 16,\n",
       "        18, 14, 19, 42, 50, 49, 53, 52, 47, 48, 57, 58, 59, 55, 56, 36, 37,\n",
       "        35, 38, 34, 46, 41, 44, 39, 45], dtype=int64),\n",
       " array([ 5037,  5320,  5233, ..., 15757, 19648,   969], dtype=int64))"
      ]
     },
     "execution_count": 65,
     "metadata": {},
     "output_type": "execute_result"
    }
   ],
   "source": [
    "input_shop_id = test.shop_id.unique()\n",
    "input_item_id = test.item_id.unique()\n",
    "input_shop_id, input_item_id"
   ]
  },
  {
   "cell_type": "code",
   "execution_count": 142,
   "metadata": {},
   "outputs": [],
   "source": [
    "pred_val, df = final_fun_1(np.sort(input_shop_id), np.sort(input_item_id), best_model, matrix, items, 34)\n",
    "\n",
    "df[\"item_cnt_month\"] = pred_val\n",
    "df = df.drop(\"date_block_num\", axis=1)\n",
    "df = df.sort_values(by= [\"shop_id\", \"item_id\"], ignore_index= True)\n",
    "df1 = df.round(1)\n",
    "\n",
    "df1 = df1[df1.shop_id.isin(input_shop_id)]\n",
    "df1 = df1[df1.item_id.isin(input_item_id)]"
   ]
  },
  {
   "cell_type": "code",
   "execution_count": 151,
   "metadata": {},
   "outputs": [
    {
     "data": {
      "text/plain": [
       "(42, 42, 5100, 5100)"
      ]
     },
     "execution_count": 151,
     "metadata": {},
     "output_type": "execute_result"
    }
   ],
   "source": [
    "df1.shop_id.unique().size, input_shop_id.size, df1.item_id.unique().size, input_item_id.size, "
   ]
  },
  {
   "cell_type": "code",
   "execution_count": 162,
   "metadata": {},
   "outputs": [
    {
     "data": {
      "text/html": [
       "<div>\n",
       "<style scoped>\n",
       "    .dataframe tbody tr th:only-of-type {\n",
       "        vertical-align: middle;\n",
       "    }\n",
       "\n",
       "    .dataframe tbody tr th {\n",
       "        vertical-align: top;\n",
       "    }\n",
       "\n",
       "    .dataframe thead th {\n",
       "        text-align: right;\n",
       "    }\n",
       "</style>\n",
       "<table border=\"1\" class=\"dataframe\">\n",
       "  <thead>\n",
       "    <tr style=\"text-align: right;\">\n",
       "      <th></th>\n",
       "      <th>shop_id</th>\n",
       "      <th>item_id</th>\n",
       "      <th>item_cnt_month</th>\n",
       "    </tr>\n",
       "  </thead>\n",
       "  <tbody>\n",
       "    <tr>\n",
       "      <th>0</th>\n",
       "      <td>2</td>\n",
       "      <td>30</td>\n",
       "      <td>2.4</td>\n",
       "    </tr>\n",
       "    <tr>\n",
       "      <th>1</th>\n",
       "      <td>2</td>\n",
       "      <td>31</td>\n",
       "      <td>11.5</td>\n",
       "    </tr>\n",
       "    <tr>\n",
       "      <th>2</th>\n",
       "      <td>2</td>\n",
       "      <td>32</td>\n",
       "      <td>12.5</td>\n",
       "    </tr>\n",
       "    <tr>\n",
       "      <th>3</th>\n",
       "      <td>2</td>\n",
       "      <td>33</td>\n",
       "      <td>10.5</td>\n",
       "    </tr>\n",
       "    <tr>\n",
       "      <th>4</th>\n",
       "      <td>2</td>\n",
       "      <td>38</td>\n",
       "      <td>2.2</td>\n",
       "    </tr>\n",
       "  </tbody>\n",
       "</table>\n",
       "</div>"
      ],
      "text/plain": [
       "   shop_id  item_id  item_cnt_month\n",
       "0        2       30             2.4\n",
       "1        2       31            11.5\n",
       "2        2       32            12.5\n",
       "3        2       33            10.5\n",
       "4        2       38             2.2"
      ]
     },
     "execution_count": 162,
     "metadata": {},
     "output_type": "execute_result"
    }
   ],
   "source": [
    "df1 = df1.groupby([\"shop_id\", \"item_id\" ]).agg({\"item_cnt_month\":np.sum}).reset_index()\n",
    "df1.head()"
   ]
  },
  {
   "cell_type": "markdown",
   "metadata": {},
   "source": [
    "### **final forecasting value of items of test data**"
   ]
  },
  {
   "cell_type": "code",
   "execution_count": 184,
   "metadata": {},
   "outputs": [
    {
     "data": {
      "text/html": [
       "<div>\n",
       "<style scoped>\n",
       "    .dataframe tbody tr th:only-of-type {\n",
       "        vertical-align: middle;\n",
       "    }\n",
       "\n",
       "    .dataframe tbody tr th {\n",
       "        vertical-align: top;\n",
       "    }\n",
       "\n",
       "    .dataframe thead th {\n",
       "        text-align: right;\n",
       "    }\n",
       "</style>\n",
       "<table border=\"1\" class=\"dataframe\">\n",
       "  <thead>\n",
       "    <tr style=\"text-align: right;\">\n",
       "      <th></th>\n",
       "      <th>ID</th>\n",
       "      <th>shop_id</th>\n",
       "      <th>item_id</th>\n",
       "      <th>item_cnt_month</th>\n",
       "    </tr>\n",
       "  </thead>\n",
       "  <tbody>\n",
       "    <tr>\n",
       "      <th>0</th>\n",
       "      <td>0</td>\n",
       "      <td>5</td>\n",
       "      <td>5037</td>\n",
       "      <td>1.1</td>\n",
       "    </tr>\n",
       "    <tr>\n",
       "      <th>1</th>\n",
       "      <td>1</td>\n",
       "      <td>5</td>\n",
       "      <td>5320</td>\n",
       "      <td>0.1</td>\n",
       "    </tr>\n",
       "    <tr>\n",
       "      <th>2</th>\n",
       "      <td>2</td>\n",
       "      <td>5</td>\n",
       "      <td>5233</td>\n",
       "      <td>1.7</td>\n",
       "    </tr>\n",
       "    <tr>\n",
       "      <th>3</th>\n",
       "      <td>3</td>\n",
       "      <td>5</td>\n",
       "      <td>5232</td>\n",
       "      <td>0.7</td>\n",
       "    </tr>\n",
       "    <tr>\n",
       "      <th>4</th>\n",
       "      <td>4</td>\n",
       "      <td>5</td>\n",
       "      <td>5268</td>\n",
       "      <td>0.5</td>\n",
       "    </tr>\n",
       "  </tbody>\n",
       "</table>\n",
       "</div>"
      ],
      "text/plain": [
       "   ID  shop_id  item_id  item_cnt_month\n",
       "0   0        5     5037             1.1\n",
       "1   1        5     5320             0.1\n",
       "2   2        5     5233             1.7\n",
       "3   3        5     5232             0.7\n",
       "4   4        5     5268             0.5"
      ]
     },
     "execution_count": 184,
     "metadata": {},
     "output_type": "execute_result"
    }
   ],
   "source": [
    "cocat_df = pd.merge(test, df1, on = [\"shop_id\", \"item_id\"], how = \"left\")\n",
    "cocat_df.head()"
   ]
  },
  {
   "cell_type": "code",
   "execution_count": 185,
   "metadata": {},
   "outputs": [
    {
     "data": {
      "text/html": [
       "<div>\n",
       "<style scoped>\n",
       "    .dataframe tbody tr th:only-of-type {\n",
       "        vertical-align: middle;\n",
       "    }\n",
       "\n",
       "    .dataframe tbody tr th {\n",
       "        vertical-align: top;\n",
       "    }\n",
       "\n",
       "    .dataframe thead th {\n",
       "        text-align: right;\n",
       "    }\n",
       "</style>\n",
       "<table border=\"1\" class=\"dataframe\">\n",
       "  <thead>\n",
       "    <tr style=\"text-align: right;\">\n",
       "      <th></th>\n",
       "      <th>ID</th>\n",
       "      <th>item_cnt_month</th>\n",
       "    </tr>\n",
       "  </thead>\n",
       "  <tbody>\n",
       "    <tr>\n",
       "      <th>0</th>\n",
       "      <td>0</td>\n",
       "      <td>1.1</td>\n",
       "    </tr>\n",
       "    <tr>\n",
       "      <th>1</th>\n",
       "      <td>1</td>\n",
       "      <td>0.1</td>\n",
       "    </tr>\n",
       "    <tr>\n",
       "      <th>2</th>\n",
       "      <td>2</td>\n",
       "      <td>1.7</td>\n",
       "    </tr>\n",
       "    <tr>\n",
       "      <th>3</th>\n",
       "      <td>3</td>\n",
       "      <td>0.7</td>\n",
       "    </tr>\n",
       "    <tr>\n",
       "      <th>4</th>\n",
       "      <td>4</td>\n",
       "      <td>0.5</td>\n",
       "    </tr>\n",
       "    <tr>\n",
       "      <th>...</th>\n",
       "      <td>...</td>\n",
       "      <td>...</td>\n",
       "    </tr>\n",
       "    <tr>\n",
       "      <th>214195</th>\n",
       "      <td>214195</td>\n",
       "      <td>0.1</td>\n",
       "    </tr>\n",
       "    <tr>\n",
       "      <th>214196</th>\n",
       "      <td>214196</td>\n",
       "      <td>0.1</td>\n",
       "    </tr>\n",
       "    <tr>\n",
       "      <th>214197</th>\n",
       "      <td>214197</td>\n",
       "      <td>0.1</td>\n",
       "    </tr>\n",
       "    <tr>\n",
       "      <th>214198</th>\n",
       "      <td>214198</td>\n",
       "      <td>0.1</td>\n",
       "    </tr>\n",
       "    <tr>\n",
       "      <th>214199</th>\n",
       "      <td>214199</td>\n",
       "      <td>0.1</td>\n",
       "    </tr>\n",
       "  </tbody>\n",
       "</table>\n",
       "<p>214200 rows × 2 columns</p>\n",
       "</div>"
      ],
      "text/plain": [
       "            ID  item_cnt_month\n",
       "0            0             1.1\n",
       "1            1             0.1\n",
       "2            2             1.7\n",
       "3            3             0.7\n",
       "4            4             0.5\n",
       "...        ...             ...\n",
       "214195  214195             0.1\n",
       "214196  214196             0.1\n",
       "214197  214197             0.1\n",
       "214198  214198             0.1\n",
       "214199  214199             0.1\n",
       "\n",
       "[214200 rows x 2 columns]"
      ]
     },
     "execution_count": 185,
     "metadata": {},
     "output_type": "execute_result"
    }
   ],
   "source": [
    "final_test_pred = cocat_df.drop([\"shop_id\", \"item_id\"], axis =1)\n",
    "final_test_pred"
   ]
  },
  {
   "cell_type": "code",
   "execution_count": 188,
   "metadata": {},
   "outputs": [],
   "source": [
    "# exporting df into csv file\n",
    "final_test_pred.to_csv('test_submission1.csv', index=True)"
   ]
  },
  {
   "cell_type": "markdown",
   "metadata": {
    "id": "TQ3VTXXxJnAh"
   },
   "source": [
    "## conclusion\n"
   ]
  },
  {
   "cell_type": "markdown",
   "metadata": {
    "id": "qrNQ1eJnRGvO"
   },
   "source": [
    "\n",
    "\n",
    "The Best Results were obtained using the CatBoostRegressor. as this model is made for high cardinality categorical data\n",
    "this model gives us the RMSE loss of 0.6998 on cross-validation (as we don't have target value for a test data).\n",
    " \n",
    "Since this is a Kaggle Problem, the final leaderboard score is 0.75368 \n",
    "and our rmse value is 0.6998 which is more than that \n"
   ]
  },
  {
   "cell_type": "markdown",
   "metadata": {
    "id": "G5FPPo3CJnAh"
   },
   "source": [
    "...\n",
    "<!-- \n",
    "**rolling window**\n",
    "\n",
    "in rolling window operation we perform statistic operation on the moving window where\n",
    "window represent range and statistic operation are mean, median, mode , min, max etc\n",
    "pandas provide rolling() which provide rolling window calculations gives values at each time stamp.\n",
    "\n",
    "refer- https://medium.com/data-science-at-microsoft/introduction-to-feature-engineering-for-time-series-forecasting-620aa55fcab0 -->"
   ]
  }
 ],
 "metadata": {
  "accelerator": "GPU",
  "colab": {
   "collapsed_sections": [
    "ta2s4uxGJm_2",
    "R-LRYJxMJnAF",
    "rJKryIyfJnAS",
    "dBZPMULbJnAT",
    "AA3-WLmcJnAU",
    "EfmhhdfzJnAV",
    "ulVdetJRJnAW",
    "mca7jF_7JnAX",
    "rhFYdmq6JnAY"
   ],
   "provenance": []
  },
  "kernelspec": {
   "display_name": "Python 3",
   "language": "python",
   "name": "python3"
  },
  "language_info": {
   "codemirror_mode": {
    "name": "ipython",
    "version": 3
   },
   "file_extension": ".py",
   "mimetype": "text/x-python",
   "name": "python",
   "nbconvert_exporter": "python",
   "pygments_lexer": "ipython3",
   "version": "3.8.5"
  }
 },
 "nbformat": 4,
 "nbformat_minor": 1
}
